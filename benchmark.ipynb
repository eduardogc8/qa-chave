{
 "cells": [
  {
   "cell_type": "code",
   "execution_count": 1,
   "metadata": {
    "scrolled": false
   },
   "outputs": [
    {
     "name": "stderr",
     "output_type": "stream",
     "text": [
      "C:\\ProgramData\\Anaconda3\\lib\\site-packages\\gensim\\utils.py:860: UserWarning: detected Windows; aliasing chunkize to chunkize_serial\n",
      "  warnings.warn(\"detected Windows; aliasing chunkize to chunkize_serial\")\n"
     ]
    },
    {
     "name": "stdout",
     "output_type": "stream",
     "text": [
      "Wall time: 32.4 s\n"
     ]
    }
   ],
   "source": [
    "%%time\n",
    "import manager_dataset as MD\n",
    "import question_processing as QP\n",
    "import information_retrieval as IR\n",
    "import named_entity_recognition as NER\n",
    "import answer_processing as AP\n",
    "from gensim.models import KeyedVectors\n",
    "from util import util"
   ]
  },
  {
   "cell_type": "markdown",
   "metadata": {},
   "source": [
    "### Settings"
   ]
  },
  {
   "cell_type": "markdown",
   "metadata": {},
   "source": [
    "Questions recive all the questions treated"
   ]
  },
  {
   "cell_type": "code",
   "execution_count": 2,
   "metadata": {
    "collapsed": true
   },
   "outputs": [],
   "source": [
    "questions = MD.questions(treated=True)\n",
    "incosiderate_classes = ['X', 'MANNER', 'OBJECT', 'OTHER', 'DEFINITION']\n",
    "questions = QP.remove_incosiderate_classes(questions, incosiderate_classes)  # Question with incosiderate class is removed"
   ]
  },
  {
   "cell_type": "markdown",
   "metadata": {},
   "source": [
    "The questions that has an answer will be used for test while another questions will be used for train."
   ]
  },
  {
   "cell_type": "code",
   "execution_count": 3,
   "metadata": {
    "collapsed": true
   },
   "outputs": [],
   "source": [
    "train_questions, test_questions = MD.split_questions(questions)"
   ]
  },
  {
   "cell_type": "markdown",
   "metadata": {},
   "source": [
    "## Question Processing"
   ]
  },
  {
   "cell_type": "markdown",
   "metadata": {},
   "source": [
    "### Question Classification"
   ]
  },
  {
   "cell_type": "markdown",
   "metadata": {},
   "source": [
    "Questions to train and test"
   ]
  },
  {
   "cell_type": "code",
   "execution_count": 4,
   "metadata": {
    "collapsed": true
   },
   "outputs": [],
   "source": [
    "qc_X_train, qc_y_train = QP.separete_questions(train_questions)"
   ]
  },
  {
   "cell_type": "markdown",
   "metadata": {},
   "source": [
    "Or Load the Word2Vec model"
   ]
  },
  {
   "cell_type": "code",
   "execution_count": null,
   "metadata": {
    "collapsed": true
   },
   "outputs": [],
   "source": [
    "%%time\n",
    "w2v_patch = 'data/word_embedding/cbow_s300.txt'\n",
    "#w2v_patch = 'data/word_embedding/cbow_s50.txt'  # Fast test\n",
    "w2v = KeyedVectors.load_word2vec_format(w2v_patch, unicode_errors=\"ignore\")\n",
    "model_w2v = {w: vec for w, vec in zip(w2v.index2word, w2v.syn0)}"
   ]
  },
  {
   "cell_type": "markdown",
   "metadata": {},
   "source": [
    "And Train a SVM model"
   ]
  },
  {
   "cell_type": "code",
   "execution_count": null,
   "metadata": {
    "collapsed": true
   },
   "outputs": [],
   "source": [
    "%%time\n",
    "classifier = QP.svm_classifier()\n",
    "vectorizer = QP.HybridVectorizer(model_w2v)\n",
    "#vectorizer = QP.MeanEmbeddingVectorizer(model_w2v)\n",
    "#vectorizer = QP.TfidfHybridVectorizer(model_w2v)\n",
    "#vectorizer = QP.SequenceHybridVectorizer(model_w2v)\n",
    "#vectorizer = QP.count_vectorizer(model_w2v)\n",
    "#vectorizer = QP.tfidf_vectorizer(model_w2v)\n",
    "model = QP.train_model(qc_X_train, qc_y_train, classifier, vectorizer)"
   ]
  },
  {
   "cell_type": "markdown",
   "metadata": {},
   "source": [
    "Or Loading the the trained SVM model"
   ]
  },
  {
   "cell_type": "code",
   "execution_count": 5,
   "metadata": {},
   "outputs": [
    {
     "name": "stdout",
     "output_type": "stream",
     "text": [
      "Wall time: 15.6 s\n"
     ]
    }
   ],
   "source": [
    "%%time\n",
    "import dill\n",
    "model = dill.load(open(QP.answer_type_file, 'rb'))"
   ]
  },
  {
   "cell_type": "markdown",
   "metadata": {},
   "source": [
    "Answer type is predicted for all questions"
   ]
  },
  {
   "cell_type": "code",
   "execution_count": 6,
   "metadata": {
    "collapsed": true
   },
   "outputs": [],
   "source": [
    "questions = QP.predict_answer_type(model, test_questions)"
   ]
  },
  {
   "cell_type": "markdown",
   "metadata": {},
   "source": [
    "#### Testing"
   ]
  },
  {
   "cell_type": "code",
   "execution_count": 7,
   "metadata": {},
   "outputs": [
    {
     "name": "stdout",
     "output_type": "stream",
     "text": [
      "Size train: 1694   Size test: 655\n"
     ]
    }
   ],
   "source": [
    "qc_X_test, qc_y_test = QP.separete_questions(test_questions)\n",
    "print('Size train:',len(qc_y_train),'  Size test:',len(qc_y_test))"
   ]
  },
  {
   "cell_type": "code",
   "execution_count": 12,
   "metadata": {},
   "outputs": [
    {
     "name": "stdout",
     "output_type": "stream",
     "text": [
      "Accuracy: 0.906870229008\n",
      "F1 Score: 0.900186476829\n"
     ]
    },
    {
     "data": {
      "application/javascript": [
       "/* Put everything inside the global mpl namespace */\n",
       "window.mpl = {};\n",
       "\n",
       "\n",
       "mpl.get_websocket_type = function() {\n",
       "    if (typeof(WebSocket) !== 'undefined') {\n",
       "        return WebSocket;\n",
       "    } else if (typeof(MozWebSocket) !== 'undefined') {\n",
       "        return MozWebSocket;\n",
       "    } else {\n",
       "        alert('Your browser does not have WebSocket support.' +\n",
       "              'Please try Chrome, Safari or Firefox ≥ 6. ' +\n",
       "              'Firefox 4 and 5 are also supported but you ' +\n",
       "              'have to enable WebSockets in about:config.');\n",
       "    };\n",
       "}\n",
       "\n",
       "mpl.figure = function(figure_id, websocket, ondownload, parent_element) {\n",
       "    this.id = figure_id;\n",
       "\n",
       "    this.ws = websocket;\n",
       "\n",
       "    this.supports_binary = (this.ws.binaryType != undefined);\n",
       "\n",
       "    if (!this.supports_binary) {\n",
       "        var warnings = document.getElementById(\"mpl-warnings\");\n",
       "        if (warnings) {\n",
       "            warnings.style.display = 'block';\n",
       "            warnings.textContent = (\n",
       "                \"This browser does not support binary websocket messages. \" +\n",
       "                    \"Performance may be slow.\");\n",
       "        }\n",
       "    }\n",
       "\n",
       "    this.imageObj = new Image();\n",
       "\n",
       "    this.context = undefined;\n",
       "    this.message = undefined;\n",
       "    this.canvas = undefined;\n",
       "    this.rubberband_canvas = undefined;\n",
       "    this.rubberband_context = undefined;\n",
       "    this.format_dropdown = undefined;\n",
       "\n",
       "    this.image_mode = 'full';\n",
       "\n",
       "    this.root = $('<div/>');\n",
       "    this._root_extra_style(this.root)\n",
       "    this.root.attr('style', 'display: inline-block');\n",
       "\n",
       "    $(parent_element).append(this.root);\n",
       "\n",
       "    this._init_header(this);\n",
       "    this._init_canvas(this);\n",
       "    this._init_toolbar(this);\n",
       "\n",
       "    var fig = this;\n",
       "\n",
       "    this.waiting = false;\n",
       "\n",
       "    this.ws.onopen =  function () {\n",
       "            fig.send_message(\"supports_binary\", {value: fig.supports_binary});\n",
       "            fig.send_message(\"send_image_mode\", {});\n",
       "            if (mpl.ratio != 1) {\n",
       "                fig.send_message(\"set_dpi_ratio\", {'dpi_ratio': mpl.ratio});\n",
       "            }\n",
       "            fig.send_message(\"refresh\", {});\n",
       "        }\n",
       "\n",
       "    this.imageObj.onload = function() {\n",
       "            if (fig.image_mode == 'full') {\n",
       "                // Full images could contain transparency (where diff images\n",
       "                // almost always do), so we need to clear the canvas so that\n",
       "                // there is no ghosting.\n",
       "                fig.context.clearRect(0, 0, fig.canvas.width, fig.canvas.height);\n",
       "            }\n",
       "            fig.context.drawImage(fig.imageObj, 0, 0);\n",
       "        };\n",
       "\n",
       "    this.imageObj.onunload = function() {\n",
       "        fig.ws.close();\n",
       "    }\n",
       "\n",
       "    this.ws.onmessage = this._make_on_message_function(this);\n",
       "\n",
       "    this.ondownload = ondownload;\n",
       "}\n",
       "\n",
       "mpl.figure.prototype._init_header = function() {\n",
       "    var titlebar = $(\n",
       "        '<div class=\"ui-dialog-titlebar ui-widget-header ui-corner-all ' +\n",
       "        'ui-helper-clearfix\"/>');\n",
       "    var titletext = $(\n",
       "        '<div class=\"ui-dialog-title\" style=\"width: 100%; ' +\n",
       "        'text-align: center; padding: 3px;\"/>');\n",
       "    titlebar.append(titletext)\n",
       "    this.root.append(titlebar);\n",
       "    this.header = titletext[0];\n",
       "}\n",
       "\n",
       "\n",
       "\n",
       "mpl.figure.prototype._canvas_extra_style = function(canvas_div) {\n",
       "\n",
       "}\n",
       "\n",
       "\n",
       "mpl.figure.prototype._root_extra_style = function(canvas_div) {\n",
       "\n",
       "}\n",
       "\n",
       "mpl.figure.prototype._init_canvas = function() {\n",
       "    var fig = this;\n",
       "\n",
       "    var canvas_div = $('<div/>');\n",
       "\n",
       "    canvas_div.attr('style', 'position: relative; clear: both; outline: 0');\n",
       "\n",
       "    function canvas_keyboard_event(event) {\n",
       "        return fig.key_event(event, event['data']);\n",
       "    }\n",
       "\n",
       "    canvas_div.keydown('key_press', canvas_keyboard_event);\n",
       "    canvas_div.keyup('key_release', canvas_keyboard_event);\n",
       "    this.canvas_div = canvas_div\n",
       "    this._canvas_extra_style(canvas_div)\n",
       "    this.root.append(canvas_div);\n",
       "\n",
       "    var canvas = $('<canvas/>');\n",
       "    canvas.addClass('mpl-canvas');\n",
       "    canvas.attr('style', \"left: 0; top: 0; z-index: 0; outline: 0\")\n",
       "\n",
       "    this.canvas = canvas[0];\n",
       "    this.context = canvas[0].getContext(\"2d\");\n",
       "\n",
       "    var backingStore = this.context.backingStorePixelRatio ||\n",
       "\tthis.context.webkitBackingStorePixelRatio ||\n",
       "\tthis.context.mozBackingStorePixelRatio ||\n",
       "\tthis.context.msBackingStorePixelRatio ||\n",
       "\tthis.context.oBackingStorePixelRatio ||\n",
       "\tthis.context.backingStorePixelRatio || 1;\n",
       "\n",
       "    mpl.ratio = (window.devicePixelRatio || 1) / backingStore;\n",
       "\n",
       "    var rubberband = $('<canvas/>');\n",
       "    rubberband.attr('style', \"position: absolute; left: 0; top: 0; z-index: 1;\")\n",
       "\n",
       "    var pass_mouse_events = true;\n",
       "\n",
       "    canvas_div.resizable({\n",
       "        start: function(event, ui) {\n",
       "            pass_mouse_events = false;\n",
       "        },\n",
       "        resize: function(event, ui) {\n",
       "            fig.request_resize(ui.size.width, ui.size.height);\n",
       "        },\n",
       "        stop: function(event, ui) {\n",
       "            pass_mouse_events = true;\n",
       "            fig.request_resize(ui.size.width, ui.size.height);\n",
       "        },\n",
       "    });\n",
       "\n",
       "    function mouse_event_fn(event) {\n",
       "        if (pass_mouse_events)\n",
       "            return fig.mouse_event(event, event['data']);\n",
       "    }\n",
       "\n",
       "    rubberband.mousedown('button_press', mouse_event_fn);\n",
       "    rubberband.mouseup('button_release', mouse_event_fn);\n",
       "    // Throttle sequential mouse events to 1 every 20ms.\n",
       "    rubberband.mousemove('motion_notify', mouse_event_fn);\n",
       "\n",
       "    rubberband.mouseenter('figure_enter', mouse_event_fn);\n",
       "    rubberband.mouseleave('figure_leave', mouse_event_fn);\n",
       "\n",
       "    canvas_div.on(\"wheel\", function (event) {\n",
       "        event = event.originalEvent;\n",
       "        event['data'] = 'scroll'\n",
       "        if (event.deltaY < 0) {\n",
       "            event.step = 1;\n",
       "        } else {\n",
       "            event.step = -1;\n",
       "        }\n",
       "        mouse_event_fn(event);\n",
       "    });\n",
       "\n",
       "    canvas_div.append(canvas);\n",
       "    canvas_div.append(rubberband);\n",
       "\n",
       "    this.rubberband = rubberband;\n",
       "    this.rubberband_canvas = rubberband[0];\n",
       "    this.rubberband_context = rubberband[0].getContext(\"2d\");\n",
       "    this.rubberband_context.strokeStyle = \"#000000\";\n",
       "\n",
       "    this._resize_canvas = function(width, height) {\n",
       "        // Keep the size of the canvas, canvas container, and rubber band\n",
       "        // canvas in synch.\n",
       "        canvas_div.css('width', width)\n",
       "        canvas_div.css('height', height)\n",
       "\n",
       "        canvas.attr('width', width * mpl.ratio);\n",
       "        canvas.attr('height', height * mpl.ratio);\n",
       "        canvas.attr('style', 'width: ' + width + 'px; height: ' + height + 'px;');\n",
       "\n",
       "        rubberband.attr('width', width);\n",
       "        rubberband.attr('height', height);\n",
       "    }\n",
       "\n",
       "    // Set the figure to an initial 600x600px, this will subsequently be updated\n",
       "    // upon first draw.\n",
       "    this._resize_canvas(600, 600);\n",
       "\n",
       "    // Disable right mouse context menu.\n",
       "    $(this.rubberband_canvas).bind(\"contextmenu\",function(e){\n",
       "        return false;\n",
       "    });\n",
       "\n",
       "    function set_focus () {\n",
       "        canvas.focus();\n",
       "        canvas_div.focus();\n",
       "    }\n",
       "\n",
       "    window.setTimeout(set_focus, 100);\n",
       "}\n",
       "\n",
       "mpl.figure.prototype._init_toolbar = function() {\n",
       "    var fig = this;\n",
       "\n",
       "    var nav_element = $('<div/>')\n",
       "    nav_element.attr('style', 'width: 100%');\n",
       "    this.root.append(nav_element);\n",
       "\n",
       "    // Define a callback function for later on.\n",
       "    function toolbar_event(event) {\n",
       "        return fig.toolbar_button_onclick(event['data']);\n",
       "    }\n",
       "    function toolbar_mouse_event(event) {\n",
       "        return fig.toolbar_button_onmouseover(event['data']);\n",
       "    }\n",
       "\n",
       "    for(var toolbar_ind in mpl.toolbar_items) {\n",
       "        var name = mpl.toolbar_items[toolbar_ind][0];\n",
       "        var tooltip = mpl.toolbar_items[toolbar_ind][1];\n",
       "        var image = mpl.toolbar_items[toolbar_ind][2];\n",
       "        var method_name = mpl.toolbar_items[toolbar_ind][3];\n",
       "\n",
       "        if (!name) {\n",
       "            // put a spacer in here.\n",
       "            continue;\n",
       "        }\n",
       "        var button = $('<button/>');\n",
       "        button.addClass('ui-button ui-widget ui-state-default ui-corner-all ' +\n",
       "                        'ui-button-icon-only');\n",
       "        button.attr('role', 'button');\n",
       "        button.attr('aria-disabled', 'false');\n",
       "        button.click(method_name, toolbar_event);\n",
       "        button.mouseover(tooltip, toolbar_mouse_event);\n",
       "\n",
       "        var icon_img = $('<span/>');\n",
       "        icon_img.addClass('ui-button-icon-primary ui-icon');\n",
       "        icon_img.addClass(image);\n",
       "        icon_img.addClass('ui-corner-all');\n",
       "\n",
       "        var tooltip_span = $('<span/>');\n",
       "        tooltip_span.addClass('ui-button-text');\n",
       "        tooltip_span.html(tooltip);\n",
       "\n",
       "        button.append(icon_img);\n",
       "        button.append(tooltip_span);\n",
       "\n",
       "        nav_element.append(button);\n",
       "    }\n",
       "\n",
       "    var fmt_picker_span = $('<span/>');\n",
       "\n",
       "    var fmt_picker = $('<select/>');\n",
       "    fmt_picker.addClass('mpl-toolbar-option ui-widget ui-widget-content');\n",
       "    fmt_picker_span.append(fmt_picker);\n",
       "    nav_element.append(fmt_picker_span);\n",
       "    this.format_dropdown = fmt_picker[0];\n",
       "\n",
       "    for (var ind in mpl.extensions) {\n",
       "        var fmt = mpl.extensions[ind];\n",
       "        var option = $(\n",
       "            '<option/>', {selected: fmt === mpl.default_extension}).html(fmt);\n",
       "        fmt_picker.append(option)\n",
       "    }\n",
       "\n",
       "    // Add hover states to the ui-buttons\n",
       "    $( \".ui-button\" ).hover(\n",
       "        function() { $(this).addClass(\"ui-state-hover\");},\n",
       "        function() { $(this).removeClass(\"ui-state-hover\");}\n",
       "    );\n",
       "\n",
       "    var status_bar = $('<span class=\"mpl-message\"/>');\n",
       "    nav_element.append(status_bar);\n",
       "    this.message = status_bar[0];\n",
       "}\n",
       "\n",
       "mpl.figure.prototype.request_resize = function(x_pixels, y_pixels) {\n",
       "    // Request matplotlib to resize the figure. Matplotlib will then trigger a resize in the client,\n",
       "    // which will in turn request a refresh of the image.\n",
       "    this.send_message('resize', {'width': x_pixels, 'height': y_pixels});\n",
       "}\n",
       "\n",
       "mpl.figure.prototype.send_message = function(type, properties) {\n",
       "    properties['type'] = type;\n",
       "    properties['figure_id'] = this.id;\n",
       "    this.ws.send(JSON.stringify(properties));\n",
       "}\n",
       "\n",
       "mpl.figure.prototype.send_draw_message = function() {\n",
       "    if (!this.waiting) {\n",
       "        this.waiting = true;\n",
       "        this.ws.send(JSON.stringify({type: \"draw\", figure_id: this.id}));\n",
       "    }\n",
       "}\n",
       "\n",
       "\n",
       "mpl.figure.prototype.handle_save = function(fig, msg) {\n",
       "    var format_dropdown = fig.format_dropdown;\n",
       "    var format = format_dropdown.options[format_dropdown.selectedIndex].value;\n",
       "    fig.ondownload(fig, format);\n",
       "}\n",
       "\n",
       "\n",
       "mpl.figure.prototype.handle_resize = function(fig, msg) {\n",
       "    var size = msg['size'];\n",
       "    if (size[0] != fig.canvas.width || size[1] != fig.canvas.height) {\n",
       "        fig._resize_canvas(size[0], size[1]);\n",
       "        fig.send_message(\"refresh\", {});\n",
       "    };\n",
       "}\n",
       "\n",
       "mpl.figure.prototype.handle_rubberband = function(fig, msg) {\n",
       "    var x0 = msg['x0'] / mpl.ratio;\n",
       "    var y0 = (fig.canvas.height - msg['y0']) / mpl.ratio;\n",
       "    var x1 = msg['x1'] / mpl.ratio;\n",
       "    var y1 = (fig.canvas.height - msg['y1']) / mpl.ratio;\n",
       "    x0 = Math.floor(x0) + 0.5;\n",
       "    y0 = Math.floor(y0) + 0.5;\n",
       "    x1 = Math.floor(x1) + 0.5;\n",
       "    y1 = Math.floor(y1) + 0.5;\n",
       "    var min_x = Math.min(x0, x1);\n",
       "    var min_y = Math.min(y0, y1);\n",
       "    var width = Math.abs(x1 - x0);\n",
       "    var height = Math.abs(y1 - y0);\n",
       "\n",
       "    fig.rubberband_context.clearRect(\n",
       "        0, 0, fig.canvas.width, fig.canvas.height);\n",
       "\n",
       "    fig.rubberband_context.strokeRect(min_x, min_y, width, height);\n",
       "}\n",
       "\n",
       "mpl.figure.prototype.handle_figure_label = function(fig, msg) {\n",
       "    // Updates the figure title.\n",
       "    fig.header.textContent = msg['label'];\n",
       "}\n",
       "\n",
       "mpl.figure.prototype.handle_cursor = function(fig, msg) {\n",
       "    var cursor = msg['cursor'];\n",
       "    switch(cursor)\n",
       "    {\n",
       "    case 0:\n",
       "        cursor = 'pointer';\n",
       "        break;\n",
       "    case 1:\n",
       "        cursor = 'default';\n",
       "        break;\n",
       "    case 2:\n",
       "        cursor = 'crosshair';\n",
       "        break;\n",
       "    case 3:\n",
       "        cursor = 'move';\n",
       "        break;\n",
       "    }\n",
       "    fig.rubberband_canvas.style.cursor = cursor;\n",
       "}\n",
       "\n",
       "mpl.figure.prototype.handle_message = function(fig, msg) {\n",
       "    fig.message.textContent = msg['message'];\n",
       "}\n",
       "\n",
       "mpl.figure.prototype.handle_draw = function(fig, msg) {\n",
       "    // Request the server to send over a new figure.\n",
       "    fig.send_draw_message();\n",
       "}\n",
       "\n",
       "mpl.figure.prototype.handle_image_mode = function(fig, msg) {\n",
       "    fig.image_mode = msg['mode'];\n",
       "}\n",
       "\n",
       "mpl.figure.prototype.updated_canvas_event = function() {\n",
       "    // Called whenever the canvas gets updated.\n",
       "    this.send_message(\"ack\", {});\n",
       "}\n",
       "\n",
       "// A function to construct a web socket function for onmessage handling.\n",
       "// Called in the figure constructor.\n",
       "mpl.figure.prototype._make_on_message_function = function(fig) {\n",
       "    return function socket_on_message(evt) {\n",
       "        if (evt.data instanceof Blob) {\n",
       "            /* FIXME: We get \"Resource interpreted as Image but\n",
       "             * transferred with MIME type text/plain:\" errors on\n",
       "             * Chrome.  But how to set the MIME type?  It doesn't seem\n",
       "             * to be part of the websocket stream */\n",
       "            evt.data.type = \"image/png\";\n",
       "\n",
       "            /* Free the memory for the previous frames */\n",
       "            if (fig.imageObj.src) {\n",
       "                (window.URL || window.webkitURL).revokeObjectURL(\n",
       "                    fig.imageObj.src);\n",
       "            }\n",
       "\n",
       "            fig.imageObj.src = (window.URL || window.webkitURL).createObjectURL(\n",
       "                evt.data);\n",
       "            fig.updated_canvas_event();\n",
       "            fig.waiting = false;\n",
       "            return;\n",
       "        }\n",
       "        else if (typeof evt.data === 'string' && evt.data.slice(0, 21) == \"data:image/png;base64\") {\n",
       "            fig.imageObj.src = evt.data;\n",
       "            fig.updated_canvas_event();\n",
       "            fig.waiting = false;\n",
       "            return;\n",
       "        }\n",
       "\n",
       "        var msg = JSON.parse(evt.data);\n",
       "        var msg_type = msg['type'];\n",
       "\n",
       "        // Call the  \"handle_{type}\" callback, which takes\n",
       "        // the figure and JSON message as its only arguments.\n",
       "        try {\n",
       "            var callback = fig[\"handle_\" + msg_type];\n",
       "        } catch (e) {\n",
       "            console.log(\"No handler for the '\" + msg_type + \"' message type: \", msg);\n",
       "            return;\n",
       "        }\n",
       "\n",
       "        if (callback) {\n",
       "            try {\n",
       "                // console.log(\"Handling '\" + msg_type + \"' message: \", msg);\n",
       "                callback(fig, msg);\n",
       "            } catch (e) {\n",
       "                console.log(\"Exception inside the 'handler_\" + msg_type + \"' callback:\", e, e.stack, msg);\n",
       "            }\n",
       "        }\n",
       "    };\n",
       "}\n",
       "\n",
       "// from http://stackoverflow.com/questions/1114465/getting-mouse-location-in-canvas\n",
       "mpl.findpos = function(e) {\n",
       "    //this section is from http://www.quirksmode.org/js/events_properties.html\n",
       "    var targ;\n",
       "    if (!e)\n",
       "        e = window.event;\n",
       "    if (e.target)\n",
       "        targ = e.target;\n",
       "    else if (e.srcElement)\n",
       "        targ = e.srcElement;\n",
       "    if (targ.nodeType == 3) // defeat Safari bug\n",
       "        targ = targ.parentNode;\n",
       "\n",
       "    // jQuery normalizes the pageX and pageY\n",
       "    // pageX,Y are the mouse positions relative to the document\n",
       "    // offset() returns the position of the element relative to the document\n",
       "    var x = e.pageX - $(targ).offset().left;\n",
       "    var y = e.pageY - $(targ).offset().top;\n",
       "\n",
       "    return {\"x\": x, \"y\": y};\n",
       "};\n",
       "\n",
       "/*\n",
       " * return a copy of an object with only non-object keys\n",
       " * we need this to avoid circular references\n",
       " * http://stackoverflow.com/a/24161582/3208463\n",
       " */\n",
       "function simpleKeys (original) {\n",
       "  return Object.keys(original).reduce(function (obj, key) {\n",
       "    if (typeof original[key] !== 'object')\n",
       "        obj[key] = original[key]\n",
       "    return obj;\n",
       "  }, {});\n",
       "}\n",
       "\n",
       "mpl.figure.prototype.mouse_event = function(event, name) {\n",
       "    var canvas_pos = mpl.findpos(event)\n",
       "\n",
       "    if (name === 'button_press')\n",
       "    {\n",
       "        this.canvas.focus();\n",
       "        this.canvas_div.focus();\n",
       "    }\n",
       "\n",
       "    var x = canvas_pos.x * mpl.ratio;\n",
       "    var y = canvas_pos.y * mpl.ratio;\n",
       "\n",
       "    this.send_message(name, {x: x, y: y, button: event.button,\n",
       "                             step: event.step,\n",
       "                             guiEvent: simpleKeys(event)});\n",
       "\n",
       "    /* This prevents the web browser from automatically changing to\n",
       "     * the text insertion cursor when the button is pressed.  We want\n",
       "     * to control all of the cursor setting manually through the\n",
       "     * 'cursor' event from matplotlib */\n",
       "    event.preventDefault();\n",
       "    return false;\n",
       "}\n",
       "\n",
       "mpl.figure.prototype._key_event_extra = function(event, name) {\n",
       "    // Handle any extra behaviour associated with a key event\n",
       "}\n",
       "\n",
       "mpl.figure.prototype.key_event = function(event, name) {\n",
       "\n",
       "    // Prevent repeat events\n",
       "    if (name == 'key_press')\n",
       "    {\n",
       "        if (event.which === this._key)\n",
       "            return;\n",
       "        else\n",
       "            this._key = event.which;\n",
       "    }\n",
       "    if (name == 'key_release')\n",
       "        this._key = null;\n",
       "\n",
       "    var value = '';\n",
       "    if (event.ctrlKey && event.which != 17)\n",
       "        value += \"ctrl+\";\n",
       "    if (event.altKey && event.which != 18)\n",
       "        value += \"alt+\";\n",
       "    if (event.shiftKey && event.which != 16)\n",
       "        value += \"shift+\";\n",
       "\n",
       "    value += 'k';\n",
       "    value += event.which.toString();\n",
       "\n",
       "    this._key_event_extra(event, name);\n",
       "\n",
       "    this.send_message(name, {key: value,\n",
       "                             guiEvent: simpleKeys(event)});\n",
       "    return false;\n",
       "}\n",
       "\n",
       "mpl.figure.prototype.toolbar_button_onclick = function(name) {\n",
       "    if (name == 'download') {\n",
       "        this.handle_save(this, null);\n",
       "    } else {\n",
       "        this.send_message(\"toolbar_button\", {name: name});\n",
       "    }\n",
       "};\n",
       "\n",
       "mpl.figure.prototype.toolbar_button_onmouseover = function(tooltip) {\n",
       "    this.message.textContent = tooltip;\n",
       "};\n",
       "mpl.toolbar_items = [[\"Home\", \"Reset original view\", \"fa fa-home icon-home\", \"home\"], [\"Back\", \"Back to  previous view\", \"fa fa-arrow-left icon-arrow-left\", \"back\"], [\"Forward\", \"Forward to next view\", \"fa fa-arrow-right icon-arrow-right\", \"forward\"], [\"\", \"\", \"\", \"\"], [\"Pan\", \"Pan axes with left mouse, zoom with right\", \"fa fa-arrows icon-move\", \"pan\"], [\"Zoom\", \"Zoom to rectangle\", \"fa fa-square-o icon-check-empty\", \"zoom\"], [\"\", \"\", \"\", \"\"], [\"Download\", \"Download plot\", \"fa fa-floppy-o icon-save\", \"download\"]];\n",
       "\n",
       "mpl.extensions = [\"eps\", \"jpeg\", \"pdf\", \"png\", \"ps\", \"raw\", \"svg\", \"tif\"];\n",
       "\n",
       "mpl.default_extension = \"png\";var comm_websocket_adapter = function(comm) {\n",
       "    // Create a \"websocket\"-like object which calls the given IPython comm\n",
       "    // object with the appropriate methods. Currently this is a non binary\n",
       "    // socket, so there is still some room for performance tuning.\n",
       "    var ws = {};\n",
       "\n",
       "    ws.close = function() {\n",
       "        comm.close()\n",
       "    };\n",
       "    ws.send = function(m) {\n",
       "        //console.log('sending', m);\n",
       "        comm.send(m);\n",
       "    };\n",
       "    // Register the callback with on_msg.\n",
       "    comm.on_msg(function(msg) {\n",
       "        //console.log('receiving', msg['content']['data'], msg);\n",
       "        // Pass the mpl event to the overriden (by mpl) onmessage function.\n",
       "        ws.onmessage(msg['content']['data'])\n",
       "    });\n",
       "    return ws;\n",
       "}\n",
       "\n",
       "mpl.mpl_figure_comm = function(comm, msg) {\n",
       "    // This is the function which gets called when the mpl process\n",
       "    // starts-up an IPython Comm through the \"matplotlib\" channel.\n",
       "\n",
       "    var id = msg.content.data.id;\n",
       "    // Get hold of the div created by the display call when the Comm\n",
       "    // socket was opened in Python.\n",
       "    var element = $(\"#\" + id);\n",
       "    var ws_proxy = comm_websocket_adapter(comm)\n",
       "\n",
       "    function ondownload(figure, format) {\n",
       "        window.open(figure.imageObj.src);\n",
       "    }\n",
       "\n",
       "    var fig = new mpl.figure(id, ws_proxy,\n",
       "                           ondownload,\n",
       "                           element.get(0));\n",
       "\n",
       "    // Call onopen now - mpl needs it, as it is assuming we've passed it a real\n",
       "    // web socket which is closed, not our websocket->open comm proxy.\n",
       "    ws_proxy.onopen();\n",
       "\n",
       "    fig.parent_element = element.get(0);\n",
       "    fig.cell_info = mpl.find_output_cell(\"<div id='\" + id + \"'></div>\");\n",
       "    if (!fig.cell_info) {\n",
       "        console.error(\"Failed to find cell for figure\", id, fig);\n",
       "        return;\n",
       "    }\n",
       "\n",
       "    var output_index = fig.cell_info[2]\n",
       "    var cell = fig.cell_info[0];\n",
       "\n",
       "};\n",
       "\n",
       "mpl.figure.prototype.handle_close = function(fig, msg) {\n",
       "    var width = fig.canvas.width/mpl.ratio\n",
       "    fig.root.unbind('remove')\n",
       "\n",
       "    // Update the output cell to use the data from the current canvas.\n",
       "    fig.push_to_output();\n",
       "    var dataURL = fig.canvas.toDataURL();\n",
       "    // Re-enable the keyboard manager in IPython - without this line, in FF,\n",
       "    // the notebook keyboard shortcuts fail.\n",
       "    IPython.keyboard_manager.enable()\n",
       "    $(fig.parent_element).html('<img src=\"' + dataURL + '\" width=\"' + width + '\">');\n",
       "    fig.close_ws(fig, msg);\n",
       "}\n",
       "\n",
       "mpl.figure.prototype.close_ws = function(fig, msg){\n",
       "    fig.send_message('closing', msg);\n",
       "    // fig.ws.close()\n",
       "}\n",
       "\n",
       "mpl.figure.prototype.push_to_output = function(remove_interactive) {\n",
       "    // Turn the data on the canvas into data in the output cell.\n",
       "    var width = this.canvas.width/mpl.ratio\n",
       "    var dataURL = this.canvas.toDataURL();\n",
       "    this.cell_info[1]['text/html'] = '<img src=\"' + dataURL + '\" width=\"' + width + '\">';\n",
       "}\n",
       "\n",
       "mpl.figure.prototype.updated_canvas_event = function() {\n",
       "    // Tell IPython that the notebook contents must change.\n",
       "    IPython.notebook.set_dirty(true);\n",
       "    this.send_message(\"ack\", {});\n",
       "    var fig = this;\n",
       "    // Wait a second, then push the new image to the DOM so\n",
       "    // that it is saved nicely (might be nice to debounce this).\n",
       "    setTimeout(function () { fig.push_to_output() }, 1000);\n",
       "}\n",
       "\n",
       "mpl.figure.prototype._init_toolbar = function() {\n",
       "    var fig = this;\n",
       "\n",
       "    var nav_element = $('<div/>')\n",
       "    nav_element.attr('style', 'width: 100%');\n",
       "    this.root.append(nav_element);\n",
       "\n",
       "    // Define a callback function for later on.\n",
       "    function toolbar_event(event) {\n",
       "        return fig.toolbar_button_onclick(event['data']);\n",
       "    }\n",
       "    function toolbar_mouse_event(event) {\n",
       "        return fig.toolbar_button_onmouseover(event['data']);\n",
       "    }\n",
       "\n",
       "    for(var toolbar_ind in mpl.toolbar_items){\n",
       "        var name = mpl.toolbar_items[toolbar_ind][0];\n",
       "        var tooltip = mpl.toolbar_items[toolbar_ind][1];\n",
       "        var image = mpl.toolbar_items[toolbar_ind][2];\n",
       "        var method_name = mpl.toolbar_items[toolbar_ind][3];\n",
       "\n",
       "        if (!name) { continue; };\n",
       "\n",
       "        var button = $('<button class=\"btn btn-default\" href=\"#\" title=\"' + name + '\"><i class=\"fa ' + image + ' fa-lg\"></i></button>');\n",
       "        button.click(method_name, toolbar_event);\n",
       "        button.mouseover(tooltip, toolbar_mouse_event);\n",
       "        nav_element.append(button);\n",
       "    }\n",
       "\n",
       "    // Add the status bar.\n",
       "    var status_bar = $('<span class=\"mpl-message\" style=\"text-align:right; float: right;\"/>');\n",
       "    nav_element.append(status_bar);\n",
       "    this.message = status_bar[0];\n",
       "\n",
       "    // Add the close button to the window.\n",
       "    var buttongrp = $('<div class=\"btn-group inline pull-right\"></div>');\n",
       "    var button = $('<button class=\"btn btn-mini btn-primary\" href=\"#\" title=\"Stop Interaction\"><i class=\"fa fa-power-off icon-remove icon-large\"></i></button>');\n",
       "    button.click(function (evt) { fig.handle_close(fig, {}); } );\n",
       "    button.mouseover('Stop Interaction', toolbar_mouse_event);\n",
       "    buttongrp.append(button);\n",
       "    var titlebar = this.root.find($('.ui-dialog-titlebar'));\n",
       "    titlebar.prepend(buttongrp);\n",
       "}\n",
       "\n",
       "mpl.figure.prototype._root_extra_style = function(el){\n",
       "    var fig = this\n",
       "    el.on(\"remove\", function(){\n",
       "\tfig.close_ws(fig, {});\n",
       "    });\n",
       "}\n",
       "\n",
       "mpl.figure.prototype._canvas_extra_style = function(el){\n",
       "    // this is important to make the div 'focusable\n",
       "    el.attr('tabindex', 0)\n",
       "    // reach out to IPython and tell the keyboard manager to turn it's self\n",
       "    // off when our div gets focus\n",
       "\n",
       "    // location in version 3\n",
       "    if (IPython.notebook.keyboard_manager) {\n",
       "        IPython.notebook.keyboard_manager.register_events(el);\n",
       "    }\n",
       "    else {\n",
       "        // location in version 2\n",
       "        IPython.keyboard_manager.register_events(el);\n",
       "    }\n",
       "\n",
       "}\n",
       "\n",
       "mpl.figure.prototype._key_event_extra = function(event, name) {\n",
       "    var manager = IPython.notebook.keyboard_manager;\n",
       "    if (!manager)\n",
       "        manager = IPython.keyboard_manager;\n",
       "\n",
       "    // Check for shift+enter\n",
       "    if (event.shiftKey && event.which == 13) {\n",
       "        this.canvas_div.blur();\n",
       "        event.shiftKey = false;\n",
       "        // Send a \"J\" for go to next cell\n",
       "        event.which = 74;\n",
       "        event.keyCode = 74;\n",
       "        manager.command_mode();\n",
       "        manager.handle_keydown(event);\n",
       "    }\n",
       "}\n",
       "\n",
       "mpl.figure.prototype.handle_save = function(fig, msg) {\n",
       "    fig.ondownload(fig, null);\n",
       "}\n",
       "\n",
       "\n",
       "mpl.find_output_cell = function(html_output) {\n",
       "    // Return the cell and output element which can be found *uniquely* in the notebook.\n",
       "    // Note - this is a bit hacky, but it is done because the \"notebook_saving.Notebook\"\n",
       "    // IPython event is triggered only after the cells have been serialised, which for\n",
       "    // our purposes (turning an active figure into a static one), is too late.\n",
       "    var cells = IPython.notebook.get_cells();\n",
       "    var ncells = cells.length;\n",
       "    for (var i=0; i<ncells; i++) {\n",
       "        var cell = cells[i];\n",
       "        if (cell.cell_type === 'code'){\n",
       "            for (var j=0; j<cell.output_area.outputs.length; j++) {\n",
       "                var data = cell.output_area.outputs[j];\n",
       "                if (data.data) {\n",
       "                    // IPython >= 3 moved mimebundle to data attribute of output\n",
       "                    data = data.data;\n",
       "                }\n",
       "                if (data['text/html'] == html_output) {\n",
       "                    return [cell, data, j];\n",
       "                }\n",
       "            }\n",
       "        }\n",
       "    }\n",
       "}\n",
       "\n",
       "// Register the function which deals with the matplotlib target/channel.\n",
       "// The kernel may be null if the page has been refreshed.\n",
       "if (IPython.notebook.kernel != null) {\n",
       "    IPython.notebook.kernel.comm_manager.register_target('matplotlib', mpl.mpl_figure_comm);\n",
       "}\n"
      ],
      "text/plain": [
       "<IPython.core.display.Javascript object>"
      ]
     },
     "metadata": {},
     "output_type": "display_data"
    },
    {
     "data": {
      "text/html": [
       "<img src=\"data:image/png;base64,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\" width=\"640\">"
      ],
      "text/plain": [
       "<IPython.core.display.HTML object>"
      ]
     },
     "metadata": {},
     "output_type": "display_data"
    }
   ],
   "source": [
    "%matplotlib notebook\n",
    "confusion_matrix = QP.testing(model, qc_X_test, qc_y_test)\n",
    "QP.plot_confusion_matrix(confusion_matrix, ['LOCATION', 'MEASURE', 'ORGANIZATION', 'PERSON', 'TIME'], normalize=True)"
   ]
  },
  {
   "cell_type": "markdown",
   "metadata": {},
   "source": [
    "### Query Formulation"
   ]
  },
  {
   "cell_type": "markdown",
   "metadata": {},
   "source": [
    "All test questions will recive the query for IR module. "
   ]
  },
  {
   "cell_type": "code",
   "execution_count": 9,
   "metadata": {
    "collapsed": true
   },
   "outputs": [],
   "source": [
    "test_questions = QP.queryFormulation(test_questions)"
   ]
  },
  {
   "cell_type": "markdown",
   "metadata": {},
   "source": [
    "## Information Retrieval"
   ]
  },
  {
   "cell_type": "markdown",
   "metadata": {},
   "source": [
    "### Document Retrieval"
   ]
  },
  {
   "cell_type": "code",
   "execution_count": 24,
   "metadata": {
    "collapsed": true
   },
   "outputs": [],
   "source": [
    "import information_retrieval as IR\n",
    "ir = IR.InformationRetrieval()"
   ]
  },
  {
   "cell_type": "markdown",
   "metadata": {},
   "source": [
    "Start the IR module. If the documents was not indexed then they will be.\n",
    "When reset is True, all indexed documents is removed and indexed again."
   ]
  },
  {
   "cell_type": "code",
   "execution_count": 28,
   "metadata": {},
   "outputs": [
    {
     "name": "stdout",
     "output_type": "stream",
     "text": [
      "Indexing:\n",
      "File: 51511 lines: \n",
      "51511/51510\n",
      "File: 51674 lines: \n",
      "51674/51673\n",
      "File: 51389 lines: \n",
      "51389/51388\n",
      "File: 54708 lines: \n",
      "54708/54707\n",
      "End\n"
     ]
    }
   ],
   "source": [
    "ir.start(reset=False)"
   ]
  },
  {
   "cell_type": "code",
   "execution_count": 38,
   "metadata": {},
   "outputs": [
    {
     "name": "stdout",
     "output_type": "stream",
     "text": [
      "Wall time: 3.3 s\n"
     ]
    }
   ],
   "source": [
    "%%time\n",
    "test_questions = ir.retrievalDocuments(test_questions)"
   ]
  },
  {
   "cell_type": "markdown",
   "metadata": {},
   "source": [
    "#### Testing"
   ]
  },
  {
   "cell_type": "code",
   "execution_count": 39,
   "metadata": {},
   "outputs": [
    {
     "name": "stdout",
     "output_type": "stream",
     "text": [
      "Precision: 0.060141509434\n",
      "Recall: 0.492391060198\n",
      "F-Score: 0.104694452329\n"
     ]
    }
   ],
   "source": [
    "import numpy as np\n",
    "\n",
    "precisions = []\n",
    "recalls = []\n",
    "f_scores = []\n",
    "b = 0.5\n",
    "for question in test_questions:\n",
    "    relevants = []\n",
    "    for answer in question['answers']:\n",
    "        if answer['doc'] is not None and len(answer['doc']) > 0:\n",
    "            relevants.append(answer['doc'])\n",
    "    total_relevants = len(relevants)\n",
    "    if total_relevants == 0:\n",
    "        continue\n",
    "    relevents_retrieval = 0\n",
    "    for retrieval in question['retrieval']:\n",
    "        if retrieval in relevants:\n",
    "            relevents_retrieval += 1\n",
    "    if len(question['retrieval']) == 0:\n",
    "           # print(question['query'])\n",
    "            precision = 0\n",
    "    else:\n",
    "        precision = relevents_retrieval / len(question['retrieval'])\n",
    "    precisions.append(precision)\n",
    "    recall = relevents_retrieval / total_relevants\n",
    "    recalls.append(recall)\n",
    "    if (precision + recall) == 0:\n",
    "        f_score = 0\n",
    "    else:\n",
    "        f_score = 2 * ((precision * recall) / (precision + recall))\n",
    "    f_scores.append(f_score)\n",
    "\n",
    "print('Precision: '+str(np.mean(precisions)))\n",
    "print('Recall: '+str(np.mean(recalls)))\n",
    "print('F-Score: '+str(np.mean(f_scores)))"
   ]
  },
  {
   "cell_type": "code",
   "execution_count": null,
   "metadata": {
    "collapsed": true
   },
   "outputs": [],
   "source": [
    "test_questions[0]"
   ]
  },
  {
   "cell_type": "code",
   "execution_count": 37,
   "metadata": {},
   "outputs": [
    {
     "data": {
      "text/plain": [
       "['PUBLICO-19940328-046', 'FSP940201-077', 'PUBLICO-19940724-039']"
      ]
     },
     "execution_count": 37,
     "metadata": {},
     "output_type": "execute_result"
    }
   ],
   "source": [
    "test_questions[0]['retrieval']"
   ]
  },
  {
   "cell_type": "code",
   "execution_count": null,
   "metadata": {
    "collapsed": true
   },
   "outputs": [],
   "source": [
    "test_questions[0]['answers']"
   ]
  },
  {
   "cell_type": "markdown",
   "metadata": {},
   "source": [
    "## Answer Processing"
   ]
  },
  {
   "cell_type": "markdown",
   "metadata": {},
   "source": [
    "### Named Entity Recognition"
   ]
  },
  {
   "cell_type": "code",
   "execution_count": 20,
   "metadata": {
    "collapsed": true
   },
   "outputs": [],
   "source": [
    "import named_entity_recognition as NER\n",
    "\n",
    "model_ner = NER.train()"
   ]
  },
  {
   "cell_type": "markdown",
   "metadata": {},
   "source": [
    "#### Testing"
   ]
  },
  {
   "cell_type": "code",
   "execution_count": 21,
   "metadata": {},
   "outputs": [
    {
     "data": {
      "text/plain": [
       "[['O', 'O', 'O', 'LOCAL-B', 'LOCAL-I']]"
      ]
     },
     "execution_count": 21,
     "metadata": {},
     "output_type": "execute_result"
    }
   ],
   "source": [
    "NER.predict(model_ner, u'A cidade de Porto Seguro')"
   ]
  },
  {
   "cell_type": "markdown",
   "metadata": {},
   "source": [
    "### Answer Extraction"
   ]
  },
  {
   "cell_type": "code",
   "execution_count": 34,
   "metadata": {},
   "outputs": [
    {
     "name": "stdout",
     "output_type": "stream",
     "text": [
      "[ . . . . . . . . . . ]\n"
     ]
    }
   ],
   "source": [
    "test_questions = AP.answer_candidates(test_questions, QP, ir, NER, model_ner)"
   ]
  },
  {
   "cell_type": "markdown",
   "metadata": {},
   "source": [
    "### Answer Extraction"
   ]
  },
  {
   "cell_type": "code",
   "execution_count": 35,
   "metadata": {},
   "outputs": [
    {
     "name": "stdout",
     "output_type": "stream",
     "text": [
      "655/0\n"
     ]
    },
    {
     "ename": "KeyboardInterrupt",
     "evalue": "",
     "output_type": "error",
     "traceback": [
      "\u001b[1;31m---------------------------------------------------------------------------\u001b[0m",
      "\u001b[1;31mKeyboardInterrupt\u001b[0m                         Traceback (most recent call last)",
      "\u001b[1;32m<ipython-input-35-39c3178f0e83>\u001b[0m in \u001b[0;36m<module>\u001b[1;34m()\u001b[0m\n\u001b[1;32m----> 1\u001b[1;33m \u001b[0mtest_questions\u001b[0m \u001b[1;33m=\u001b[0m \u001b[0mAP\u001b[0m\u001b[1;33m.\u001b[0m\u001b[0mfinals_answer\u001b[0m\u001b[1;33m(\u001b[0m\u001b[0mtest_questions\u001b[0m\u001b[1;33m)\u001b[0m\u001b[1;33m\u001b[0m\u001b[0m\n\u001b[0m",
      "\u001b[1;32m~\\UFRGS\\QA\\qa-chave\\answer_processing.py\u001b[0m in \u001b[0;36mfinals_answer\u001b[1;34m(questions)\u001b[0m\n\u001b[0;32m    107\u001b[0m                     \u001b[1;32mcontinue\u001b[0m\u001b[1;33m\u001b[0m\u001b[0m\n\u001b[0;32m    108\u001b[0m                 \u001b[1;32melse\u001b[0m\u001b[1;33m:\u001b[0m\u001b[1;33m\u001b[0m\u001b[0m\n\u001b[1;32m--> 109\u001b[1;33m                     \u001b[0mret\u001b[0m \u001b[1;33m=\u001b[0m \u001b[0mutil\u001b[0m\u001b[1;33m.\u001b[0m\u001b[0mshortSentenceDistance\u001b[0m\u001b[1;33m(\u001b[0m\u001b[0mcandidate\u001b[0m\u001b[1;33m[\u001b[0m\u001b[1;34m'document_text'\u001b[0m\u001b[1;33m]\u001b[0m\u001b[1;33m,\u001b[0m \u001b[0mqw\u001b[0m\u001b[1;33m,\u001b[0m \u001b[0mcandidate\u001b[0m\u001b[1;33m[\u001b[0m\u001b[1;34m'full_answer'\u001b[0m\u001b[1;33m]\u001b[0m\u001b[1;33m)\u001b[0m\u001b[1;33m\u001b[0m\u001b[0m\n\u001b[0m\u001b[0;32m    110\u001b[0m                     \u001b[1;32mif\u001b[0m \u001b[0mret\u001b[0m \u001b[1;32mis\u001b[0m \u001b[1;32mNone\u001b[0m\u001b[1;33m:\u001b[0m\u001b[1;33m\u001b[0m\u001b[0m\n\u001b[0;32m    111\u001b[0m                         \u001b[0mret\u001b[0m \u001b[1;33m=\u001b[0m \u001b[1;36m30\u001b[0m\u001b[1;33m\u001b[0m\u001b[0m\n",
      "\u001b[1;32m~\\UFRGS\\QA\\qa-chave\\util\\util.py\u001b[0m in \u001b[0;36mshortSentenceDistance\u001b[1;34m(text, sentence1, sentence2)\u001b[0m\n\u001b[0;32m     61\u001b[0m \u001b[1;32mdef\u001b[0m \u001b[0mshortSentenceDistance\u001b[0m\u001b[1;33m(\u001b[0m\u001b[0mtext\u001b[0m\u001b[1;33m,\u001b[0m \u001b[0msentence1\u001b[0m\u001b[1;33m,\u001b[0m \u001b[0msentence2\u001b[0m\u001b[1;33m)\u001b[0m\u001b[1;33m:\u001b[0m\u001b[1;33m\u001b[0m\u001b[0m\n\u001b[0;32m     62\u001b[0m     \u001b[1;32mif\u001b[0m \u001b[0msentence1\u001b[0m \u001b[1;32min\u001b[0m \u001b[0mtext\u001b[0m \u001b[1;32mand\u001b[0m \u001b[0msentence2\u001b[0m \u001b[1;32min\u001b[0m \u001b[0mtext\u001b[0m\u001b[1;33m:\u001b[0m\u001b[1;33m\u001b[0m\u001b[0m\n\u001b[1;32m---> 63\u001b[1;33m         \u001b[0mindexs1\u001b[0m \u001b[1;33m=\u001b[0m \u001b[0mfindSentenceIndexs\u001b[0m\u001b[1;33m(\u001b[0m\u001b[0mtext\u001b[0m\u001b[1;33m,\u001b[0m \u001b[0msentence1\u001b[0m\u001b[1;33m)\u001b[0m\u001b[1;33m\u001b[0m\u001b[0m\n\u001b[0m\u001b[0;32m     64\u001b[0m         \u001b[0mindexs2\u001b[0m \u001b[1;33m=\u001b[0m \u001b[0mfindSentenceIndexs\u001b[0m\u001b[1;33m(\u001b[0m\u001b[0mtext\u001b[0m\u001b[1;33m,\u001b[0m \u001b[0msentence2\u001b[0m\u001b[1;33m)\u001b[0m\u001b[1;33m\u001b[0m\u001b[0m\n\u001b[0;32m     65\u001b[0m         \u001b[0mdistance\u001b[0m \u001b[1;33m=\u001b[0m \u001b[0mfloat\u001b[0m\u001b[1;33m(\u001b[0m\u001b[1;34m'inf'\u001b[0m\u001b[1;33m)\u001b[0m\u001b[1;33m\u001b[0m\u001b[0m\n",
      "\u001b[1;32m~\\UFRGS\\QA\\qa-chave\\util\\util.py\u001b[0m in \u001b[0;36mfindSentenceIndexs\u001b[1;34m(text, sentence)\u001b[0m\n\u001b[0;32m     48\u001b[0m     \u001b[0msentIndex\u001b[0m \u001b[1;33m=\u001b[0m \u001b[1;36m0\u001b[0m\u001b[1;33m\u001b[0m\u001b[0m\n\u001b[0;32m     49\u001b[0m     \u001b[1;32mfor\u001b[0m \u001b[0mi\u001b[0m \u001b[1;32min\u001b[0m \u001b[0mrange\u001b[0m\u001b[1;33m(\u001b[0m\u001b[0mlen\u001b[0m\u001b[1;33m(\u001b[0m\u001b[0mtext\u001b[0m\u001b[1;33m.\u001b[0m\u001b[0msplit\u001b[0m\u001b[1;33m(\u001b[0m\u001b[1;33m)\u001b[0m\u001b[1;33m)\u001b[0m\u001b[1;33m)\u001b[0m\u001b[1;33m:\u001b[0m\u001b[1;33m\u001b[0m\u001b[0m\n\u001b[1;32m---> 50\u001b[1;33m         \u001b[0mword\u001b[0m \u001b[1;33m=\u001b[0m \u001b[0mtext\u001b[0m\u001b[1;33m.\u001b[0m\u001b[0msplit\u001b[0m\u001b[1;33m(\u001b[0m\u001b[1;33m)\u001b[0m\u001b[1;33m[\u001b[0m\u001b[0mi\u001b[0m\u001b[1;33m]\u001b[0m\u001b[1;33m\u001b[0m\u001b[0m\n\u001b[0m\u001b[0;32m     51\u001b[0m         \u001b[1;32mif\u001b[0m \u001b[0mword\u001b[0m \u001b[1;33m==\u001b[0m \u001b[0msentence\u001b[0m\u001b[1;33m.\u001b[0m\u001b[0msplit\u001b[0m\u001b[1;33m(\u001b[0m\u001b[1;33m)\u001b[0m\u001b[1;33m[\u001b[0m\u001b[0msentIndex\u001b[0m\u001b[1;33m]\u001b[0m\u001b[1;33m:\u001b[0m\u001b[1;33m\u001b[0m\u001b[0m\n\u001b[0;32m     52\u001b[0m             \u001b[1;32mif\u001b[0m \u001b[0msentIndex\u001b[0m \u001b[1;33m==\u001b[0m \u001b[0mlen\u001b[0m\u001b[1;33m(\u001b[0m\u001b[0msentence\u001b[0m\u001b[1;33m.\u001b[0m\u001b[0msplit\u001b[0m\u001b[1;33m(\u001b[0m\u001b[1;33m)\u001b[0m\u001b[1;33m)\u001b[0m\u001b[1;33m-\u001b[0m\u001b[1;36m1\u001b[0m\u001b[1;33m:\u001b[0m\u001b[1;33m\u001b[0m\u001b[0m\n",
      "\u001b[1;31mKeyboardInterrupt\u001b[0m: "
     ]
    }
   ],
   "source": [
    "test_questions = AP.finals_answer(test_questions)"
   ]
  },
  {
   "cell_type": "markdown",
   "metadata": {},
   "source": [
    "#### Testing"
   ]
  },
  {
   "cell_type": "markdown",
   "metadata": {},
   "source": [
    "Check if the answer_candidates have the right answer"
   ]
  },
  {
   "cell_type": "code",
   "execution_count": null,
   "metadata": {
    "collapsed": true
   },
   "outputs": [],
   "source": [
    "AP.test_answer_candidates(test_questions)"
   ]
  },
  {
   "cell_type": "markdown",
   "metadata": {},
   "source": [
    "## Final Evaluate"
   ]
  },
  {
   "cell_type": "code",
   "execution_count": null,
   "metadata": {
    "collapsed": true
   },
   "outputs": [],
   "source": [
    "for i in range(len(test_questions)):\n",
    "    print(test_questions[i]['question'])\n",
    "    print(test_questions[i]['final_answer'])\n",
    "    for answer in test_questions[i]['answers']:\n",
    "        if answer['answer'] is not None:\n",
    "            print(answer['answer'].strip(), end=' | ')\n",
    "    print('\\n')"
   ]
  },
  {
   "cell_type": "code",
   "execution_count": null,
   "metadata": {
    "collapsed": true
   },
   "outputs": [],
   "source": [
    "total = len(test_questions)\n",
    "right = 0\n",
    "\n",
    "cc_total = 0  # Total of question with correct candidates\n",
    "cc_right = 0\n",
    "\n",
    "for question in test_questions:\n",
    "    aux = False\n",
    "    if question['correct_answers_candidates']:\n",
    "        aux = True\n",
    "        cc_total += 1\n",
    "    for answer in question['answers']:\n",
    "        if answer['answer'] is not None:\n",
    "            a1 = answer['answer'].lower().replace(',', '').replace('.', '').replace(';', '').replace('(','').replace(')','').replace(u'«','').replace(u'»','').strip()\n",
    "            a2 = question['final_answer'].lower().replace(',', '').replace('.', '').replace(';', '').replace('(','').replace(')','').replace(u'«','').replace(u'»','').strip()\n",
    "            if a1 in a2 or a2 in a1:\n",
    "                question['correct_final_answer'] = True\n",
    "                right += 1\n",
    "                if aux:\n",
    "                    cc_right += 1\n",
    "                break\n",
    "print(str(total) + ' / ' + str(right))\n",
    "print('Accuracy: '+ '%.3f' % ((right/total)*100)+' %')\n",
    "print('\\nCorrect answer candidates:\\n' + str(cc_total) + ' / ' + str(cc_right))\n",
    "print('Accuracy: '+ '%.3f' % ((cc_right/cc_total)*100)+' %')"
   ]
  },
  {
   "cell_type": "markdown",
   "metadata": {},
   "source": [
    "## Util"
   ]
  },
  {
   "cell_type": "markdown",
   "metadata": {},
   "source": [
    "### Detailed Question Analysis"
   ]
  },
  {
   "cell_type": "code",
   "execution_count": null,
   "metadata": {
    "collapsed": true
   },
   "outputs": [],
   "source": [
    "question = {\n",
    "    'question': u'Quem é o presidente da França?',\n",
    "    'class': 'PERSON'\n",
    "}\n",
    "\n",
    "#question = test_questions[4]\n",
    "\n",
    "print('Question: ' + question['question'])\n",
    "\n",
    "# Question Classification\n",
    "QP.predict_answer_type(model, [question])\n",
    "print('Answer Type: ' + question['predict_class'])\n",
    "\n",
    "# Query Formulation\n",
    "QP.queryFormulation([question])\n",
    "print('Query: ' + question['query'])\n",
    "\n",
    "# Document Retrieval\n",
    "ir.retrievalDocuments([question])\n",
    "print('Number of retrieval documents: ' + str(len(question['retrieval'])))\n",
    "\n",
    "# Answers Candidates\n",
    "AP.answer_candidates([question], QP, ir, NER, model_ner, loading=False)\n",
    "print('Number of answer candidates: ' + str(len(question['answer_candidates'])))\n",
    "\n",
    "# Final Answer\n",
    "AP.finals_answer([question])\n",
    "print('Answer: ' + question['final_answer'])"
   ]
  },
  {
   "cell_type": "markdown",
   "metadata": {},
   "source": [
    "Show documents texts"
   ]
  },
  {
   "cell_type": "code",
   "execution_count": null,
   "metadata": {
    "collapsed": true
   },
   "outputs": [],
   "source": [
    "for doc_id in question['retrieval']:\n",
    "    print('\\n'+doc_id+'\\n'+ir.documentText(doc_id))"
   ]
  },
  {
   "cell_type": "markdown",
   "metadata": {},
   "source": [
    "Show answers candidates"
   ]
  },
  {
   "cell_type": "code",
   "execution_count": null,
   "metadata": {
    "collapsed": true
   },
   "outputs": [],
   "source": [
    "    for ac in question['answer_candidates']:\n",
    "        print(ac['full_answer'])"
   ]
  },
  {
   "cell_type": "markdown",
   "metadata": {},
   "source": [
    "Show most vote answer candidates"
   ]
  },
  {
   "cell_type": "code",
   "execution_count": null,
   "metadata": {
    "collapsed": true
   },
   "outputs": [],
   "source": [
    "import operator\n",
    "votes = {}\n",
    "for candidate in question['answer_candidates']:\n",
    "    if candidate['full_answer'].lower() not in question['question'].lower():\n",
    "        if candidate['full_answer'] not in votes:\n",
    "            votes[candidate['full_answer']] = candidate['votes']\n",
    "[(k, votes[k]) for k in sorted(votes, key=votes.get, reverse=True)]"
   ]
  },
  {
   "cell_type": "markdown",
   "metadata": {},
   "source": [
    "### Others"
   ]
  },
  {
   "cell_type": "code",
   "execution_count": null,
   "metadata": {
    "collapsed": true
   },
   "outputs": [],
   "source": [
    "ir.stop()"
   ]
  },
  {
   "cell_type": "code",
   "execution_count": 36,
   "metadata": {},
   "outputs": [
    {
     "data": {
      "text/plain": [
       "<module 'information_retrieval' from 'C:\\\\Users\\\\Eduardo\\\\UFRGS\\\\QA\\\\qa-chave\\\\information_retrieval.py'>"
      ]
     },
     "execution_count": 36,
     "metadata": {},
     "output_type": "execute_result"
    }
   ],
   "source": [
    "import importlib\n",
    "importlib.reload(IR)\n",
    "#raise IpyExit"
   ]
  }
 ],
 "metadata": {
  "kernelspec": {
   "display_name": "Python 3",
   "language": "python",
   "name": "python3"
  },
  "language_info": {
   "codemirror_mode": {
    "name": "ipython",
    "version": 3
   },
   "file_extension": ".py",
   "mimetype": "text/x-python",
   "name": "python",
   "nbconvert_exporter": "python",
   "pygments_lexer": "ipython3",
   "version": "3.6.3"
  }
 },
 "nbformat": 4,
 "nbformat_minor": 2
}
