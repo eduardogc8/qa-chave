{
 "cells": [
  {
   "cell_type": "markdown",
   "metadata": {},
   "source": [
    "### Buscar questões do dataset Chave"
   ]
  },
  {
   "cell_type": "code",
   "execution_count": 1,
   "metadata": {
    "collapsed": true
   },
   "outputs": [],
   "source": [
    "import manager_dataset as _md\n",
    "\n",
    "questions = _md.questions()"
   ]
  },
  {
   "cell_type": "markdown",
   "metadata": {},
   "source": [
    "### Pré-processamento no texto das questões"
   ]
  },
  {
   "cell_type": "code",
   "execution_count": 2,
   "metadata": {},
   "outputs": [
    {
     "name": "stdout",
     "output_type": "stream",
     "text": [
      "X: 2973  y: 2973\n",
      "{'TIME': 364, 'PERSON': 582, 'LOCATION': 545, 'MEASURE': 502, 'DEFINITION': 624, 'ORGANIZATION': 356}\n"
     ]
    }
   ],
   "source": [
    "import numpy as np\n",
    "import random\n",
    "import nltk\n",
    "\n",
    "X = []\n",
    "y = []\n",
    "\n",
    "cls = {}\n",
    "\n",
    "for question in questions:\n",
    "    \n",
    "    if question['question'] is None:\n",
    "        continue\n",
    "    \n",
    "    clss = question['class']\n",
    "    \n",
    "    if clss == None:\n",
    "        continue\n",
    "    if clss == 'X':\n",
    "        continue\n",
    "    if clss == 'MANNER':\n",
    "        continue\n",
    "    if clss == 'OBJECT':\n",
    "        continue\n",
    "    if clss == 'OTHER':\n",
    "        continue\n",
    "    \n",
    "    if clss not in cls:\n",
    "        cls[clss] = 0\n",
    "    cls[clss] += 1\n",
    "    \n",
    "    text = question['question']\n",
    "    text = text.replace('\\n', '').replace('\\r', '')\n",
    "    text = text.replace('?', ' ? ').replace('.', ' . ').replace(',', ' , ')\n",
    "    text = text.replace(':', ' : ').replace(';', ' ; ')\n",
    "    text = text.replace('\\'', ' \\\" ').replace('\\\"', ' \\\" ')\n",
    "    text = text.replace(u'«', ' \\\" ').replace(u'»', ' \\\" ')\n",
    "    text = text.lower()\n",
    "    question['question'] = text\n",
    "    \n",
    "    text = nltk.word_tokenize(text)\n",
    "    X.append(text)\n",
    "    y.append(clss)\n",
    "\n",
    "                \n",
    "print ('X:',len(X),' y:',len(y))\n",
    "random.seed(1)\n",
    "a = list(zip(X, y))\n",
    "random.shuffle(a)\n",
    "X, y = zip(*a)\n",
    "X, y = np.array(X), np.array(y)\n",
    "print (cls)"
   ]
  },
  {
   "cell_type": "markdown",
   "metadata": {},
   "source": [
    "### Modelo Word2Vec"
   ]
  },
  {
   "cell_type": "code",
   "execution_count": 3,
   "metadata": {},
   "outputs": [
    {
     "name": "stderr",
     "output_type": "stream",
     "text": [
      "C:\\ProgramData\\Anaconda3\\lib\\site-packages\\gensim\\utils.py:860: UserWarning: detected Windows; aliasing chunkize to chunkize_serial\n",
      "  warnings.warn(\"detected Windows; aliasing chunkize to chunkize_serial\")\n"
     ]
    },
    {
     "name": "stdout",
     "output_type": "stream",
     "text": [
      ".\n",
      "Wall time: 3min 32s\n"
     ]
    }
   ],
   "source": [
    "%%time\n",
    "import numpy as np\n",
    "from gensim.models import KeyedVectors\n",
    "\n",
    "\n",
    "cbow_w2v_300 = 'data/word_embedding/cbow_s300.txt'\n",
    "\n",
    "mw2v_300 = KeyedVectors.load_word2vec_format(cbow_w2v_300, unicode_errors=\"ignore\")\n",
    "print ('.')\n",
    "w2v_300 = {w: vec for w, vec in zip(mw2v_300.index2word, mw2v_300.syn0)}"
   ]
  },
  {
   "cell_type": "markdown",
   "metadata": {},
   "source": [
    "### Modelos de representação em vetor"
   ]
  },
  {
   "cell_type": "code",
   "execution_count": 4,
   "metadata": {
    "collapsed": true
   },
   "outputs": [],
   "source": [
    "import numpy as np\n",
    "from collections import Counter, defaultdict\n",
    "from sklearn.feature_extraction.text import CountVectorizer\n",
    "from sklearn.feature_extraction.text import TfidfVectorizer\n",
    "\n",
    "\n",
    "def count_vectorizer(MIN_GRAM=1, MAX_GRAM=1, LOWER=True):\n",
    "    return CountVectorizer(analyzer=lambda x: x, strip_accents=None, ngram_range=(MIN_GRAM, MAX_GRAM), \n",
    "                           token_pattern=u'(?u)\\\\b\\\\w+\\\\b', lowercase=LOWER)\n",
    "\n",
    "\n",
    "def tfidf_vectorizer(MIN_GRAM=1, MAX_GRAM=1, LOWER=True):\n",
    "    return TfidfVectorizer(analyzer=lambda x: x, strip_accents=None, ngram_range=(MIN_GRAM, MAX_GRAM), \n",
    "                           token_pattern=u'(?u)\\\\b\\\\w+\\\\b', lowercase=LOWER)\n",
    "\n",
    "\n",
    "class MeanEmbeddingVectorizer(object):\n",
    "    def __init__(self, word2vec):\n",
    "        self.word2vec = word2vec\n",
    "        self.dim = len(word2vec)\n",
    "    \n",
    "    def fit(self, X, y):\n",
    "        return self\n",
    "\n",
    "    def transform(self, X):\n",
    "        ret = np.array([\n",
    "            np.mean([self.word2vec[w] for w in words if w in self.word2vec] \n",
    "                    or [np.zeros(self.dim)], axis=0)\n",
    "            for words in X\n",
    "        ])\n",
    "        return ret\n",
    "\n",
    "class HybridVectorizer(object):\n",
    "    def __init__(self, word2vec):\n",
    "        self.word2vec = word2vec\n",
    "        self.dim = len(word2vec)\n",
    "        self.bow = count_vectorizer()\n",
    "        \n",
    "    \n",
    "    def fit(self, X, y):\n",
    "        self.bow.fit(X)\n",
    "        return self\n",
    "\n",
    "    def transform(self, X):\n",
    "        ret = []\n",
    "        for sentence in X:\n",
    "            w2v = np.mean([self.word2vec[w] for w in sentence if w in self.word2vec] \n",
    "                    or [np.zeros(self.dim)], axis=0)\n",
    "            bow = self.bow.transform([sentence]).toarray()\n",
    "            ret.append(np.concatenate([w2v, bow[0]]))\n",
    "        ret = np.array(ret)\n",
    "        return ret\n",
    "\n",
    "class TfidfHybridVectorizer(object):\n",
    "    def __init__(self, word2vec):\n",
    "        self.word2vec = word2vec\n",
    "        self.dim = len(word2vec)\n",
    "        self.tf = tfidf_vectorizer()\n",
    "        \n",
    "    \n",
    "    def fit(self, X, y):\n",
    "        self.tf.fit(X)\n",
    "        return self\n",
    "\n",
    "    def transform(self, X):\n",
    "        ret = []\n",
    "        for sentence in X:\n",
    "            w2v = np.mean([self.word2vec[w] for w in sentence if w in self.word2vec] \n",
    "                    or [np.zeros(self.dim)], axis=0)\n",
    "            tf = self.tf.transform([sentence]).toarray()\n",
    "            ret.append(np.concatenate([w2v, tf[0]]))\n",
    "        ret = np.array(ret)\n",
    "        return ret\n",
    "\n",
    "class SequenceHybridVectorizer(object):\n",
    "    def __init__(self, word2vec, tfidf=False):\n",
    "        self.word2vec = word2vec\n",
    "        self.dim = len(word2vec)\n",
    "        self.word2weight = None\n",
    "        self.tfidf = tfidf\n",
    "        self.bow = count_vectorizer()\n",
    "        \n",
    "    \n",
    "    def fit(self, X, y):\n",
    "        self.bow.fit(X)\n",
    "        tfidf = tfidf_vectorizer()\n",
    "        tfidf.fit(X)\n",
    "        max_idf = max(tfidf.idf_)\n",
    "        self.word2weight = defaultdict(\n",
    "            lambda: max_idf, \n",
    "            [(w, tfidf.idf_[i]) for w, i in tfidf.vocabulary_.items()])\n",
    "        return self\n",
    "\n",
    "    def transform(self, X):\n",
    "        ret = []\n",
    "        for sentence in X:\n",
    "            vector = np.array([])\n",
    "            maxWords = 32\n",
    "            count = 0\n",
    "            for word in sentence:\n",
    "                if count < maxWords:\n",
    "                    if word in self.word2vec:\n",
    "                        count += 1\n",
    "                        if self.tfidf:\n",
    "                            vector = np.concatenate([vector, self.word2vec[word] * self.word2weight[word]])\n",
    "                        else:\n",
    "                            vector = np.concatenate([vector, self.word2vec[word]])\n",
    "            for i in range(maxWords-count):\n",
    "                vector = np.concatenate([vector, np.zeros(self.dim)])\n",
    "            bow = self.bow.transform([sentence]).toarray()\n",
    "            vector = np.concatenate([vector, bow[0]])\n",
    "            ret.append(vector)\n",
    "        \n",
    "        ret = np.array(ret)\n",
    "        return ret"
   ]
  },
  {
   "cell_type": "markdown",
   "metadata": {},
   "source": [
    "## Definir classificadores"
   ]
  },
  {
   "cell_type": "code",
   "execution_count": 5,
   "metadata": {
    "collapsed": true
   },
   "outputs": [],
   "source": [
    "from sklearn.pipeline import Pipeline\n",
    "from sklearn.svm import LinearSVC\n",
    "from sklearn.svm import SVC\n",
    "from sklearn.naive_bayes import BernoulliNB, MultinomialNB\n",
    "from sklearn.ensemble import ExtraTreesClassifier\n",
    "\n",
    "\n",
    "classifiers = {}  # {'classifier': (VectorizeModel, Classifier)}"
   ]
  },
  {
   "cell_type": "code",
   "execution_count": 6,
   "metadata": {
    "collapsed": true
   },
   "outputs": [],
   "source": [
    "lbs = [\"BoW_WF\", \n",
    "       \"BoW_TFIDF\", \n",
    "       \"W2V\",\n",
    "       \"BoW_WF_W2V\",\n",
    "       \"BoW_TFIDF_W2V\"\n",
    "        ]"
   ]
  },
  {
   "cell_type": "markdown",
   "metadata": {},
   "source": [
    "#### SVM Linear"
   ]
  },
  {
   "cell_type": "code",
   "execution_count": 7,
   "metadata": {
    "collapsed": true
   },
   "outputs": [],
   "source": [
    "classifiers[lbs[0]] = (LinearSVC(), count_vectorizer())"
   ]
  },
  {
   "cell_type": "code",
   "execution_count": 8,
   "metadata": {
    "collapsed": true
   },
   "outputs": [],
   "source": [
    "classifiers[lbs[1]] = (LinearSVC(), tfidf_vectorizer())"
   ]
  },
  {
   "cell_type": "code",
   "execution_count": 9,
   "metadata": {
    "collapsed": true
   },
   "outputs": [],
   "source": [
    "classifiers[lbs[2]] = (LinearSVC(), MeanEmbeddingVectorizer(w2v_300))"
   ]
  },
  {
   "cell_type": "code",
   "execution_count": 10,
   "metadata": {
    "collapsed": true
   },
   "outputs": [],
   "source": [
    "classifiers[lbs[3]] = (LinearSVC(), HybridVectorizer(w2v_300))"
   ]
  },
  {
   "cell_type": "code",
   "execution_count": 11,
   "metadata": {
    "collapsed": true
   },
   "outputs": [],
   "source": [
    "classifiers[lbs[4]] = (LinearSVC(), TfidfHybridVectorizer(w2v_300))"
   ]
  },
  {
   "cell_type": "code",
   "execution_count": null,
   "metadata": {
    "collapsed": true
   },
   "outputs": [],
   "source": [
    "classifiers[\"Hybrid sequence\"] = (LinearSVC(), SequenceHybridVectorizer(w2v_300))"
   ]
  },
  {
   "cell_type": "code",
   "execution_count": null,
   "metadata": {
    "collapsed": true
   },
   "outputs": [],
   "source": [
    "classifiers[\"Linear\"] = (LinearSVC(), count_vectorizer())"
   ]
  },
  {
   "cell_type": "code",
   "execution_count": null,
   "metadata": {
    "collapsed": true
   },
   "outputs": [],
   "source": [
    "classifiers[\"Polynomial\"] = (SVC(kernel=\"poly\", degree=3, gamma=0.4), count_vectorizer())"
   ]
  },
  {
   "cell_type": "code",
   "execution_count": null,
   "metadata": {
    "collapsed": true
   },
   "outputs": [],
   "source": [
    "classifiers[\"RBF\"] = (SVC(kernel=\"rbf\", gamma=0.1), count_vectorizer())"
   ]
  },
  {
   "cell_type": "code",
   "execution_count": null,
   "metadata": {
    "collapsed": true
   },
   "outputs": [],
   "source": [
    "classifiers[\"Sigmoid\"] = (SVC(kernel=\"sigmoid\"), count_vectorizer())"
   ]
  },
  {
   "cell_type": "markdown",
   "metadata": {},
   "source": [
    "#### Naive Bayes"
   ]
  },
  {
   "cell_type": "code",
   "execution_count": null,
   "metadata": {
    "collapsed": true
   },
   "outputs": [],
   "source": [
    "classifiers[\"NB mult\"] = (MultinomialNB(), count_vectorizer())"
   ]
  },
  {
   "cell_type": "code",
   "execution_count": null,
   "metadata": {
    "collapsed": true
   },
   "outputs": [],
   "source": [
    "classifiers[\"NB mult tfidf\"] = (MultinomialNB(), tfidf_vectorizer())"
   ]
  },
  {
   "cell_type": "code",
   "execution_count": null,
   "metadata": {
    "collapsed": true
   },
   "outputs": [],
   "source": [
    "classifiers[\"NB bernoulli\"] = (BernoulliNB(), count_vectorizer())"
   ]
  },
  {
   "cell_type": "code",
   "execution_count": null,
   "metadata": {
    "collapsed": true
   },
   "outputs": [],
   "source": [
    "classifiers[\"NB bern tfidf\"] = (BernoulliNB(), tfidf_vectorizer())"
   ]
  },
  {
   "cell_type": "markdown",
   "metadata": {},
   "source": [
    "#### ExtraTrees"
   ]
  },
  {
   "cell_type": "code",
   "execution_count": null,
   "metadata": {
    "collapsed": true
   },
   "outputs": [],
   "source": [
    "classifiers[\"ETree\"] = (ExtraTreesClassifier(n_estimators=200), count_vectorizer())"
   ]
  },
  {
   "cell_type": "code",
   "execution_count": null,
   "metadata": {
    "collapsed": true
   },
   "outputs": [],
   "source": [
    "classifiers[\"ETree tfidf\"] = (ExtraTreesClassifier(n_estimators=200), tfidf_vectorizer())"
   ]
  },
  {
   "cell_type": "code",
   "execution_count": null,
   "metadata": {
    "collapsed": true
   },
   "outputs": [],
   "source": [
    "classifiers[\"ETree W2V\"] = (ExtraTreesClassifier(n_estimators=200), MeanEmbeddingVectorizer(w2v_300))"
   ]
  },
  {
   "cell_type": "markdown",
   "metadata": {},
   "source": [
    "## Testes"
   ]
  },
  {
   "cell_type": "code",
   "execution_count": null,
   "metadata": {},
   "outputs": [],
   "source": [
    "from sklearn.cross_validation import StratifiedShuffleSplit\n",
    "from sklearn.metrics import accuracy_score, f1_score, precision_score, recall_score, confusion_matrix\n",
    "\n",
    "def benchmark(model, X, y, n):\n",
    "    test_size = 1 - (n / float(len(y)))\n",
    "    scores = {}\n",
    "    for train, test in StratifiedShuffleSplit(y, n_iter=5, test_size=test_size, random_state=0):\n",
    "        X_train, X_test = X[train], X[test]\n",
    "        y_train, y_test = y[train], y[test]\n",
    "        result = model.fit(X_train, y_train).predict(X_test)\n",
    "        scores['accuracy'] = accuracy_score(result, y_test)\n",
    "        scores['precision'] = precision_score(result, y_test, average=\"macro\")\n",
    "        scores['recall'] = recall_score(result, y_test, average=\"macro\")\n",
    "        scores['f1'] = f1_score(result, y_test, average=\"macro\")\n",
    "        scores['confusion'] = confusion_matrix(result, y_test)\n",
    "    return scores\n",
    "\n",
    "train_sizes = [80, 160, 240, 320, 400, 480, 560, 640, 720, 800, 880, 960, 1040, 1120, 1200, 1280, 1360, \n",
    "               1440, 1520, 1600, 1680, 1760, 1840, 1920, 2000, 2080, 2160, 2240, 2320, 2400, 2480]\n",
    "\n",
    "table = []\n",
    "\n",
    "def test_model(model, name):\n",
    "    for n in train_sizes:\n",
    "        result = benchmark(model, X, y, n)\n",
    "        table.append({'Model': name, \n",
    "                      'accuracy': np.mean(result['accuracy']),\n",
    "                      'precision': np.mean(result['precision']),\n",
    "                      'recall': np.mean(result['recall']),\n",
    "                      'f1': np.mean(result['f1']),\n",
    "                      #'confusion': np.mean(result['confusion'], axis=0),\n",
    "                      'train_size': n})\n",
    "        print (name,'-',n)\n"
   ]
  },
  {
   "cell_type": "code",
   "execution_count": 12,
   "metadata": {},
   "outputs": [
    {
     "name": "stderr",
     "output_type": "stream",
     "text": [
      "C:\\ProgramData\\Anaconda3\\lib\\site-packages\\sklearn\\cross_validation.py:41: DeprecationWarning: This module was deprecated in version 0.18 in favor of the model_selection module into which all the refactored classes and functions are moved. Also note that the interface of the new CV iterators are different from that of this module. This module will be removed in 0.20.\n",
      "  \"This module will be removed in 0.20.\", DeprecationWarning)\n"
     ]
    }
   ],
   "source": [
    "from sklearn.cross_validation import StratifiedShuffleSplit\n",
    "from sklearn.metrics import accuracy_score, f1_score, precision_score, recall_score, confusion_matrix\n",
    "\n",
    "def benchmark(model, X, y, n):\n",
    "    scores = {}\n",
    "    for train, test in StratifiedShuffleSplit(y, n_iter=n, random_state=0):\n",
    "        X_train, X_test = X[train], X[test]\n",
    "        y_train, y_test = y[train], y[test]\n",
    "        result = model.fit(X_train, y_train).predict(X_test)\n",
    "        scores['accuracy'] = accuracy_score(result, y_test)\n",
    "        scores['precision'] = precision_score(result, y_test, average=\"macro\")\n",
    "        scores['recall'] = recall_score(result, y_test, average=\"macro\")\n",
    "        scores['f1'] = f1_score(result, y_test, average=\"macro\")\n",
    "        scores['confusion'] = confusion_matrix(result, y_test)\n",
    "    return scores\n",
    "\n",
    "ks = list(reversed(list(range(30+1))[1:]))\n",
    "\n",
    "table = []\n",
    "\n",
    "def test_model(model, name):\n",
    "    for n in ks:\n",
    "        result = benchmark(model, X, y, n)\n",
    "        table.append({'Model': name, \n",
    "                      'accuracy': np.mean(result['accuracy']),\n",
    "                      'precision': np.mean(result['precision']),\n",
    "                      'recall': np.mean(result['recall']),\n",
    "                      'f1': np.mean(result['f1']),\n",
    "                      #'confusion': np.mean(result['confusion'], axis=0),\n",
    "                      'train_size': n})\n",
    "        print (name,'-',n)"
   ]
  },
  {
   "cell_type": "code",
   "execution_count": null,
   "metadata": {},
   "outputs": [],
   "source": [
    "print (classifiers[lbs[0]])"
   ]
  },
  {
   "cell_type": "code",
   "execution_count": 13,
   "metadata": {},
   "outputs": [
    {
     "name": "stdout",
     "output_type": "stream",
     "text": [
      "BoW_WF - 30\n",
      "BoW_WF - 29\n",
      "BoW_WF - 28\n",
      "BoW_WF - 27\n",
      "BoW_WF - 26\n",
      "BoW_WF - 25\n",
      "BoW_WF - 24\n",
      "BoW_WF - 23\n",
      "BoW_WF - 22\n",
      "BoW_WF - 21\n",
      "BoW_WF - 20\n",
      "BoW_WF - 19\n",
      "BoW_WF - 18\n",
      "BoW_WF - 17\n",
      "BoW_WF - 16\n",
      "BoW_WF - 15\n",
      "BoW_WF - 14\n",
      "BoW_WF - 13\n",
      "BoW_WF - 12\n",
      "BoW_WF - 11\n",
      "BoW_WF - 10\n",
      "BoW_WF - 9\n",
      "BoW_WF - 8\n",
      "BoW_WF - 7\n",
      "BoW_WF - 6\n",
      "BoW_WF - 5\n",
      "BoW_WF - 4\n",
      "BoW_WF - 3\n",
      "BoW_WF - 2\n",
      "BoW_WF - 1\n",
      "BoW_TFIDF - 30\n",
      "BoW_TFIDF - 29\n",
      "BoW_TFIDF - 28\n",
      "BoW_TFIDF - 27\n",
      "BoW_TFIDF - 26\n",
      "BoW_TFIDF - 25\n",
      "BoW_TFIDF - 24\n",
      "BoW_TFIDF - 23\n",
      "BoW_TFIDF - 22\n",
      "BoW_TFIDF - 21\n",
      "BoW_TFIDF - 20\n",
      "BoW_TFIDF - 19\n",
      "BoW_TFIDF - 18\n",
      "BoW_TFIDF - 17\n",
      "BoW_TFIDF - 16\n",
      "BoW_TFIDF - 15\n",
      "BoW_TFIDF - 14\n",
      "BoW_TFIDF - 13\n",
      "BoW_TFIDF - 12\n",
      "BoW_TFIDF - 11\n",
      "BoW_TFIDF - 10\n",
      "BoW_TFIDF - 9\n",
      "BoW_TFIDF - 8\n",
      "BoW_TFIDF - 7\n",
      "BoW_TFIDF - 6\n",
      "BoW_TFIDF - 5\n",
      "BoW_TFIDF - 4\n",
      "BoW_TFIDF - 3\n",
      "BoW_TFIDF - 2\n",
      "BoW_TFIDF - 1\n",
      "W2V - 30\n",
      "W2V - 29\n",
      "W2V - 28\n",
      "W2V - 27\n",
      "W2V - 26\n",
      "W2V - 25\n",
      "W2V - 24\n",
      "W2V - 23\n",
      "W2V - 22\n",
      "W2V - 21\n",
      "W2V - 20\n",
      "W2V - 19\n",
      "W2V - 18\n",
      "W2V - 17\n",
      "W2V - 16\n",
      "W2V - 15\n",
      "W2V - 14\n",
      "W2V - 13\n",
      "W2V - 12\n",
      "W2V - 11\n",
      "W2V - 10\n",
      "W2V - 9\n",
      "W2V - 8\n",
      "W2V - 7\n",
      "W2V - 6\n",
      "W2V - 5\n",
      "W2V - 4\n",
      "W2V - 3\n",
      "W2V - 2\n",
      "W2V - 1\n",
      "BoW_WF_W2V - 30\n",
      "BoW_WF_W2V - 29\n",
      "BoW_WF_W2V - 28\n",
      "BoW_WF_W2V - 27\n",
      "BoW_WF_W2V - 26\n",
      "BoW_WF_W2V - 25\n",
      "BoW_WF_W2V - 24\n",
      "BoW_WF_W2V - 23\n",
      "BoW_WF_W2V - 22\n",
      "BoW_WF_W2V - 21\n",
      "BoW_WF_W2V - 20\n",
      "BoW_WF_W2V - 19\n",
      "BoW_WF_W2V - 18\n",
      "BoW_WF_W2V - 17\n",
      "BoW_WF_W2V - 16\n",
      "BoW_WF_W2V - 15\n",
      "BoW_WF_W2V - 14\n",
      "BoW_WF_W2V - 13\n",
      "BoW_WF_W2V - 12\n",
      "BoW_WF_W2V - 11\n",
      "BoW_WF_W2V - 10\n",
      "BoW_WF_W2V - 9\n",
      "BoW_WF_W2V - 8\n",
      "BoW_WF_W2V - 7\n",
      "BoW_WF_W2V - 6\n",
      "BoW_WF_W2V - 5\n",
      "BoW_WF_W2V - 4\n",
      "BoW_WF_W2V - 3\n",
      "BoW_WF_W2V - 2\n",
      "BoW_WF_W2V - 1\n",
      "BoW_TFIDF_W2V - 30\n",
      "BoW_TFIDF_W2V - 29\n",
      "BoW_TFIDF_W2V - 28\n",
      "BoW_TFIDF_W2V - 27\n",
      "BoW_TFIDF_W2V - 26\n",
      "BoW_TFIDF_W2V - 25\n",
      "BoW_TFIDF_W2V - 24\n",
      "BoW_TFIDF_W2V - 23\n",
      "BoW_TFIDF_W2V - 22\n",
      "BoW_TFIDF_W2V - 21\n",
      "BoW_TFIDF_W2V - 20\n",
      "BoW_TFIDF_W2V - 19\n",
      "BoW_TFIDF_W2V - 18\n",
      "BoW_TFIDF_W2V - 17\n",
      "BoW_TFIDF_W2V - 16\n",
      "BoW_TFIDF_W2V - 15\n",
      "BoW_TFIDF_W2V - 14\n",
      "BoW_TFIDF_W2V - 13\n",
      "BoW_TFIDF_W2V - 12\n",
      "BoW_TFIDF_W2V - 11\n",
      "BoW_TFIDF_W2V - 10\n",
      "BoW_TFIDF_W2V - 9\n",
      "BoW_TFIDF_W2V - 8\n",
      "BoW_TFIDF_W2V - 7\n",
      "BoW_TFIDF_W2V - 6\n",
      "BoW_TFIDF_W2V - 5\n",
      "BoW_TFIDF_W2V - 4\n",
      "BoW_TFIDF_W2V - 3\n",
      "BoW_TFIDF_W2V - 2\n",
      "BoW_TFIDF_W2V - 1\n"
     ]
    }
   ],
   "source": [
    "%%time\n",
    "for name in lbs:\n",
    "    model = Pipeline([(\"vector_model\", classifiers[name][1]), (\"classifer\", classifiers[name][0])])\n",
    "    test_model(model, name)"
   ]
  },
  {
   "cell_type": "code",
   "execution_count": null,
   "metadata": {
    "collapsed": true
   },
   "outputs": [],
   "source": [
    "import thread\n",
    "        \n",
    "for name in classifiers:\n",
    "    model = Pipeline([(\"vector_model\", classifiers[name][1]), (\"classifer\", classifiers[name][0])])\n",
    "    thread.start_new_thread(test_model, (model, name, ))"
   ]
  },
  {
   "cell_type": "code",
   "execution_count": 14,
   "metadata": {},
   "outputs": [
    {
     "data": {
      "text/plain": [
       "[Text(0,0.5,'F1-Score')]"
      ]
     },
     "execution_count": 14,
     "metadata": {},
     "output_type": "execute_result"
    },
    {
     "data": {
      "image/png": "[encoded data removed]",
      "text/plain": [
       "<matplotlib.figure.Figure at 0x2a5051f1518>"
      ]
     },
     "metadata": {},
     "output_type": "display_data"
    }
   ],
   "source": [
    "import pandas as pd\n",
    "import seaborn as sns\n",
    "%matplotlib inline\n",
    "import matplotlib.pyplot as plt\n",
    "\n",
    "names = lbs\n",
    "df = pd.DataFrame(table)\n",
    "\n",
    "aux = df[df.Model.map(lambda x: x in names)]\n",
    "\n",
    "sorterIndex = dict(zip(lbs,range(len(lbs))))\n",
    "aux['models_sort'] = aux['Model'].map(sorterIndex)\n",
    "aux.sort_values(['Model'], \\\n",
    "        ascending = [1], inplace = True)\n",
    "aux.drop('models_sort', 1, inplace = True)\n",
    "\n",
    "\n",
    "col_list = [\"black\", \"black\", \"black\", \"black\", \"black\"]\n",
    "col_list_palette = sns.xkcd_palette(col_list)\n",
    "#sns.set_palette(col_list_palette)\n",
    "sns.set_palette(sns.color_palette(\"muted\", 5))\n",
    "\n",
    "\n",
    "#df = df.drop('accuracy', 1).drop('precision', 1).drop('recall', 1).drop('train_size', 1)\n",
    "\n",
    "plt.figure(figsize=(12, 6))\n",
    "\n",
    "fig = sns.pointplot(x='train_size', y='f1', hue='Model', \n",
    "                    data=df[df.Model.map(lambda x: x in names)],\n",
    "                    markers=['o',7,'p','s','x'],lineheight=1)\n",
    "\n",
    "for ind, label in enumerate(fig.get_xticklabels()):\n",
    "    if ind == 0 or ind == 7 or ind == 15 or ind == 23 or ind == 30:\n",
    "        label.set_visible(True)\n",
    "    else:\n",
    "        label.set_visible(False)\n",
    "plt.setp(fig.lines,linewidth=1.5)\n",
    "sns.set_context(\"notebook\", font_scale=1.5)\n",
    "fig.set(ylabel=\"f1\")\n",
    "fig.set(xlabel=\"Size of the training sample\")\n",
    "fig.set(ylabel=\"F1-Score\")"
   ]
  },
  {
   "cell_type": "code",
   "execution_count": null,
   "metadata": {},
   "outputs": [],
   "source": [
    "def print_scores(model):\n",
    "    last = {}\n",
    "    for t in table:\n",
    "        if t['Model'] == model:\n",
    "            last['precision'] = t['precision']\n",
    "            last['recall'] = t['recall']\n",
    "            last['f1'] = t['f1']\n",
    "            last['accuracy'] = t['accuracy']\n",
    "    #print 'Precision: ', round(last['precision'],4)\n",
    "    print ('Recall: ', round(last['recall'],4))\n",
    "    print ('F1: ', round(last['f1'],4))\n",
    "    print ('Accuracy: ', round(last['accuracy'],4))\n",
    "\n",
    "print ('\\n\\n'+lbs[0]+':\\n')\n",
    "print_scores(lbs[0])\n",
    "print ('\\n\\n'+lbs[1]+':\\n')\n",
    "print_scores(lbs[1])\n",
    "print ('\\n\\n'+lbs[2]+':\\n')\n",
    "print_scores(lbs[2])\n",
    "print ('\\n\\n'+lbs[3]+':\\n')\n",
    "print_scores(lbs[3])\n",
    "print ('\\n\\n'+lbs[4]+':\\n')\n",
    "print_scores(lbs[4])\n"
   ]
  },
  {
   "cell_type": "code",
   "execution_count": null,
   "metadata": {},
   "outputs": [],
   "source": [
    "import scipy\n",
    "\n",
    "a = []\n",
    "b = []\n",
    "\n",
    "for t in table:\n",
    "    if t['Model'] == lbs[1]:\n",
    "        a.append(t['f1'])\n",
    "    if t['Model'] == lbs[3]:\n",
    "        b.append(t['f1'])\n",
    "\n",
    "scipy.stats.ttest_ind(a, b)"
   ]
  }
 ],
 "metadata": {
  "kernelspec": {
   "display_name": "Python 3",
   "language": "python",
   "name": "python3"
  },
  "language_info": {
   "codemirror_mode": {
    "name": "ipython",
    "version": 3
   },
   "file_extension": ".py",
   "mimetype": "text/x-python",
   "name": "python",
   "nbconvert_exporter": "python",
   "pygments_lexer": "ipython3",
   "version": "3.6.3"
  }
 },
 "nbformat": 4,
 "nbformat_minor": 2
}
