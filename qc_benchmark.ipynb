{
 "cells": [
  {
   "cell_type": "markdown",
   "metadata": {},
   "source": [
    "### Buscar questões do dataset Chave"
   ]
  },
  {
   "cell_type": "code",
   "execution_count": 11,
   "metadata": {},
   "outputs": [
    {
     "name": "stdout",
     "output_type": "stream",
     "text": [
      "2349\n"
     ]
    }
   ],
   "source": [
    "import manager_dataset as MD\n",
    "import question_processing as QP\n",
    "\n",
    "\n",
    "questions = MD.questions(treated=True)\n",
    "incosiderate_classes = ['X', 'MANNER', 'OBJECT', 'OTHER', 'DEFINITION']\n",
    "questions = QP.remove_incosiderate_classes(questions, incosiderate_classes)  # Question with incosiderate class is removed\n",
    "print(len(questions))"
   ]
  },
  {
   "cell_type": "markdown",
   "metadata": {},
   "source": [
    "### X y"
   ]
  },
  {
   "cell_type": "code",
   "execution_count": 48,
   "metadata": {},
   "outputs": [],
   "source": [
    "import random\n",
    "import numpy as np\n",
    "\n",
    "\n",
    "random.seed = 3\n",
    "random.shuffle(questions)\n",
    "\n",
    "X, y = QP.separete_questions(questions)\n",
    "X = np.array(X)\n",
    "y = np.array(y)"
   ]
  },
  {
   "cell_type": "markdown",
   "metadata": {},
   "source": [
    "### Modelo Word2Vec"
   ]
  },
  {
   "cell_type": "code",
   "execution_count": 3,
   "metadata": {},
   "outputs": [
    {
     "name": "stderr",
     "output_type": "stream",
     "text": [
      "C:\\Users\\55519\\Anaconda3\\lib\\site-packages\\gensim\\utils.py:1197: UserWarning: detected Windows; aliasing chunkize to chunkize_serial\n",
      "  warnings.warn(\"detected Windows; aliasing chunkize to chunkize_serial\")\n",
      "C:\\Users\\55519\\Anaconda3\\lib\\site-packages\\ipykernel_launcher.py:7: DeprecationWarning: Call to deprecated `syn0` (Attribute will be removed in 4.0.0, use self.wv.vectors instead).\n",
      "  import sys\n"
     ]
    },
    {
     "name": "stdout",
     "output_type": "stream",
     "text": [
      "Wall time: 3min 13s\n"
     ]
    }
   ],
   "source": [
    "%%time\n",
    "from gensim.models import KeyedVectors\n",
    "\n",
    "\n",
    "w2v_patch = 'data/word_embedding/cbow_s300.txt'\n",
    "#w2v_patch = 'data/word_embedding/cbow_s50.txt'  # Fast test\n",
    "w2v = KeyedVectors.load_word2vec_format(w2v_patch, unicode_errors=\"ignore\")\n",
    "model_w2v = {w: vec for w, vec in zip(w2v.index2word, w2v.syn0)}"
   ]
  },
  {
   "cell_type": "markdown",
   "metadata": {},
   "source": [
    "### Modelos de representação em vetor"
   ]
  },
  {
   "cell_type": "code",
   "execution_count": 13,
   "metadata": {},
   "outputs": [],
   "source": [
    "import numpy as np\n",
    "from collections import Counter, defaultdict\n",
    "from sklearn.feature_extraction.text import CountVectorizer\n",
    "from sklearn.feature_extraction.text import TfidfVectorizer\n",
    "\n",
    "\n",
    "def count_vectorizer(MIN_GRAM=1, MAX_GRAM=1, LOWER=True):\n",
    "    return CountVectorizer(analyzer=lambda x: x, strip_accents=None, ngram_range=(MIN_GRAM, MAX_GRAM), \n",
    "                           token_pattern=u'(?u)\\\\b\\\\w+\\\\b', lowercase=LOWER)\n",
    "\n",
    "\n",
    "def tfidf_vectorizer(MIN_GRAM=1, MAX_GRAM=1, LOWER=True):\n",
    "    return TfidfVectorizer(analyzer=lambda x: x, strip_accents=None, ngram_range=(MIN_GRAM, MAX_GRAM), \n",
    "                           token_pattern=u'(?u)\\\\b\\\\w+\\\\b', lowercase=LOWER)\n",
    "\n",
    "\n",
    "class MeanEmbeddingVectorizer(object):\n",
    "    def __init__(self, word2vec):\n",
    "        self.word2vec = word2vec\n",
    "        self.dim = len(word2vec)\n",
    "    \n",
    "    def fit(self, X, y):\n",
    "        return self\n",
    "\n",
    "    def transform(self, X):\n",
    "        ret = np.array([\n",
    "            np.mean([self.word2vec[w] for w in words if w in self.word2vec] \n",
    "                    or [np.zeros(self.dim)], axis=0)\n",
    "            for words in X\n",
    "        ])\n",
    "        return ret\n",
    "\n",
    "class HybridVectorizer(object):\n",
    "    def __init__(self, word2vec):\n",
    "        self.word2vec = word2vec\n",
    "        self.dim = len(word2vec)\n",
    "        self.bow = count_vectorizer()\n",
    "        \n",
    "    \n",
    "    def fit(self, X, y):\n",
    "        self.bow.fit(X)\n",
    "        return self\n",
    "\n",
    "    def transform(self, X):\n",
    "        ret = []\n",
    "        for sentence in X:\n",
    "            w2v = np.mean([self.word2vec[w] for w in sentence if w in self.word2vec] \n",
    "                    or [np.zeros(self.dim)], axis=0)\n",
    "            bow = self.bow.transform([sentence]).toarray()\n",
    "            ret.append(np.concatenate([w2v, bow[0]]))\n",
    "        ret = np.array(ret)\n",
    "        return ret\n",
    "\n",
    "class TfidfHybridVectorizer(object):\n",
    "    def __init__(self, word2vec):\n",
    "        self.word2vec = word2vec\n",
    "        self.dim = len(word2vec)\n",
    "        self.tf = tfidf_vectorizer()\n",
    "        \n",
    "    \n",
    "    def fit(self, X, y):\n",
    "        self.tf.fit(X)\n",
    "        return self\n",
    "\n",
    "    def transform(self, X):\n",
    "        ret = []\n",
    "        for sentence in X:\n",
    "            w2v = np.mean([self.word2vec[w] for w in sentence if w in self.word2vec] \n",
    "                    or [np.zeros(self.dim)], axis=0)\n",
    "            tf = self.tf.transform([sentence]).toarray()\n",
    "            ret.append(np.concatenate([w2v, tf[0]]))\n",
    "        ret = np.array(ret)\n",
    "        return ret\n",
    "\n",
    "class SequenceHybridVectorizer(object):\n",
    "    def __init__(self, word2vec, tfidf=False):\n",
    "        self.word2vec = word2vec\n",
    "        self.dim = len(word2vec)\n",
    "        self.word2weight = None\n",
    "        self.tfidf = tfidf\n",
    "        self.bow = count_vectorizer()\n",
    "        \n",
    "    \n",
    "    def fit(self, X, y):\n",
    "        self.bow.fit(X)\n",
    "        tfidf = tfidf_vectorizer()\n",
    "        tfidf.fit(X)\n",
    "        max_idf = max(tfidf.idf_)\n",
    "        self.word2weight = defaultdict(\n",
    "            lambda: max_idf, \n",
    "            [(w, tfidf.idf_[i]) for w, i in tfidf.vocabulary_.items()])\n",
    "        return self\n",
    "\n",
    "    def transform(self, X):\n",
    "        ret = []\n",
    "        for sentence in X:\n",
    "            vector = np.array([])\n",
    "            maxWords = 32\n",
    "            count = 0\n",
    "            for word in sentence:\n",
    "                if count < maxWords:\n",
    "                    if word in self.word2vec:\n",
    "                        count += 1\n",
    "                        if self.tfidf:\n",
    "                            vector = np.concatenate([vector, self.word2vec[word] * self.word2weight[word]])\n",
    "                        else:\n",
    "                            vector = np.concatenate([vector, self.word2vec[word]])\n",
    "            for i in range(maxWords-count):\n",
    "                vector = np.concatenate([vector, np.zeros(self.dim)])\n",
    "            bow = self.bow.transform([sentence]).toarray()\n",
    "            vector = np.concatenate([vector, bow[0]])\n",
    "            ret.append(vector)\n",
    "        \n",
    "        ret = np.array(ret)\n",
    "        return ret"
   ]
  },
  {
   "cell_type": "markdown",
   "metadata": {},
   "source": [
    "## Definir classificadores"
   ]
  },
  {
   "cell_type": "code",
   "execution_count": 32,
   "metadata": {},
   "outputs": [],
   "source": [
    "from sklearn.pipeline import Pipeline\n",
    "from sklearn.svm import LinearSVC\n",
    "from sklearn.svm import SVC\n",
    "from sklearn.naive_bayes import BernoulliNB, MultinomialNB\n",
    "from sklearn.ensemble import ExtraTreesClassifier\n",
    "\n",
    "\n",
    "classifiers = {}  # {'classifier': (VectorizeModel, Classifier)}\n",
    "\n",
    "lbs = [\"bag-of-words\", \n",
    "        \"TF-IDF\", \n",
    "        \"Word2Vec\",\n",
    "        \"HYBRID_BoW\",\n",
    "        \"HYBRID_TF-IDF\"]"
   ]
  },
  {
   "cell_type": "code",
   "execution_count": 21,
   "metadata": {},
   "outputs": [],
   "source": [
    "lbs = [\"bag-of-words\", \n",
    "        \"TF-IDF\", \n",
    "        \"Word2Vec\"]\n",
    "classifiers[lbs[0]] = (LinearSVC(), count_vectorizer())\n",
    "classifiers[lbs[1]] = (LinearSVC(), tfidf_vectorizer())\n",
    "classifiers[lbs[2]] = (LinearSVC(), MeanEmbeddingVectorizer(model_w2v))"
   ]
  },
  {
   "cell_type": "code",
   "execution_count": 33,
   "metadata": {},
   "outputs": [],
   "source": [
    "lbs = [ \"BOW\",\n",
    "        \"TFIDF\",\n",
    "        \"W2V\",\n",
    "        \"HYBRID\"]\n",
    "\n",
    "classifiers[lbs[0]] = (LinearSVC(), count_vectorizer())\n",
    "classifiers[lbs[1]] = (LinearSVC(), tfidf_vectorizer())\n",
    "classifiers[lbs[2]] = (LinearSVC(), MeanEmbeddingVectorizer(model_w2v))\n",
    "classifiers[lbs[3]] = (LinearSVC(), TfidfHybridVectorizer(model_w2v))"
   ]
  },
  {
   "cell_type": "markdown",
   "metadata": {},
   "source": [
    "#### SVM Linear"
   ]
  },
  {
   "cell_type": "code",
   "execution_count": 13,
   "metadata": {},
   "outputs": [],
   "source": [
    "classifiers[lbs[0]] = (LinearSVC(), count_vectorizer())"
   ]
  },
  {
   "cell_type": "code",
   "execution_count": 14,
   "metadata": {},
   "outputs": [],
   "source": [
    "classifiers[lbs[1]] = (LinearSVC(), tfidf_vectorizer())"
   ]
  },
  {
   "cell_type": "code",
   "execution_count": 15,
   "metadata": {},
   "outputs": [],
   "source": [
    "classifiers[lbs[2]] = (LinearSVC(), MeanEmbeddingVectorizer(model_w2v))"
   ]
  },
  {
   "cell_type": "code",
   "execution_count": 16,
   "metadata": {},
   "outputs": [],
   "source": [
    "classifiers[lbs[3]] = (LinearSVC(), HybridVectorizer(model_w2v))"
   ]
  },
  {
   "cell_type": "code",
   "execution_count": 17,
   "metadata": {},
   "outputs": [],
   "source": [
    "classifiers[lbs[4]] = (LinearSVC(), TfidfHybridVectorizer(model_w2v))"
   ]
  },
  {
   "cell_type": "code",
   "execution_count": null,
   "metadata": {},
   "outputs": [],
   "source": [
    "classifiers[\"Hybrid sequence\"] = (LinearSVC(), SequenceHybridVectorizer(model_w2v))"
   ]
  },
  {
   "cell_type": "code",
   "execution_count": null,
   "metadata": {},
   "outputs": [],
   "source": [
    "classifiers[\"Linear\"] = (LinearSVC(), count_vectorizer())"
   ]
  },
  {
   "cell_type": "code",
   "execution_count": null,
   "metadata": {},
   "outputs": [],
   "source": [
    "classifiers[\"Polynomial\"] = (SVC(kernel=\"poly\", degree=3, gamma=0.4), count_vectorizer())"
   ]
  },
  {
   "cell_type": "code",
   "execution_count": null,
   "metadata": {},
   "outputs": [],
   "source": [
    "classifiers[\"RBF\"] = (SVC(kernel=\"rbf\", gamma=0.1), count_vectorizer())"
   ]
  },
  {
   "cell_type": "code",
   "execution_count": null,
   "metadata": {},
   "outputs": [],
   "source": [
    "classifiers[\"Sigmoid\"] = (SVC(kernel=\"sigmoid\"), count_vectorizer())"
   ]
  },
  {
   "cell_type": "markdown",
   "metadata": {},
   "source": [
    "#### Naive Bayes"
   ]
  },
  {
   "cell_type": "code",
   "execution_count": null,
   "metadata": {},
   "outputs": [],
   "source": [
    "classifiers[\"NB mult\"] = (MultinomialNB(), count_vectorizer())"
   ]
  },
  {
   "cell_type": "code",
   "execution_count": null,
   "metadata": {},
   "outputs": [],
   "source": [
    "classifiers[\"NB mult tfidf\"] = (MultinomialNB(), tfidf_vectorizer())"
   ]
  },
  {
   "cell_type": "code",
   "execution_count": null,
   "metadata": {},
   "outputs": [],
   "source": [
    "classifiers[\"NB bernoulli\"] = (BernoulliNB(), count_vectorizer())"
   ]
  },
  {
   "cell_type": "code",
   "execution_count": null,
   "metadata": {},
   "outputs": [],
   "source": [
    "classifiers[\"NB bern tfidf\"] = (BernoulliNB(), tfidf_vectorizer())"
   ]
  },
  {
   "cell_type": "markdown",
   "metadata": {},
   "source": [
    "#### ExtraTrees"
   ]
  },
  {
   "cell_type": "code",
   "execution_count": null,
   "metadata": {},
   "outputs": [],
   "source": [
    "classifiers[\"ETree\"] = (ExtraTreesClassifier(n_estimators=200), count_vectorizer())"
   ]
  },
  {
   "cell_type": "code",
   "execution_count": null,
   "metadata": {},
   "outputs": [],
   "source": [
    "classifiers[\"ETree tfidf\"] = (ExtraTreesClassifier(n_estimators=200), tfidf_vectorizer())"
   ]
  },
  {
   "cell_type": "code",
   "execution_count": null,
   "metadata": {},
   "outputs": [],
   "source": [
    "classifiers[\"ETree W2V\"] = (ExtraTreesClassifier(n_estimators=200), MeanEmbeddingVectorizer(w2v_300))"
   ]
  },
  {
   "cell_type": "markdown",
   "metadata": {},
   "source": [
    "## Testes"
   ]
  },
  {
   "cell_type": "code",
   "execution_count": 82,
   "metadata": {},
   "outputs": [
    {
     "name": "stdout",
     "output_type": "stream",
     "text": [
      "\n",
      "Train: 40 Test: 2309:   BOW .....  TFIDF .....  W2V .....  HYBRID .....\n",
      "Train: 80 Test: 2269:   BOW .....  TFIDF .....  W2V .....  HYBRID .....\n",
      "Train: 120 Test: 2229:   BOW .....  TFIDF .....  W2V .....  HYBRID .....\n",
      "Train: 160 Test: 2189:   BOW .....  TFIDF .....  W2V .....  HYBRID .....\n",
      "Train: 200 Test: 2149:   BOW .....  TFIDF .....  W2V .....  HYBRID .....\n",
      "Train: 240 Test: 2109:   BOW .....  TFIDF .....  W2V .....  HYBRID .....\n",
      "Train: 280 Test: 2069:   BOW .....  TFIDF .....  W2V .....  HYBRID .....\n",
      "Train: 320 Test: 2029:   BOW .....  TFIDF .....  W2V .....  HYBRID .....\n",
      "Train: 360 Test: 1989:   BOW .....  TFIDF .....  W2V .....  HYBRID .....\n",
      "Train: 400 Test: 1949:   BOW .....  TFIDF .....  W2V .....  HYBRID .....\n",
      "Train: 440 Test: 1909:   BOW .....  TFIDF .....  W2V .....  HYBRID .....\n",
      "Train: 480 Test: 1869:   BOW .....  TFIDF .....  W2V .....  HYBRID .....\n",
      "Train: 520 Test: 1829:   BOW .....  TFIDF .....  W2V .....  HYBRID .....\n",
      "Train: 560 Test: 1789:   BOW .....  TFIDF .....  W2V .....  HYBRID .....\n",
      "Train: 600 Test: 1749:   BOW .....  TFIDF .....  W2V .....  HYBRID .....\n",
      "Train: 640 Test: 1709:   BOW .....  TFIDF .....  W2V .....  HYBRID .....\n",
      "Train: 680 Test: 1669:   BOW .....  TFIDF .....  W2V .....  HYBRID .....\n",
      "Train: 720 Test: 1629:   BOW .....  TFIDF .....  W2V .....  HYBRID .....\n",
      "Train: 760 Test: 1589:   BOW .....  TFIDF .....  W2V .....  HYBRID .....\n",
      "Train: 800 Test: 1549:   BOW .....  TFIDF .....  W2V .....  HYBRID .....\n",
      "Train: 840 Test: 1509:   BOW .....  TFIDF .....  W2V .....  HYBRID .....\n",
      "Train: 880 Test: 1469:   BOW .....  TFIDF .....  W2V .....  HYBRID .....\n",
      "Train: 920 Test: 1429:   BOW .....  TFIDF .....  W2V .....  HYBRID .....\n",
      "Train: 960 Test: 1389:   BOW .....  TFIDF .....  W2V .....  HYBRID .....\n",
      "Train: 1000 Test: 1349:   BOW .....  TFIDF .....  W2V .....  HYBRID .....\n",
      "Train: 1040 Test: 1309:   BOW .....  TFIDF .....  W2V .....  HYBRID .....\n",
      "Train: 1080 Test: 1269:   BOW .....  TFIDF .....  W2V .....  HYBRID .....\n",
      "Train: 1120 Test: 1229:   BOW .....  TFIDF .....  W2V .....  HYBRID .....\n",
      "Train: 1160 Test: 1189:   BOW .....  TFIDF .....  W2V .....  HYBRID .....\n",
      "Train: 1200 Test: 1149:   BOW .....  TFIDF .....  W2V .....  HYBRID .....\n",
      "Train: 1240 Test: 1109:   BOW .....  TFIDF .....  W2V .....  HYBRID .....\n",
      "Train: 1280 Test: 1069:   BOW .....  TFIDF .....  W2V .....  HYBRID .....\n",
      "Train: 1320 Test: 1029:   BOW .....  TFIDF .....  W2V .....  HYBRID .....\n",
      "Train: 1360 Test: 989:   BOW .....  TFIDF .....  W2V .....  HYBRID .....\n",
      "Train: 1400 Test: 949:   BOW .....  TFIDF .....  W2V .....  HYBRID .....\n",
      "Train: 1440 Test: 909:   BOW .....  TFIDF .....  W2V .....  HYBRID .....\n",
      "Train: 1480 Test: 869:   BOW .....  TFIDF .....  W2V .....  HYBRID .....\n",
      "Train: 1520 Test: 829:   BOW .....  TFIDF .....  W2V .....  HYBRID .....\n",
      "Train: 1560 Test: 789:   BOW .....  TFIDF .....  W2V .....  HYBRID .....\n",
      "Train: 1600 Test: 749:   BOW .....  TFIDF .....  W2V .....  HYBRID .....\n",
      "Train: 1640 Test: 709:   BOW .....  TFIDF .....  W2V .....  HYBRID .....\n",
      "Train: 1680 Test: 669:   BOW .....  TFIDF .....  W2V .....  HYBRID .....\n",
      "Train: 1720 Test: 629:   BOW .....  TFIDF .....  W2V .....  HYBRID .....\n",
      "Train: 1760 Test: 589:   BOW .....  TFIDF .....  W2V .....  HYBRID .....\n",
      "Train: 1800 Test: 549:   BOW .....  TFIDF .....  W2V .....  HYBRID .....\n",
      "Train: 1840 Test: 509:   BOW .....  TFIDF .....  W2V .....  HYBRID .....\n",
      "Train: 1880 Test: 469:   BOW .....  TFIDF .....  W2V .....  HYBRID .....\n",
      "Train: 1920 Test: 429:   BOW .....  TFIDF .....  W2V .....  HYBRID .....\n",
      "Train: 1960 Test: 389:   BOW .....  TFIDF .....  W2V .....  HYBRID .....\n",
      "Train: 2000 Test: 349:   BOW .....  TFIDF .....  W2V .....  HYBRID .....\n",
      "Train: 2040 Test: 309:   BOW .....  TFIDF .....  W2V .....  HYBRID .....\n",
      "Train: 2080 Test: 269:   BOW .....  TFIDF .....  W2V .....  HYBRID .....\n",
      "Train: 2120 Test: 229:   BOW .....  TFIDF .....  W2V .....  HYBRID .....\n",
      "Wall time: 5min 16s\n"
     ]
    }
   ],
   "source": [
    "%%time\n",
    "from sklearn.model_selection import ShuffleSplit\n",
    "from sklearn.metrics import accuracy_score, f1_score, precision_score, recall_score, confusion_matrix\n",
    "\n",
    "n = 40\n",
    "k = 5\n",
    "size_train = 0\n",
    "table = []\n",
    "\n",
    "while (size_train +n) <= (len(X)-200):\n",
    "    size_train += n\n",
    "    size_test = len(X) - size_train\n",
    "    print ('\\nTrain:', size_train, 'Test:', size_test, end=': ')\n",
    "    \n",
    "    rs = ShuffleSplit(n_splits=k, train_size=size_train, test_size=size_test, random_state=0)\n",
    "    \n",
    "    for classifier_name in classifiers:\n",
    "        print(' ', classifier_name, end=' ')\n",
    "        accuracy = []\n",
    "        precision = []\n",
    "        recall = []\n",
    "        f1 = []\n",
    "        confusion = []\n",
    "        for train_indexs, test_indexs in rs.split(X):\n",
    "            print('.', end='')\n",
    "            x_train = X[train_indexs]\n",
    "            y_train = y[train_indexs]\n",
    "            x_test = X[test_indexs]\n",
    "            y_test = y[test_indexs]\n",
    "            \n",
    "            pipe = Pipeline([(\"vector_model\", classifiers[classifier_name][1]), (\"classifer\", classifiers[classifier_name][0])])\n",
    "            model = pipe.fit(x_train, y_train)\n",
    "            result = model.predict(x_test)\n",
    "            score = {}\n",
    "            accuracy.append(accuracy_score(result, y_test))\n",
    "            precision.append(precision_score(result, y_test, average=\"macro\"))\n",
    "            recall.append(recall_score(result, y_test, average=\"macro\"))\n",
    "            f1.append(f1_score(result, y_test, average=\"macro\"))\n",
    "            confusion.append(confusion_matrix(result, y_test))\n",
    "        \n",
    "        table.append({'Model': classifier_name, \n",
    "                      'accuracy': np.mean(accuracy),\n",
    "                      'precision': np.mean(precision),\n",
    "                      'recall': np.mean(recall),\n",
    "                      'f1': np.mean(f1),\n",
    "                      #'confusion': np.mean(result['confusion'], axis=0),\n",
    "                      'train_size': size_train})\n",
    "print('')"
   ]
  },
  {
   "cell_type": "code",
   "execution_count": 83,
   "metadata": {},
   "outputs": [
    {
     "data": {
      "text/plain": [
       "[Text(0,0.5,'F1-Score')]"
      ]
     },
     "execution_count": 83,
     "metadata": {},
     "output_type": "execute_result"
    },
    {
     "data": {
      "image/png": "[encoded data removed]",
      "text/plain": [
       "<matplotlib.figure.Figure at 0x1d68e6ea208>"
      ]
     },
     "metadata": {},
     "output_type": "display_data"
    }
   ],
   "source": [
    "import pandas as pd\n",
    "import seaborn as sns\n",
    "%matplotlib inline\n",
    "import matplotlib.pyplot as plt\n",
    "\n",
    "names = lbs\n",
    "df = pd.DataFrame(table)\n",
    "\n",
    "aux = df[df.Model.map(lambda x: x in names)]\n",
    "\n",
    "sorterIndex = dict(zip(lbs,range(len(lbs))))\n",
    "aux['models_sort'] = aux['Model'].map(sorterIndex)\n",
    "aux.sort_values(['Model'], \\\n",
    "        ascending = [1], inplace = True)\n",
    "aux.drop('models_sort', 1, inplace = True)\n",
    "\n",
    "\n",
    "col_list = [\"black\", \"black\", \"black\", \"black\", \"black\"]\n",
    "col_list_palette = sns.xkcd_palette(col_list)\n",
    "#sns.set_palette(col_list_palette)\n",
    "sns.set_palette(sns.color_palette(\"muted\", 5))\n",
    "\n",
    "\n",
    "#df = df.drop('accuracy', 1).drop('precision', 1).drop('recall', 1).drop('train_size', 1)\n",
    "\n",
    "plt.figure(figsize=(12, 6))\n",
    "\n",
    "fig = sns.pointplot(x='train_size', y='f1', hue='Model', \n",
    "                    data=df[df.Model.map(lambda x: x in names)],\n",
    "                    #markers=['o',7,'p','s','x'],\n",
    "                    markers=['','','','',''],\n",
    "                    lineheight=1\n",
    "                   )\n",
    "\n",
    "for ind, label in enumerate(fig.get_xticklabels()):\n",
    "    if ind == 0 or ind == 12 or ind == 26 or ind == 39 or ind == 52:\n",
    "        label.set_visible(True)\n",
    "    else:\n",
    "        label.set_visible(False)\n",
    "plt.setp(fig.lines,linewidth=1.5)\n",
    "sns.set_context(\"notebook\", font_scale=1.5)\n",
    "fig.set(ylabel=\"f1\")\n",
    "fig.set(xlabel=\"Size of the training sample\")\n",
    "fig.set(ylabel=\"F1-Score\")"
   ]
  },
  {
   "cell_type": "code",
   "execution_count": 64,
   "metadata": {},
   "outputs": [
    {
     "name": "stdout",
     "output_type": "stream",
     "text": [
      "\n",
      "\n",
      "BOW:\n",
      "\n",
      "Recall:  0.8727\n",
      "Precision:  0.8719\n",
      "F1:  0.8685\n",
      "Accuracy:  0.8795\n",
      "\n",
      "\n",
      "TFIDF:\n",
      "\n",
      "Recall:  0.8754\n",
      "Precision:  0.8752\n",
      "F1:  0.8724\n",
      "Accuracy:  0.8838\n",
      "\n",
      "\n",
      "W2V:\n",
      "\n",
      "Recall:  0.8487\n",
      "Precision:  0.8472\n",
      "F1:  0.8462\n",
      "Accuracy:  0.8603\n",
      "\n",
      "\n",
      "HYBRID:\n",
      "\n",
      "Recall:  0.8964\n",
      "Precision:  0.892\n",
      "F1:  0.8923\n",
      "Accuracy:  0.9004\n"
     ]
    }
   ],
   "source": [
    "def print_scores(model):\n",
    "    last = {}\n",
    "    for t in table:\n",
    "        if t['Model'] == model:\n",
    "            last['precision'] = t['precision']\n",
    "            last['recall'] = t['recall']\n",
    "            last['f1'] = t['f1']\n",
    "            last['accuracy'] = t['accuracy']\n",
    "    print ('Recall: ', round(last['recall'],4))\n",
    "    print ('Precision: ', round(last['precision'],4))\n",
    "    print ('F1: ', round(last['f1'],4))\n",
    "    print ('Accuracy: ', round(last['accuracy'],4))\n",
    "\n",
    "print ('\\n\\n'+lbs[0]+':\\n')\n",
    "print_scores(lbs[0])\n",
    "print ('\\n\\n'+lbs[1]+':\\n')\n",
    "print_scores(lbs[1])\n",
    "print ('\\n\\n'+lbs[2]+':\\n')\n",
    "print_scores(lbs[2])\n",
    "print ('\\n\\n'+lbs[3]+':\\n')\n",
    "print_scores(lbs[3])\n",
    "#print ('\\n\\n'+lbs[4]+':\\n')\n",
    "#print_scores(lbs[4])\n"
   ]
  },
  {
   "cell_type": "code",
   "execution_count": 56,
   "metadata": {},
   "outputs": [
    {
     "data": {
      "text/plain": [
       "Ttest_indResult(statistic=-2.195862978982542, pvalue=0.030323557512371233)"
      ]
     },
     "execution_count": 56,
     "metadata": {},
     "output_type": "execute_result"
    }
   ],
   "source": [
    "import scipy\n",
    "\n",
    "a = []\n",
    "b = []\n",
    "\n",
    "for t in table:\n",
    "    if t['Model'] == lbs[1]:\n",
    "        a.append(t['f1'])\n",
    "    if t['Model'] == lbs[3]:\n",
    "        b.append(t['f1'])\n",
    "\n",
    "scipy.stats.ttest_ind(a, b)"
   ]
  },
  {
   "cell_type": "code",
   "execution_count": 72,
   "metadata": {},
   "outputs": [],
   "source": [
    "import warnings\n",
    "warnings.filterwarnings('ignore')"
   ]
  }
 ],
 "metadata": {
  "kernelspec": {
   "display_name": "Python 3",
   "language": "python",
   "name": "python3"
  },
  "language_info": {
   "codemirror_mode": {
    "name": "ipython",
    "version": 3
   },
   "file_extension": ".py",
   "mimetype": "text/x-python",
   "name": "python",
   "nbconvert_exporter": "python",
   "pygments_lexer": "ipython3",
   "version": "3.6.4"
  }
 },
 "nbformat": 4,
 "nbformat_minor": 2
}
