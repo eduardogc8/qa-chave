{
 "cells": [
  {
   "cell_type": "markdown",
   "metadata": {},
   "source": [
    "Parâmetros"
   ]
  },
  {
   "cell_type": "code",
   "execution_count": 2,
   "metadata": {
    "collapsed": true
   },
   "outputs": [],
   "source": [
    "LOWER_CASE = False\n",
    "MIN_GRAMS = 1\n",
    "MAX_GRAMS = 1"
   ]
  },
  {
   "cell_type": "markdown",
   "metadata": {},
   "source": [
    "Define a classe correta com base nos parâmetros tipo e categoria presentes em cada questão do dataset Chave"
   ]
  },
  {
   "cell_type": "code",
   "execution_count": 3,
   "metadata": {
    "collapsed": true
   },
   "outputs": [],
   "source": [
    "def correct_class(t, c):\n",
    "    if c == 'COUNT':\n",
    "        return 'MEASURE'\n",
    "    if c == 'D' or c == 'DEFINITION':\n",
    "        return 'DEFINITION'\n",
    "    if c == 'F' or c == 'FACTOID':\n",
    "        if t == 'COUNT':\n",
    "            return 'MEASURE'\n",
    "        else:\n",
    "            return t\n",
    "    if c == 'L' or c == 'LIST':\n",
    "        if t == 'COUNT':\n",
    "            return 'MEASURE'\n",
    "        else:\n",
    "            return t\n",
    "    if c == 'LOCATION':\n",
    "        return 'LOCATION'\n",
    "    if c == 'MEASURE':\n",
    "        return 'MEASURE'\n",
    "    if c == 'OBJECT':\n",
    "        return 'DEFINITION'\n",
    "    if c == 'ORGANIZATION':\n",
    "        return 'ORGANIZATION'\n",
    "    if c == 'OTHER' and (t == 'FACTOID' or t == 'LIST'):\n",
    "        return 'OTHER'\n",
    "    if c == 'OTHER' and not (t == 'FACTOID' or t == 'LIST'):\n",
    "        return t\n",
    "    if c == 'PERSON' and t == 'DEFINITION':\n",
    "        return 'DEFINITION'\n",
    "    if c == 'PERSON' and not t == 'DEFINITION':\n",
    "        return 'PERSON'\n",
    "    if c == 'TIME':\n",
    "        return 'TIME'\n",
    "    return c"
   ]
  },
  {
   "cell_type": "markdown",
   "metadata": {},
   "source": [
    "Realiza o pré-processamento no texto da questão"
   ]
  },
  {
   "cell_type": "code",
   "execution_count": 4,
   "metadata": {
    "collapsed": true
   },
   "outputs": [],
   "source": [
    "def pre_processing(text):\n",
    "    if text is None:\n",
    "        return None\n",
    "    ret = text.replace('\\n', '').replace('\\t', '').replace('\\r', '')\n",
    "    ret = ret.replace('?', '')\n",
    "    #ret = ret.replace('«', '\\\"').replace('»', '\\\"')\n",
    "    return ret"
   ]
  },
  {
   "cell_type": "markdown",
   "metadata": {},
   "source": [
    "Buscar dados do dataset Chave"
   ]
  },
  {
   "cell_type": "code",
   "execution_count": 5,
   "metadata": {
    "scrolled": true
   },
   "outputs": [
    {
     "name": "stdout",
     "output_type": "stream",
     "text": [
      "X: 3464  y: 3464\n"
     ]
    }
   ],
   "source": [
    "import xml.etree.ElementTree as et\n",
    "import qa_system\n",
    "import re\n",
    "\n",
    "\n",
    "path_questions = \"dataset/questions.xml\"\n",
    "\n",
    "X, y = [], []\n",
    "tree = et.parse(open(path_questions, 'r'))\n",
    "for question in tree.getroot():\n",
    "    \n",
    "    t = question.attrib['tipo']\n",
    "    c = question.attrib['categoria']\n",
    "    clss = correct_class(t, c)\n",
    "    \n",
    "    if clss == None:\n",
    "        continue\n",
    "    if clss == 'X':\n",
    "        continue\n",
    "    if clss == 'MANNER':\n",
    "        continue\n",
    "    if clss == 'OBJECT':\n",
    "        continue\n",
    "    \n",
    "    for t in question:\n",
    "        if t.tag == 'texto':\n",
    "            text = pre_processing(t.text)\n",
    "            if text is not None:\n",
    "                text = text.split()\n",
    "                if type(text) == type(''): text = text.decode('utf-8')\n",
    "                X.append(text)\n",
    "                y.append(clss)\n",
    "                break\n",
    "        \n",
    "print 'X:',len(X),' y:',len(y)"
   ]
  },
  {
   "cell_type": "markdown",
   "metadata": {},
   "source": [
    "Modelos de EmbeddingVectorizer"
   ]
  },
  {
   "cell_type": "code",
   "execution_count": 20,
   "metadata": {
    "collapsed": true
   },
   "outputs": [],
   "source": [
    "import numpy as np\n",
    "from collections import Counter, defaultdict\n",
    "\n",
    "\n",
    "class MeanEmbeddingVectorizer(object):\n",
    "    def __init__(self, word2vec):\n",
    "        self.word2vec = word2vec\n",
    "        self.dim = len(word2vec.itervalues().next())\n",
    "    \n",
    "    def fit(self, X, y):\n",
    "        return self\n",
    "\n",
    "    def transform(self, X):\n",
    "        return np.array([\n",
    "            np.mean([self.word2vec[w] for w in words if w in self.word2vec] \n",
    "                    or [np.zeros(self.dim)], axis=0)\n",
    "            for words in X\n",
    "        ])\n",
    "\n",
    "class TfidfEmbeddingVectorizer(object):\n",
    "    def __init__(self, word2vec):\n",
    "        self.word2vec = word2vec\n",
    "        self.word2weight = None\n",
    "        self.dim = len(word2vec.itervalues().next())\n",
    "        \n",
    "    def fit(self, X, y):\n",
    "        tfidf = TfidfVectorizer(analyzer=lambda x: x)\n",
    "        tfidf.fit(X)\n",
    "        max_idf = max(tfidf.idf_)\n",
    "        self.word2weight = defaultdict(\n",
    "            lambda: max_idf, \n",
    "            [(w, tfidf.idf_[i]) for w, i in tfidf.vocabulary_.items()])\n",
    "        return self\n",
    "    \n",
    "    def transform(self, X):\n",
    "        return np.array([\n",
    "                np.mean([self.word2vec[w] * self.word2weight[w]\n",
    "                         for w in words if w in self.word2vec] or\n",
    "                        [np.zeros(self.dim)], axis=0)\n",
    "                for words in X\n",
    "            ])"
   ]
  },
  {
   "cell_type": "markdown",
   "metadata": {},
   "source": [
    "Carregar Modelos"
   ]
  },
  {
   "cell_type": "code",
   "execution_count": null,
   "metadata": {},
   "outputs": [],
   "source": [
    "import numpy as np\n",
    "from gensim.models import KeyedVectors, Word2Vec\n",
    "\n",
    "path_w2v_model = \"dataset/w2v/pt.bin\"\n",
    "\n",
    "cbow_w2v_50 = 'dataset/wordEmbedding/cbow_s50_w2v.txt'\n",
    "cbow_w2v_100 = 'dataset/wordEmbedding/cbow_s100_w2v.txt'\n",
    "cbow_w2v_300 = 'dataset/wordEmbedding/cbow_s300_w2v.txt'\n",
    "\n",
    "cbow_wng2v_50 = 'dataset/wordEmbedding/cbow_s50_wng2v.txt'\n",
    "cbow_wng2v_100 = 'dataset/wordEmbedding/cbow_s100_wng2v.txt'\n"
   ]
  },
  {
   "cell_type": "code",
   "execution_count": null,
   "metadata": {
    "collapsed": true
   },
   "outputs": [],
   "source": [
    "cbow_small = {}\n",
    "all_words = set(w for words in X for w in words)\n",
    "with open(cbow_w2v_50, \"rb\") as infile:\n",
    "    for line in infile:\n",
    "        parts = line.split()\n",
    "        word = parts[0]\n",
    "        nums = map(float, parts[1:])\n",
    "        if word in all_words:\n",
    "            cbow_small[word] = np.array(nums)"
   ]
  },
  {
   "cell_type": "code",
   "execution_count": null,
   "metadata": {
    "collapsed": true
   },
   "outputs": [],
   "source": [
    "cbow_medium = {}\n",
    "all_words = set(w for words in X for w in words)\n",
    "with open(cbow_w2v_100, \"rb\") as infile:\n",
    "    for line in infile:\n",
    "        parts = line.split()\n",
    "        word = parts[0]\n",
    "        nums = map(float, parts[1:])\n",
    "        if word in all_words:\n",
    "            cbow_medium[word] = np.array(nums)"
   ]
  },
  {
   "cell_type": "code",
   "execution_count": null,
   "metadata": {
    "collapsed": true
   },
   "outputs": [],
   "source": [
    "wng_small = {}\n",
    "all_words = set(w for words in X for w in words)\n",
    "with open(cbow_wng2v_50, \"rb\") as infile:\n",
    "    for line in infile:\n",
    "        parts = line.split()\n",
    "        word = parts[0]\n",
    "        nums = map(float, parts[1:])\n",
    "        if word in all_words:\n",
    "            wng_small[word] = np.array(nums)"
   ]
  },
  {
   "cell_type": "code",
   "execution_count": null,
   "metadata": {
    "collapsed": true
   },
   "outputs": [],
   "source": [
    "wng_medium = {}\n",
    "all_words = set(w for words in X for w in words)\n",
    "with open(cbow_wng2v_100, \"rb\") as infile:\n",
    "    for line in infile:\n",
    "        parts = line.split()\n",
    "        word = parts[0]\n",
    "        nums = map(float, parts[1:])\n",
    "        if word in all_words:\n",
    "            wng_medium[word] = np.array(nums)"
   ]
  },
  {
   "cell_type": "markdown",
   "metadata": {},
   "source": [
    "Carregar modelos Word2Vec em Português "
   ]
  },
  {
   "cell_type": "code",
   "execution_count": null,
   "metadata": {
    "collapsed": true
   },
   "outputs": [],
   "source": [
    "w2v_50 = KeyedVectors.load_word2vec_format(cbow_w2v_50, unicode_errors=\"ignore\")\n",
    "w2v_50 = {w: vec for w, vec in zip(w2v_50.index2word, w2v_50.syn0)}"
   ]
  },
  {
   "cell_type": "code",
   "execution_count": null,
   "metadata": {
    "collapsed": true
   },
   "outputs": [],
   "source": [
    "w2v_100 = KeyedVectors.load_word2vec_format(cbow_w2v_100, unicode_errors=\"ignore\")\n",
    "w2v_100 = {w: vec for w, vec in zip(w2v_100.index2word, w2v_100.syn0)}"
   ]
  },
  {
   "cell_type": "code",
   "execution_count": null,
   "metadata": {
    "collapsed": true
   },
   "outputs": [],
   "source": [
    "wng2v_50 = KeyedVectors.load_word2vec_format(cbow_wng2v_50, unicode_errors=\"ignore\")\n",
    "wng2v_50 = {w: vec for w, vec in zip(wng2v_50.index2word, wng2v_50.syn0)}"
   ]
  },
  {
   "cell_type": "code",
   "execution_count": 28,
   "metadata": {},
   "outputs": [
    {
     "name": "stdout",
     "output_type": "stream",
     "text": [
      "ok1\n",
      "ok2\n",
      "ok3\n"
     ]
    }
   ],
   "source": [
    "wng2v_100 = KeyedVectors.load_word2vec_format(cbow_wng2v_100, unicode_errors=\"ignore\")\n",
    "wng2v_100 = {w: vec for w, vec in zip(wng2v_100.index2word, wng2v_100.syn0)}"
   ]
  },
  {
   "cell_type": "code",
   "execution_count": 19,
   "metadata": {},
   "outputs": [],
   "source": [
    "word2vec = Word2Vec.load(path_w2v_model)\n",
    "word2vec.init_sims(replace=True)\n",
    "w2v = {w: vec for w, vec in zip(word2vec.wv.index2word, word2vec.wv.syn0)}"
   ]
  },
  {
   "cell_type": "markdown",
   "metadata": {},
   "source": [
    "Definindo os modelos de teste"
   ]
  },
  {
   "cell_type": "code",
   "execution_count": 29,
   "metadata": {
    "scrolled": true
   },
   "outputs": [],
   "source": [
    "from sklearn.feature_extraction.text import CountVectorizer\n",
    "from sklearn.feature_extraction.text import TfidfVectorizer\n",
    "from sklearn.ensemble import ExtraTreesClassifier\n",
    "from sklearn.pipeline import Pipeline"
   ]
  },
  {
   "cell_type": "markdown",
   "metadata": {},
   "source": [
    "Naive Bayes"
   ]
  },
  {
   "cell_type": "code",
   "execution_count": 30,
   "metadata": {
    "collapsed": true
   },
   "outputs": [],
   "source": [
    "from sklearn.naive_bayes import BernoulliNB, MultinomialNB\n",
    "\n",
    "mult_nb = Pipeline([(\"count_vectorizer\", CountVectorizer(analyzer=lambda x: x)), (\"multinomial nb\", MultinomialNB())])\n",
    "bern_nb = Pipeline([(\"count_vectorizer\", CountVectorizer(analyzer=lambda x: x)), (\"bernoulli nb\", BernoulliNB())])\n",
    "mult_nb_tfidf = Pipeline([(\"tfidf_vectorizer\", TfidfVectorizer(analyzer=lambda x: x)), (\"multinomial nb\", MultinomialNB())])\n",
    "bern_nb_tfidf = Pipeline([(\"tfidf_vectorizer\", TfidfVectorizer(analyzer=lambda x: x)), (\"bernoulli nb\", BernoulliNB())])"
   ]
  },
  {
   "cell_type": "markdown",
   "metadata": {},
   "source": [
    "SVM"
   ]
  },
  {
   "cell_type": "code",
   "execution_count": 31,
   "metadata": {
    "collapsed": true
   },
   "outputs": [],
   "source": [
    "from sklearn.svm import SVC\n",
    "\n",
    "svc = Pipeline([(\"count_vectorizer\", CountVectorizer(analyzer=lambda x: x, strip_accents=None, ngram_range=(MIN_GRAMS, MAX_GRAMS), token_pattern=u'(?u)\\\\b\\\\w+\\\\b', lowercase=LOWER_CASE)), (\"linear svc\", SVC(kernel=\"linear\"))])\n",
    "svc_tfidf = Pipeline([(\"tfidf_vectorizer\", TfidfVectorizer(analyzer=lambda x: x)), (\"linear svc\", SVC(kernel=\"linear\"))])"
   ]
  },
  {
   "cell_type": "markdown",
   "metadata": {},
   "source": [
    "Word2Vec"
   ]
  },
  {
   "cell_type": "code",
   "execution_count": 39,
   "metadata": {
    "collapsed": true
   },
   "outputs": [],
   "source": [
    "etree_w2v = Pipeline([(\"word2vec vectorizer\", MeanEmbeddingVectorizer(w2v)), \n",
    "                        (\"extra trees\", ExtraTreesClassifier(n_estimators=200))])\n",
    "etree_w2v_tfidf = Pipeline([(\"word2vec vectorizer\", TfidfEmbeddingVectorizer(w2v)), \n",
    "                        (\"extra trees\", ExtraTreesClassifier(n_estimators=200))])\n",
    "etree_w2v_50 = Pipeline([(\"w2v_50 vectorizer\", MeanEmbeddingVectorizer(w2v_50)), \n",
    "                        (\"extra trees\", ExtraTreesClassifier(n_estimators=200))])\n",
    "etree_w2v_50_tfidf = Pipeline([(\"w2v_50 vectorizer\", TfidfEmbeddingVectorizer(w2v_50)), \n",
    "                        (\"extra trees\", ExtraTreesClassifier(n_estimators=200))])\n",
    "etree_w2v_100 = Pipeline([(\"w2v_100 vectorizer\", MeanEmbeddingVectorizer(w2v_100)), \n",
    "                        (\"extra trees\", ExtraTreesClassifier(n_estimators=200))])\n",
    "etree_w2v_100_tfidf = Pipeline([(\"w2v_100 vectorizer\", TfidfEmbeddingVectorizer(w2v_100)), \n",
    "                        (\"extra trees\", ExtraTreesClassifier(n_estimators=200))])"
   ]
  },
  {
   "cell_type": "markdown",
   "metadata": {},
   "source": [
    "Wang2Vec"
   ]
  },
  {
   "cell_type": "code",
   "execution_count": 42,
   "metadata": {
    "collapsed": true
   },
   "outputs": [],
   "source": [
    "etree_wng2v_50 = Pipeline([(\"wng2v_50 vectorizer\", MeanEmbeddingVectorizer(wng2v_50)), \n",
    "                        (\"extra trees\", ExtraTreesClassifier(n_estimators=200))])\n",
    "etree_wng2v_50_tfidf = Pipeline([(\"wng2v_50 vectorizer\", TfidfEmbeddingVectorizer(wng2v_50)), \n",
    "                        (\"extra trees\", ExtraTreesClassifier(n_estimators=200))])\n",
    "etree_wng2v_100 = Pipeline([(\"wng2v_100 vectorizer\", MeanEmbeddingVectorizer(wng2v_100)), \n",
    "                        (\"extra trees\", ExtraTreesClassifier(n_estimators=200))])\n",
    "etree_wng2v_100_tfidf = Pipeline([(\"wng2v_100 vectorizer\", TfidfEmbeddingVectorizer(wng2v_100)), \n",
    "                        (\"extra trees\", ExtraTreesClassifier(n_estimators=200))])"
   ]
  },
  {
   "cell_type": "markdown",
   "metadata": {},
   "source": [
    "Word2Vec e Wang2Vec direto em Embedding"
   ]
  },
  {
   "cell_type": "code",
   "execution_count": 43,
   "metadata": {
    "collapsed": true
   },
   "outputs": [],
   "source": [
    "etree_cbow_small = Pipeline([(\"cbowS_vectorizer\", MeanEmbeddingVectorizer(cbow_small)), \n",
    "                        (\"extra trees\", ExtraTreesClassifier(n_estimators=200))])\n",
    "etree_cbow_small_tfidf = Pipeline([(\"cbowS_tfidf_vectorizer\", TfidfEmbeddingVectorizer(cbow_small)), \n",
    "                        (\"extra trees\", ExtraTreesClassifier(n_estimators=200))])\n",
    "etree_cbow_medium = Pipeline([(\"cbowM_vectorizer\", MeanEmbeddingVectorizer(cbow_medium)), \n",
    "                        (\"extra trees\", ExtraTreesClassifier(n_estimators=200))])\n",
    "etree_cbow_medium_tfidf = Pipeline([(\"cbowS_tfidf_vectorizer\", TfidfEmbeddingVectorizer(cbow_medium)), \n",
    "                        (\"extra trees\", ExtraTreesClassifier(n_estimators=200))])\n",
    "etree_wng_small = Pipeline([(\"wngS_vectorizer\", MeanEmbeddingVectorizer(wng_small)), \n",
    "                        (\"extra trees\", ExtraTreesClassifier(n_estimators=200))])\n",
    "etree_wng_small_tfidf = Pipeline([(\"wngS_tfidf_vectorizer\", TfidfEmbeddingVectorizer(wng_small)), \n",
    "                        (\"extra trees\", ExtraTreesClassifier(n_estimators=200))])\n",
    "etree_wng_medium = Pipeline([(\"wngM_vectorizer\", MeanEmbeddingVectorizer(wng_medium)), \n",
    "                        (\"extra trees\", ExtraTreesClassifier(n_estimators=200))])\n",
    "etree_wng_medium_tfidf = Pipeline([(\"wngM_tfidf_vectorizer\", TfidfEmbeddingVectorizer(wng_medium)), \n",
    "                        (\"extra trees\", ExtraTreesClassifier(n_estimators=200))])"
   ]
  },
  {
   "cell_type": "markdown",
   "metadata": {},
   "source": [
    "Estruturar modelos para os testes"
   ]
  },
  {
   "cell_type": "code",
   "execution_count": 44,
   "metadata": {},
   "outputs": [],
   "source": [
    "from tabulate import tabulate\n",
    "from sklearn.cross_validation import cross_val_score\n",
    "\n",
    "\n",
    "all_models = [\n",
    "    (\"mult_nb\", mult_nb),\n",
    "    (\"mult_nb_tfidf\", mult_nb_tfidf),\n",
    "    (\"bern_nb\", bern_nb),\n",
    "    (\"bern_nb_tfidf\", bern_nb_tfidf),\n",
    "    (\"svc\", svc),\n",
    "    (\"svc_tfidf\", svc_tfidf),\n",
    "    (\"cbow_50d\", etree_cbow_small),\n",
    "    (\"cbow_50d_tfidf\", etree_cbow_small_tfidf),\n",
    "    (\"cbow_100d\", etree_cbow_medium),\n",
    "    (\"cbow_100d_tfidf\", etree_cbow_medium_tfidf),\n",
    "    (\"cbow_wng_50d\", etree_wng_small),\n",
    "    (\"cbow_wng_50d_tfidf\", etree_wng_small_tfidf),\n",
    "    (\"cbow_wng_100d\", etree_wng_medium),\n",
    "    (\"cbow_wng_100d_tfidf\", etree_wng_medium_tfidf),\n",
    "    (\"w2v_50\", etree_w2v_50),\n",
    "    (\"w2v_50_tdidf\", etree_w2v_50_tfidf),\n",
    "    (\"w2v_100\", etree_w2v_100),\n",
    "    (\"w2v_100_tdidf\", etree_w2v_100_tfidf),\n",
    "    (\"w2v\", etree_w2v),\n",
    "    (\"w2v_tfidf\", etree_w2v_tfidf),\n",
    "    (\"wng2v_50\", etree_wng2v_50),\n",
    "    (\"wng2v_50_tdidf\", etree_wng2v_50_tfidf),\n",
    "    (\"wng2v_100\", etree_wng2v_100),\n",
    "    (\"wng2v_100_tdidf\", etree_wng2v_100_tfidf),\n",
    "]\n"
   ]
  },
  {
   "cell_type": "markdown",
   "metadata": {},
   "source": [
    "Obter resultados"
   ]
  },
  {
   "cell_type": "code",
   "execution_count": 46,
   "metadata": {},
   "outputs": [
    {
     "name": "stdout",
     "output_type": "stream",
     "text": [
      "model                  score\n",
      "-------------------  -------\n",
      "svc                   0.8204\n",
      "svc_tfidf             0.8172\n",
      "mult_nb               0.7629\n",
      "mult_nb_tfidf         0.7424\n",
      "wng2v_100             0.6685\n",
      "w2v                   0.6685\n",
      "w2v_100               0.6671\n",
      "w2v_100_tdidf         0.6633\n",
      "w2v_50                0.6613\n",
      "wng2v_100_tdidf       0.6601\n",
      "w2v_tfidf             0.6596\n",
      "wng2v_50              0.6561\n",
      "w2v_50_tdidf          0.6474\n",
      "wng2v_50_tdidf        0.6382\n",
      "cbow_wng_100d         0.6301\n",
      "cbow_100d             0.6278\n",
      "cbow_wng_100d_tfidf   0.6246\n",
      "cbow_100d_tfidf       0.6183\n",
      "cbow_wng_50d_tfidf    0.6151\n",
      "cbow_wng_50d          0.6146\n",
      "bern_nb               0.6125\n",
      "bern_nb_tfidf         0.6125\n",
      "cbow_50d_tfidf        0.6030\n",
      "cbow_50d              0.6024\n"
     ]
    },
    {
     "data": {
      "text/plain": [
       "<matplotlib.axes._subplots.AxesSubplot at 0x7ff9502cbe10>"
      ]
     },
     "execution_count": 46,
     "metadata": {},
     "output_type": "execute_result"
    },
    {
     "data": {
      "image/png": "[encoded data removed]",
      "text/plain": [
       "<matplotlib.figure.Figure at 0x7ff92ffafd10>"
      ]
     },
     "metadata": {},
     "output_type": "display_data"
    }
   ],
   "source": [
    "scores = sorted([(name, cross_val_score(model, X, y, cv=3).mean()) \n",
    "                 for name, model in all_models], \n",
    "                key=lambda (_, x): -x)\n",
    "print tabulate(scores, floatfmt=\".4f\", headers=(\"model\", 'score'))\n",
    "\n",
    "#Plot1\n",
    "%matplotlib inline\n",
    "import matplotlib.pyplot as plt\n",
    "import seaborn as sns\n",
    "\n",
    "plt.figure(figsize=(15, 6))\n",
    "sns.barplot(x=[name for name, _ in scores], y=[score for _, score in scores])"
   ]
  },
  {
   "cell_type": "markdown",
   "metadata": {},
   "source": [
    "Realizar testes variando o tamanho do conjunto de treinamento"
   ]
  },
  {
   "cell_type": "code",
   "execution_count": null,
   "metadata": {
    "collapsed": true
   },
   "outputs": [],
   "source": [
    "from sklearn.cross_validation import StratifiedShuffleSplit\n",
    "\n",
    "def benchmark(model, X, y, n):\n",
    "    test_size = 1 - (n / float(len(y)))\n",
    "    scores = []\n",
    "    for train, test in StratifiedShuffleSplit(y, n_iter=5, test_size=test_size):\n",
    "        for t in train: print type(t)\n",
    "        print X[train]\n",
    "        X_train, X_test = X[train], X[test]\n",
    "        y_train, y_test = y[train], y[test]\n",
    "        scores.append(accuracy_score(model.fit(X_train, y_train).predict(X_test), y_test))\n",
    "    return np.mean(scores)"
   ]
  },
  {
   "cell_type": "code",
   "execution_count": null,
   "metadata": {},
   "outputs": [],
   "source": [
    "train_sizes = [10, 40, 160, 640, 3200]\n",
    "table = []\n",
    "for name, model in all_models:\n",
    "    for n in train_sizes:\n",
    "        table.append({'model': name, \n",
    "                      'accuracy': benchmark(model, X, y, n), \n",
    "                      'train_size': n})\n",
    "df = pd.DataFrame(table)\n"
   ]
  },
  {
   "cell_type": "markdown",
   "metadata": {},
   "source": [
    "Plotar gráfico"
   ]
  },
  {
   "cell_type": "code",
   "execution_count": null,
   "metadata": {
    "collapsed": true
   },
   "outputs": [],
   "source": [
    "plt.figure(figsize=(15, 6))\n",
    "fig = sns.pointplot(x='train_size', y='accuracy', hue='model', \n",
    "                    data=df[df.model.map(lambda x: x in [\"mult_nb\", \"svc_tfidf\", \"w2v_tfidf\", \n",
    "                                                         \"glove_small_tfidf\", \"glove_big_tfidf\", \n",
    "                                                        ])])\n",
    "sns.set_context(\"notebook\", font_scale=1.5)\n",
    "fig.set(ylabel=\"accuracy\")\n",
    "fig.set(xlabel=\"labeled training examples\")\n",
    "fig.set(title=\"R8 benchmark\")\n",
    "fig.set(ylabel=\"accuracy\")"
   ]
  }
 ],
 "metadata": {
  "kernelspec": {
   "display_name": "Python 2",
   "language": "python",
   "name": "python2"
  },
  "language_info": {
   "codemirror_mode": {
    "name": "ipython",
    "version": 2
   },
   "file_extension": ".py",
   "mimetype": "text/x-python",
   "name": "python",
   "nbconvert_exporter": "python",
   "pygments_lexer": "ipython2",
   "version": "2.7.12"
  }
 },
 "nbformat": 4,
 "nbformat_minor": 2
}
