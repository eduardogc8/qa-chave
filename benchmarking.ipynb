{
 "cells": [
  {
   "cell_type": "markdown",
   "metadata": {},
   "source": [
    "### Buscar questões do dataset Chave"
   ]
  },
  {
   "cell_type": "code",
   "execution_count": 230,
   "metadata": {
    "collapsed": false
   },
   "outputs": [],
   "source": [
    "import manager_dataset as _md\n",
    "\n",
    "questions = _md.pairs()"
   ]
  },
  {
   "cell_type": "markdown",
   "metadata": {},
   "source": [
    "### Pré-processamento no texto das questões"
   ]
  },
  {
   "cell_type": "code",
   "execution_count": 231,
   "metadata": {
    "collapsed": false
   },
   "outputs": [
    {
     "name": "stdout",
     "output_type": "stream",
     "text": [
      "X: 2973  y: 2973\n"
     ]
    }
   ],
   "source": [
    "import numpy as np\n",
    "import random\n",
    "import nltk\n",
    "\n",
    "X = []\n",
    "y = []\n",
    "for question in questions:\n",
    "    \n",
    "    clss = question.correct_classification\n",
    "    \n",
    "    if clss == None:\n",
    "        continue\n",
    "    if clss == 'X':\n",
    "        continue\n",
    "    if clss == 'MANNER':\n",
    "        continue\n",
    "    if clss == 'OBJECT':\n",
    "        continue\n",
    "    if clss == 'OTHER':\n",
    "        continue\n",
    "    \n",
    "    text = question.question\n",
    "    text = text.replace('\\n', '').replace('\\r', '')\n",
    "    text = text.replace('?', ' ? ').replace('.', ' . ').replace(',', ' , ')\n",
    "    text = text.replace(':', ' : ').replace(';', ' ; ')\n",
    "    text = text.replace('\\'', ' \\\" ').replace('\\\"', ' \\\" ')\n",
    "    text = text.replace(u'«', ' \\\" ').replace(u'»', ' \\\" ')\n",
    "    text = text.lower()\n",
    "    question.question = text\n",
    "    \n",
    "    text = nltk.word_tokenize(text)\n",
    "    X.append(text)\n",
    "    y.append(clss)\n",
    "\n",
    "                \n",
    "print 'X:',len(X),' y:',len(y)\n",
    "random.seed(1)\n",
    "a = zip(X, y)\n",
    "random.shuffle(a)\n",
    "X, y = zip(*a)\n",
    "X, y = np.array(X), np.array(y)\n"
   ]
  },
  {
   "cell_type": "markdown",
   "metadata": {},
   "source": [
    "### Modelo Word2Vec"
   ]
  },
  {
   "cell_type": "code",
   "execution_count": 3,
   "metadata": {
    "collapsed": false
   },
   "outputs": [
    {
     "name": "stdout",
     "output_type": "stream",
     "text": [
      "Tue Oct  3 12:31:52 2017\n",
      ".\n",
      "--- 328.721945047 seconds ---\n"
     ]
    }
   ],
   "source": [
    "import numpy as np\n",
    "from gensim.models import KeyedVectors\n",
    "import time\n",
    "\n",
    "start_time = time.time()\n",
    "print time.asctime()\n",
    "cbow_w2v_300 = 'data/word_embedding/cbow_s300.txt'\n",
    "\n",
    "mw2v_300 = KeyedVectors.load_word2vec_format(cbow_w2v_300, unicode_errors=\"ignore\")\n",
    "print '.'\n",
    "w2v_300 = {w: vec for w, vec in zip(mw2v_300.index2word, mw2v_300.syn0)}\n",
    "\n",
    "print(\"--- %s seconds ---\" % (time.time() - start_time))"
   ]
  },
  {
   "cell_type": "markdown",
   "metadata": {},
   "source": [
    "### Modelos de representação em vetor"
   ]
  },
  {
   "cell_type": "code",
   "execution_count": 374,
   "metadata": {
    "collapsed": false
   },
   "outputs": [],
   "source": [
    "import numpy as np\n",
    "from collections import Counter, defaultdict\n",
    "from sklearn.feature_extraction.text import CountVectorizer\n",
    "from sklearn.feature_extraction.text import TfidfVectorizer\n",
    "\n",
    "\n",
    "def count_vectorizer(MIN_GRAM=1, MAX_GRAM=1, LOWER=True):\n",
    "    return CountVectorizer(analyzer=lambda x: x, strip_accents=None, ngram_range=(MIN_GRAM, MAX_GRAM), \n",
    "                           token_pattern=u'(?u)\\\\b\\\\w+\\\\b', lowercase=LOWER)\n",
    "\n",
    "\n",
    "def tfidf_vectorizer(MIN_GRAM=1, MAX_GRAM=1, LOWER=True):\n",
    "    return TfidfVectorizer(analyzer=lambda x: x, strip_accents=None, ngram_range=(MIN_GRAM, MAX_GRAM), \n",
    "                           token_pattern=u'(?u)\\\\b\\\\w+\\\\b', lowercase=LOWER)\n",
    "\n",
    "\n",
    "class MeanEmbeddingVectorizer(object):\n",
    "    def __init__(self, word2vec):\n",
    "        self.word2vec = word2vec\n",
    "        self.dim = len(word2vec.itervalues().next())\n",
    "    \n",
    "    def fit(self, X, y):\n",
    "        return self\n",
    "\n",
    "    def transform(self, X):\n",
    "        ret = np.array([\n",
    "            np.mean([self.word2vec[w] for w in words if w in self.word2vec] \n",
    "                    or [np.zeros(self.dim)], axis=0)\n",
    "            for words in X\n",
    "        ])\n",
    "        return ret\n",
    "\n",
    "    \n",
    "class SequenceEmbeddingVectorizer(object):\n",
    "    def __init__(self, word2vec, tfidf=False):\n",
    "        self.word2vec = word2vec\n",
    "        self.dim = len(word2vec.itervalues().next())\n",
    "        self.word2weight = None\n",
    "        self.tfidf = tfidf\n",
    "    \n",
    "    def fit(self, X, y):\n",
    "        tfidf = tfidf_vectorizer()\n",
    "        tfidf.fit(X)\n",
    "        max_idf = max(tfidf.idf_)\n",
    "        self.word2weight = defaultdict(\n",
    "            lambda: max_idf, \n",
    "            [(w, tfidf.idf_[i]) for w, i in tfidf.vocabulary_.items()])\n",
    "        return self\n",
    "\n",
    "    def transform(self, X):\n",
    "        ret = []\n",
    "        for sentence in X:\n",
    "            vector = np.array([])\n",
    "            maxWords = 32\n",
    "            count = 0\n",
    "            for word in sentence:\n",
    "                if count < maxWords:\n",
    "                    if word in self.word2vec:\n",
    "                        count += 1\n",
    "                        if self.tfidf:\n",
    "                            vector = np.concatenate([vector, self.word2vec[word] * self.word2weight[word]])\n",
    "                        else:\n",
    "                            vector = np.concatenate([vector, self.word2vec[word]])\n",
    "            for i in range(maxWords-count):\n",
    "                vector = np.concatenate([vector, np.zeros(self.dim)])\n",
    "            ret.append(vector)\n",
    "        ret = np.array(ret)\n",
    "        return ret\n",
    "\n",
    "\n",
    "class TfidfEmbeddingVectorizer(object):\n",
    "    def __init__(self, word2vec, LOWER=False):\n",
    "        self.word2vec = word2vec\n",
    "        self.word2weight = None\n",
    "        self.lower = LOWER\n",
    "        self.dim = len(word2vec.itervalues().next())\n",
    "        \n",
    "    def fit(self, X, y):\n",
    "        tfidf = tfidf_vectorizer()\n",
    "        tfidf.fit(X)\n",
    "        max_idf = max(tfidf.idf_)\n",
    "        self.word2weight = defaultdict(\n",
    "            lambda: max_idf, \n",
    "            [(w, tfidf.idf_[i]) for w, i in tfidf.vocabulary_.items()])\n",
    "        return self\n",
    "    \n",
    "    def transform(self, X):\n",
    "        return np.array([\n",
    "                np.mean([self.word2vec[w] * self.word2weight[w]\n",
    "                         for w in words if w in self.word2vec] or\n",
    "                        [np.zeros(self.dim)], axis=0)\n",
    "                for words in X\n",
    "            ])\n",
    "\n",
    "class HybridVectorizer(object):\n",
    "    def __init__(self, word2vec):\n",
    "        self.word2vec = word2vec\n",
    "        self.dim = len(word2vec.itervalues().next())\n",
    "        self.bow = count_vectorizer()\n",
    "        self.bow.fit(X)\n",
    "    \n",
    "    def fit(self, X, y):\n",
    "        return self\n",
    "\n",
    "    def transform(self, X):\n",
    "        ret = []\n",
    "        for sentence in X:\n",
    "            w2v = np.mean([self.word2vec[w] for w in sentence if w in self.word2vec] \n",
    "                    or [np.zeros(self.dim)], axis=0)\n",
    "            bow = self.bow.transform([sentence]).toarray()\n",
    "            ret.append(np.concatenate([w2v, bow[0]]))\n",
    "        ret = np.array(ret)\n",
    "        return ret"
   ]
  },
  {
   "cell_type": "code",
   "execution_count": 318,
   "metadata": {
    "collapsed": false
   },
   "outputs": [],
   "source": [
    "cv = count_vectorizer()\n",
    "a = cv.fit(X)\n",
    "b = cv.transform([[u'quantas', u'pessoas', u'vivem', u'em', u'frança', u'?']]).toarray()"
   ]
  },
  {
   "cell_type": "code",
   "execution_count": 358,
   "metadata": {
    "collapsed": false
   },
   "outputs": [
    {
     "data": {
      "text/plain": [
       "array([0, 0, 0, ..., 0, 0, 0])"
      ]
     },
     "execution_count": 358,
     "metadata": {},
     "output_type": "execute_result"
    }
   ],
   "source": [
    "b[0]"
   ]
  },
  {
   "cell_type": "markdown",
   "metadata": {},
   "source": [
    "## Definir classificadores"
   ]
  },
  {
   "cell_type": "code",
   "execution_count": 375,
   "metadata": {
    "collapsed": false
   },
   "outputs": [],
   "source": [
    "from sklearn.pipeline import Pipeline\n",
    "from sklearn.svm import LinearSVC\n",
    "from sklearn.naive_bayes import BernoulliNB, MultinomialNB\n",
    "from sklearn.ensemble import ExtraTreesClassifier\n",
    "\n",
    "\n",
    "classifiers = {}  # {'classifier': (VectorizeModel, Classifier)}"
   ]
  },
  {
   "cell_type": "markdown",
   "metadata": {},
   "source": [
    "#### SVM Linear"
   ]
  },
  {
   "cell_type": "code",
   "execution_count": 376,
   "metadata": {
    "collapsed": false
   },
   "outputs": [],
   "source": [
    "classifiers[\"SVM\"] = (LinearSVC(), count_vectorizer())"
   ]
  },
  {
   "cell_type": "code",
   "execution_count": 382,
   "metadata": {
    "collapsed": true
   },
   "outputs": [],
   "source": [
    "classifiers[\"SVM tfidf\"] = (LinearSVC(), tfidf_vectorizer())"
   ]
  },
  {
   "cell_type": "code",
   "execution_count": 381,
   "metadata": {
    "collapsed": true
   },
   "outputs": [],
   "source": [
    "classifiers[\"SVM W2V\"] = (LinearSVC(), MeanEmbeddingVectorizer(w2v_300))"
   ]
  },
  {
   "cell_type": "code",
   "execution_count": 377,
   "metadata": {
    "collapsed": false
   },
   "outputs": [],
   "source": [
    "classifiers[\"SVM hybrid\"] = (LinearSVC(), HybridVectorizer(w2v_300))"
   ]
  },
  {
   "cell_type": "markdown",
   "metadata": {},
   "source": [
    "#### Naive Bayes"
   ]
  },
  {
   "cell_type": "code",
   "execution_count": null,
   "metadata": {
    "collapsed": true
   },
   "outputs": [],
   "source": [
    "classifiers[\"NB mult\"] = (MultinomialNB(), count_vectorizer())"
   ]
  },
  {
   "cell_type": "code",
   "execution_count": null,
   "metadata": {
    "collapsed": true
   },
   "outputs": [],
   "source": [
    "classifiers[\"NB mult tfidf\"] = (MultinomialNB(), tfidf_vectorizer())"
   ]
  },
  {
   "cell_type": "code",
   "execution_count": null,
   "metadata": {
    "collapsed": true
   },
   "outputs": [],
   "source": [
    "classifiers[\"NB bernoulli\"] = (BernoulliNB(), count_vectorizer())"
   ]
  },
  {
   "cell_type": "code",
   "execution_count": null,
   "metadata": {
    "collapsed": true
   },
   "outputs": [],
   "source": [
    "classifiers[\"NB bern tfidf\"] = (BernoulliNB(), tfidf_vectorizer())"
   ]
  },
  {
   "cell_type": "markdown",
   "metadata": {},
   "source": [
    "#### ExtraTrees"
   ]
  },
  {
   "cell_type": "code",
   "execution_count": null,
   "metadata": {
    "collapsed": true
   },
   "outputs": [],
   "source": [
    "classifiers[\"ETree\"] = (ExtraTreesClassifier(n_estimators=200), count_vectorizer())"
   ]
  },
  {
   "cell_type": "code",
   "execution_count": null,
   "metadata": {
    "collapsed": true
   },
   "outputs": [],
   "source": [
    "classifiers[\"ETree tfidf\"] = (ExtraTreesClassifier(n_estimators=200), tfidf_vectorizer())"
   ]
  },
  {
   "cell_type": "code",
   "execution_count": null,
   "metadata": {
    "collapsed": true
   },
   "outputs": [],
   "source": [
    "classifiers[\"ETree W2V\"] = (ExtraTreesClassifier(n_estimators=200), MeanEmbeddingVectorizer(w2v_300))"
   ]
  },
  {
   "cell_type": "markdown",
   "metadata": {},
   "source": [
    "## Testes"
   ]
  },
  {
   "cell_type": "code",
   "execution_count": 383,
   "metadata": {
    "collapsed": false
   },
   "outputs": [
    {
     "name": "stdout",
     "output_type": "stream",
     "text": [
      "SVM hybrid - 40 80 160 320 640 1280 2560 .\n",
      "SVM tfidf - 40 80 160 320 640 1280 2560 .\n",
      "SVM - 40 80 160 320 640 1280 2560 .\n",
      "SVM W2V - 40 80 160 320 640 1280 2560 .\n"
     ]
    }
   ],
   "source": [
    "from sklearn.cross_validation import StratifiedShuffleSplit\n",
    "from sklearn.metrics import accuracy_score, f1_score, precision_score, recall_score, confusion_matrix\n",
    "\n",
    "def benchmark(model, X, y, n):\n",
    "    test_size = 1 - (n / float(len(y)))\n",
    "    scores = {}\n",
    "    for train, test in StratifiedShuffleSplit(y, n_iter=5, test_size=test_size):\n",
    "        X_train, X_test = X[train], X[test]\n",
    "        y_train, y_test = y[train], y[test]\n",
    "        result = model.fit(X_train, y_train).predict(X_test)\n",
    "        scores['accuracy'] = accuracy_score(result, y_test)\n",
    "        scores['precision'] = precision_score(result, y_test, average=\"macro\")\n",
    "        scores['recall'] = recall_score(result, y_test, average=\"macro\")\n",
    "        scores['f1'] = f1_score(result, y_test, average=\"macro\")\n",
    "        scores['confusion'] = confusion_matrix(result, y_test)\n",
    "    return scores\n",
    "\n",
    "train_sizes = [40, 80, 160, 320, 640, 1280, 2560]\n",
    "table = []\n",
    "for name in classifiers:\n",
    "    print name,\n",
    "    model = Pipeline([(\"vector_model\", classifiers[name][1]), (\"classifer\", classifiers[name][0])])\n",
    "    print '-',\n",
    "    for n in train_sizes:\n",
    "        result = benchmark(model, X, y, n)\n",
    "        table.append({'model': name, \n",
    "                      'accuracy': np.mean(result['accuracy']),\n",
    "                      'precision': np.mean(result['precision']),\n",
    "                      'recall': np.mean(result['recall']),\n",
    "                      'f1': np.mean(result['f1']),\n",
    "                      #'confusion': np.mean(result['confusion'], axis=0),\n",
    "                      'train_size': n})\n",
    "        print n,\n",
    "    print '.'\n"
   ]
  },
  {
   "cell_type": "code",
   "execution_count": 386,
   "metadata": {
    "collapsed": false
   },
   "outputs": [
    {
     "data": {
      "text/plain": [
       "[<matplotlib.text.Text at 0x7f2e9c9d13d0>]"
      ]
     },
     "execution_count": 386,
     "metadata": {},
     "output_type": "execute_result"
    },
    {
     "data": {
      "image/png": "[encoded data removed]",
      "text/plain": [
       "<matplotlib.figure.Figure at 0x7f2e9ceaaf90>"
      ]
     },
     "metadata": {},
     "output_type": "display_data"
    }
   ],
   "source": [
    "import pandas as pd\n",
    "import seaborn as sns\n",
    "%matplotlib inline\n",
    "import matplotlib.pyplot as plt\n",
    "\n",
    "df = pd.DataFrame(table)\n",
    "plt.figure(figsize=(10, 10))\n",
    "names = ['SVM', 'SVM hybrid', 'SVM tfidf', 'SVM W2V']\n",
    "fig = sns.pointplot(x='train_size', y='accuracy', hue='model', \n",
    "                    data=df[df.model.map(lambda x: x in names)])\n",
    "sns.set_context(\"notebook\", font_scale=1.5)\n",
    "fig.set(ylabel=\"accuracy\")\n",
    "fig.set(xlabel=\"labeled training examples\")\n",
    "fig.set(title=\"Chave Benchmark\")\n",
    "fig.set(ylabel=\"accuracy\")"
   ]
  },
  {
   "cell_type": "code",
   "execution_count": null,
   "metadata": {
    "collapsed": true
   },
   "outputs": [],
   "source": []
  }
 ],
 "metadata": {
  "kernelspec": {
   "display_name": "Python 2",
   "language": "python",
   "name": "python2"
  },
  "language_info": {
   "codemirror_mode": {
    "name": "ipython",
    "version": 2
   },
   "file_extension": ".py",
   "mimetype": "text/x-python",
   "name": "python",
   "nbconvert_exporter": "python",
   "pygments_lexer": "ipython2",
   "version": "2.7.13"
  }
 },
 "nbformat": 4,
 "nbformat_minor": 2
}
