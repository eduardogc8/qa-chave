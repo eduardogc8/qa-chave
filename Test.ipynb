{
 "cells": [
  {
   "cell_type": "code",
   "execution_count": 1,
   "metadata": {
    "collapsed": true
   },
   "outputs": [],
   "source": [
    "import manager_dataset as MD\n",
    "\n",
    "tree = MD.questions_tree()\n",
    "\n"
   ]
  },
  {
   "cell_type": "code",
   "execution_count": 2,
   "metadata": {
    "collapsed": true
   },
   "outputs": [],
   "source": [
    "qs = MD.questions()"
   ]
  },
  {
   "cell_type": "code",
   "execution_count": 14,
   "metadata": {},
   "outputs": [
    {
     "name": "stdout",
     "output_type": "stream",
     "text": [
      "\n",
      "Onde?\n",
      "\n",
      "\n",
      "Quando?\n",
      "\n",
      "E o 37º?\n",
      "\n",
      "Quando?\n",
      "\n",
      "[]\n"
     ]
    }
   ],
   "source": [
    "chars = []\n",
    "for q in qs:\n",
    "    if q['question'] is None: continue\n",
    "    if len(q['question']) < 10: print(q['question'])\n",
    "chars.sort()\n",
    "print(chars)"
   ]
  }
 ],
 "metadata": {
  "kernelspec": {
   "display_name": "Python 3",
   "language": "python",
   "name": "python3"
  },
  "language_info": {
   "codemirror_mode": {
    "name": "ipython",
    "version": 3
   },
   "file_extension": ".py",
   "mimetype": "text/x-python",
   "name": "python",
   "nbconvert_exporter": "python",
   "pygments_lexer": "ipython3",
   "version": "3.6.3"
  }
 },
 "nbformat": 4,
 "nbformat_minor": 2
}
