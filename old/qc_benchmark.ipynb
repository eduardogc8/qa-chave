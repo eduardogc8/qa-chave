{
 "cells": [
  {
   "cell_type": "markdown",
   "metadata": {},
   "source": [
    "### Buscar questões do dataset Chave"
   ]
  },
  {
   "cell_type": "code",
   "execution_count": 2,
   "metadata": {},
   "outputs": [
    {
     "name": "stdout",
     "output_type": "stream",
     "text": [
      "2973\n"
     ]
    }
   ],
   "source": [
    "import manager_dataset as MD\n",
    "import question_processing as QP\n",
    "\n",
    "\n",
    "questions = MD.questions(treated=True)\n",
    "incosiderate_classes = ['X', 'MANNER', 'OBJECT', 'OTHER']  # DEFINITION\n",
    "questions = QP.remove_incosiderate_classes(questions, incosiderate_classes)  # Question with incosiderate class is removed\n",
    "print(len(questions))"
   ]
  },
  {
   "cell_type": "markdown",
   "metadata": {},
   "source": [
    "### X y"
   ]
  },
  {
   "cell_type": "code",
   "execution_count": 3,
   "metadata": {},
   "outputs": [],
   "source": [
    "import random\n",
    "import numpy as np\n",
    "\n",
    "\n",
    "random.seed = 3\n",
    "random.shuffle(questions)\n",
    "\n",
    "X, y = QP.separete_questions(questions)\n",
    "X = np.array(X)\n",
    "y = np.array(y)"
   ]
  },
  {
   "cell_type": "markdown",
   "metadata": {},
   "source": [
    "### Modelo Word2Vec"
   ]
  },
  {
   "cell_type": "code",
   "execution_count": 4,
   "metadata": {},
   "outputs": [
    {
     "name": "stderr",
     "output_type": "stream",
     "text": [
      "C:\\Users\\55519\\Anaconda3\\lib\\site-packages\\gensim\\utils.py:1197: UserWarning: detected Windows; aliasing chunkize to chunkize_serial\n",
      "  warnings.warn(\"detected Windows; aliasing chunkize to chunkize_serial\")\n",
      "C:\\Users\\55519\\Anaconda3\\lib\\site-packages\\ipykernel_launcher.py:7: DeprecationWarning: Call to deprecated `syn0` (Attribute will be removed in 4.0.0, use self.wv.vectors instead).\n",
      "  import sys\n"
     ]
    },
    {
     "name": "stdout",
     "output_type": "stream",
     "text": [
      "Wall time: 3min 20s\n"
     ]
    }
   ],
   "source": [
    "%%time\n",
    "from gensim.models import KeyedVectors\n",
    "\n",
    "\n",
    "w2v_patch = 'data/word_embedding/cbow_s300.txt'\n",
    "#w2v_patch = 'data/word_embedding/cbow_s50.txt'  # Fast test\n",
    "w2v = KeyedVectors.load_word2vec_format(w2v_patch, unicode_errors=\"ignore\")\n",
    "model_w2v = {w: vec for w, vec in zip(w2v.index2word, w2v.syn0)}"
   ]
  },
  {
   "cell_type": "markdown",
   "metadata": {},
   "source": [
    "### Modelos de representação em vetor"
   ]
  },
  {
   "cell_type": "code",
   "execution_count": 1,
   "metadata": {},
   "outputs": [],
   "source": [
    "import numpy as np\n",
    "from collections import Counter, defaultdict\n",
    "from sklearn.feature_extraction.text import CountVectorizer\n",
    "from sklearn.feature_extraction.text import TfidfVectorizer\n",
    "\n",
    "\n",
    "def count_vectorizer(MIN_GRAM=1, MAX_GRAM=1, LOWER=True):\n",
    "    return CountVectorizer(analyzer=lambda x: x, strip_accents=None, ngram_range=(MIN_GRAM, MAX_GRAM), \n",
    "                           token_pattern=u'(?u)\\\\b\\\\w+\\\\b', lowercase=LOWER)\n",
    "\n",
    "\n",
    "def tfidf_vectorizer(MIN_GRAM=1, MAX_GRAM=1, LOWER=True):\n",
    "    return TfidfVectorizer(analyzer=lambda x: x, strip_accents=None, ngram_range=(MIN_GRAM, MAX_GRAM), \n",
    "                           token_pattern=u'(?u)\\\\b\\\\w+\\\\b', lowercase=LOWER)\n",
    "\n",
    "\n",
    "class MeanEmbeddingVectorizer(object):\n",
    "    def __init__(self, word2vec):\n",
    "        self.word2vec = word2vec\n",
    "        self.dim = len(word2vec)\n",
    "    \n",
    "    def fit(self, X, y):\n",
    "        return self\n",
    "\n",
    "    def transform(self, X):\n",
    "        ret = np.array([\n",
    "            np.mean([self.word2vec[w] for w in words if w in self.word2vec] \n",
    "                    or [np.zeros(self.dim)], axis=0)\n",
    "            for words in X\n",
    "        ])\n",
    "        return ret\n",
    "\n",
    "class HybridVectorizer(object):\n",
    "    def __init__(self, word2vec):\n",
    "        self.word2vec = word2vec\n",
    "        self.dim = len(word2vec)\n",
    "        self.bow = count_vectorizer()\n",
    "        \n",
    "    \n",
    "    def fit(self, X, y):\n",
    "        self.bow.fit(X)\n",
    "        return self\n",
    "\n",
    "    def transform(self, X):\n",
    "        ret = []\n",
    "        for sentence in X:\n",
    "            w2v = np.mean([self.word2vec[w] for w in sentence if w in self.word2vec] \n",
    "                    or [np.zeros(self.dim)], axis=0)\n",
    "            bow = self.bow.transform([sentence]).toarray()\n",
    "            ret.append(np.concatenate([w2v, bow[0]]))\n",
    "        ret = np.array(ret)\n",
    "        return ret\n",
    "\n",
    "class TfidfHybridVectorizer(object):\n",
    "    def __init__(self, word2vec):\n",
    "        self.word2vec = word2vec\n",
    "        self.dim = len(word2vec)\n",
    "        self.tf = tfidf_vectorizer()\n",
    "        \n",
    "    \n",
    "    def fit(self, X, y):\n",
    "        self.tf.fit(X)\n",
    "        return self\n",
    "\n",
    "    def transform(self, X):\n",
    "        ret = []\n",
    "        for sentence in X:\n",
    "            w2v = np.mean([self.word2vec[w] for w in sentence if w in self.word2vec] \n",
    "                    or [np.zeros(self.dim)], axis=0)\n",
    "            tf = self.tf.transform([sentence]).toarray()\n",
    "            ret.append(np.concatenate([w2v, tf[0]]))\n",
    "        ret = np.array(ret)\n",
    "        return ret\n",
    "\n",
    "class SequenceHybridVectorizer(object):\n",
    "    def __init__(self, word2vec, tfidf=False):\n",
    "        self.word2vec = word2vec\n",
    "        self.dim = len(word2vec)\n",
    "        self.word2weight = None\n",
    "        self.tfidf = tfidf\n",
    "        self.bow = count_vectorizer()\n",
    "        \n",
    "    \n",
    "    def fit(self, X, y):\n",
    "        self.bow.fit(X)\n",
    "        tfidf = tfidf_vectorizer()\n",
    "        tfidf.fit(X)\n",
    "        max_idf = max(tfidf.idf_)\n",
    "        self.word2weight = defaultdict(\n",
    "            lambda: max_idf, \n",
    "            [(w, tfidf.idf_[i]) for w, i in tfidf.vocabulary_.items()])\n",
    "        return self\n",
    "\n",
    "    def transform(self, X):\n",
    "        ret = []\n",
    "        for sentence in X:\n",
    "            vector = np.array([])\n",
    "            maxWords = 32\n",
    "            count = 0\n",
    "            for word in sentence:\n",
    "                if count < maxWords:\n",
    "                    if word in self.word2vec:\n",
    "                        count += 1\n",
    "                        if self.tfidf:\n",
    "                            vector = np.concatenate([vector, self.word2vec[word] * self.word2weight[word]])\n",
    "                        else:\n",
    "                            vector = np.concatenate([vector, self.word2vec[word]])\n",
    "            for i in range(maxWords-count):\n",
    "                vector = np.concatenate([vector, np.zeros(self.dim)])\n",
    "            bow = self.bow.transform([sentence]).toarray()\n",
    "            vector = np.concatenate([vector, bow[0]])\n",
    "            ret.append(vector)\n",
    "        \n",
    "        ret = np.array(ret)\n",
    "        return ret"
   ]
  },
  {
   "cell_type": "markdown",
   "metadata": {},
   "source": [
    "## Definir classificadores"
   ]
  },
  {
   "cell_type": "code",
   "execution_count": 6,
   "metadata": {},
   "outputs": [],
   "source": [
    "from sklearn.pipeline import Pipeline\n",
    "from sklearn.svm import LinearSVC\n",
    "from sklearn.svm import SVC\n",
    "from sklearn.naive_bayes import BernoulliNB, MultinomialNB\n",
    "from sklearn.ensemble import ExtraTreesClassifier\n",
    "\n",
    "\n",
    "classifiers = {}  # {'classifier': (VectorizeModel, Classifier)}\n",
    "\n",
    "lbs = [\"bag-of-words\", \n",
    "        \"TF-IDF\", \n",
    "        \"Word2Vec\",\n",
    "        \"HYBRID_BoW\",\n",
    "        \"HYBRID_TF-IDF\"]"
   ]
  },
  {
   "cell_type": "code",
   "execution_count": 21,
   "metadata": {},
   "outputs": [],
   "source": [
    "lbs = [\"bag-of-words\", \n",
    "        \"TF-IDF\", \n",
    "        \"Word2Vec\"]\n",
    "classifiers[lbs[0]] = (LinearSVC(), count_vectorizer())\n",
    "classifiers[lbs[1]] = (LinearSVC(), tfidf_vectorizer())\n",
    "classifiers[lbs[2]] = (LinearSVC(), MeanEmbeddingVectorizer(model_w2v))"
   ]
  },
  {
   "cell_type": "code",
   "execution_count": 7,
   "metadata": {},
   "outputs": [],
   "source": [
    "lbs = [ \"BOW\",\n",
    "        \"TFIDF\",\n",
    "        \"W2V\",\n",
    "        \"HYBRID\"]\n",
    "\n",
    "classifiers[lbs[0]] = (LinearSVC(), count_vectorizer())\n",
    "classifiers[lbs[1]] = (LinearSVC(), tfidf_vectorizer())\n",
    "classifiers[lbs[2]] = (LinearSVC(), MeanEmbeddingVectorizer(model_w2v))\n",
    "classifiers[lbs[3]] = (LinearSVC(), TfidfHybridVectorizer(model_w2v))"
   ]
  },
  {
   "cell_type": "markdown",
   "metadata": {},
   "source": [
    "#### SVM Linear"
   ]
  },
  {
   "cell_type": "code",
   "execution_count": 13,
   "metadata": {},
   "outputs": [],
   "source": [
    "classifiers[lbs[0]] = (LinearSVC(), count_vectorizer())"
   ]
  },
  {
   "cell_type": "code",
   "execution_count": 14,
   "metadata": {},
   "outputs": [],
   "source": [
    "classifiers[lbs[1]] = (LinearSVC(), tfidf_vectorizer())"
   ]
  },
  {
   "cell_type": "code",
   "execution_count": 15,
   "metadata": {},
   "outputs": [],
   "source": [
    "classifiers[lbs[2]] = (LinearSVC(), MeanEmbeddingVectorizer(model_w2v))"
   ]
  },
  {
   "cell_type": "code",
   "execution_count": 16,
   "metadata": {},
   "outputs": [],
   "source": [
    "classifiers[lbs[3]] = (LinearSVC(), HybridVectorizer(model_w2v))"
   ]
  },
  {
   "cell_type": "code",
   "execution_count": 17,
   "metadata": {},
   "outputs": [],
   "source": [
    "classifiers[lbs[4]] = (LinearSVC(), TfidfHybridVectorizer(model_w2v))"
   ]
  },
  {
   "cell_type": "code",
   "execution_count": null,
   "metadata": {},
   "outputs": [],
   "source": [
    "classifiers[\"Hybrid sequence\"] = (LinearSVC(), SequenceHybridVectorizer(model_w2v))"
   ]
  },
  {
   "cell_type": "code",
   "execution_count": null,
   "metadata": {},
   "outputs": [],
   "source": [
    "classifiers[\"Linear\"] = (LinearSVC(), count_vectorizer())"
   ]
  },
  {
   "cell_type": "code",
   "execution_count": null,
   "metadata": {},
   "outputs": [],
   "source": [
    "classifiers[\"Polynomial\"] = (SVC(kernel=\"poly\", degree=3, gamma=0.4), count_vectorizer())"
   ]
  },
  {
   "cell_type": "code",
   "execution_count": null,
   "metadata": {},
   "outputs": [],
   "source": [
    "classifiers[\"RBF\"] = (SVC(kernel=\"rbf\", gamma=0.1), count_vectorizer())"
   ]
  },
  {
   "cell_type": "code",
   "execution_count": null,
   "metadata": {},
   "outputs": [],
   "source": [
    "classifiers[\"Sigmoid\"] = (SVC(kernel=\"sigmoid\"), count_vectorizer())"
   ]
  },
  {
   "cell_type": "markdown",
   "metadata": {},
   "source": [
    "#### Naive Bayes"
   ]
  },
  {
   "cell_type": "code",
   "execution_count": null,
   "metadata": {},
   "outputs": [],
   "source": [
    "classifiers[\"NB mult\"] = (MultinomialNB(), count_vectorizer())"
   ]
  },
  {
   "cell_type": "code",
   "execution_count": null,
   "metadata": {},
   "outputs": [],
   "source": [
    "classifiers[\"NB mult tfidf\"] = (MultinomialNB(), tfidf_vectorizer())"
   ]
  },
  {
   "cell_type": "code",
   "execution_count": null,
   "metadata": {},
   "outputs": [],
   "source": [
    "classifiers[\"NB bernoulli\"] = (BernoulliNB(), count_vectorizer())"
   ]
  },
  {
   "cell_type": "code",
   "execution_count": null,
   "metadata": {},
   "outputs": [],
   "source": [
    "classifiers[\"NB bern tfidf\"] = (BernoulliNB(), tfidf_vectorizer())"
   ]
  },
  {
   "cell_type": "markdown",
   "metadata": {},
   "source": [
    "#### ExtraTrees"
   ]
  },
  {
   "cell_type": "code",
   "execution_count": null,
   "metadata": {},
   "outputs": [],
   "source": [
    "classifiers[\"ETree\"] = (ExtraTreesClassifier(n_estimators=200), count_vectorizer())"
   ]
  },
  {
   "cell_type": "code",
   "execution_count": null,
   "metadata": {},
   "outputs": [],
   "source": [
    "classifiers[\"ETree tfidf\"] = (ExtraTreesClassifier(n_estimators=200), tfidf_vectorizer())"
   ]
  },
  {
   "cell_type": "code",
   "execution_count": null,
   "metadata": {},
   "outputs": [],
   "source": [
    "classifiers[\"ETree W2V\"] = (ExtraTreesClassifier(n_estimators=200), MeanEmbeddingVectorizer(w2v_300))"
   ]
  },
  {
   "cell_type": "markdown",
   "metadata": {},
   "source": [
    "## Testes"
   ]
  },
  {
   "cell_type": "code",
   "execution_count": 8,
   "metadata": {},
   "outputs": [
    {
     "name": "stdout",
     "output_type": "stream",
     "text": [
      "\n",
      "Train: 40 Test: 2933:   BOW .....  TFIDF .....  W2V .....  HYBRID .....\n",
      "Train: 80 Test: 2893:   BOW .....  TFIDF .....  W2V .....  HYBRID .....\n",
      "Train: 120 Test: 2853:   BOW .....  TFIDF .....  W2V .....  HYBRID .....\n",
      "Train: 160 Test: 2813:   BOW .....  TFIDF .....  W2V .....  HYBRID .....\n",
      "Train: 200 Test: 2773:   BOW .....  TFIDF .....  W2V .....  HYBRID .....\n",
      "Train: 240 Test: 2733:   BOW .....  TFIDF .....  W2V .....  HYBRID .....\n",
      "Train: 280 Test: 2693:   BOW .....  TFIDF .....  W2V .....  HYBRID .....\n",
      "Train: 320 Test: 2653:   BOW .....  TFIDF .....  W2V .....  HYBRID .....\n",
      "Train: 360 Test: 2613:   BOW .....  TFIDF .....  W2V .....  HYBRID .....\n",
      "Train: 400 Test: 2573:   BOW .....  TFIDF .....  W2V .....  HYBRID .....\n",
      "Train: 440 Test: 2533:   BOW .....  TFIDF .....  W2V .....  HYBRID .....\n",
      "Train: 480 Test: 2493:   BOW .....  TFIDF .....  W2V .....  HYBRID .....\n",
      "Train: 520 Test: 2453:   BOW .....  TFIDF .....  W2V .....  HYBRID .....\n",
      "Train: 560 Test: 2413:   BOW .....  TFIDF .....  W2V .....  HYBRID .....\n",
      "Train: 600 Test: 2373:   BOW .....  TFIDF .....  W2V .....  HYBRID .....\n",
      "Train: 640 Test: 2333:   BOW .....  TFIDF .....  W2V .....  HYBRID .....\n",
      "Train: 680 Test: 2293:   BOW .....  TFIDF .....  W2V .....  HYBRID .....\n",
      "Train: 720 Test: 2253:   BOW .....  TFIDF .....  W2V .....  HYBRID .....\n",
      "Train: 760 Test: 2213:   BOW .....  TFIDF .....  W2V .....  HYBRID .....\n",
      "Train: 800 Test: 2173:   BOW .....  TFIDF .....  W2V .....  HYBRID .....\n",
      "Train: 840 Test: 2133:   BOW .....  TFIDF .....  W2V .....  HYBRID .....\n",
      "Train: 880 Test: 2093:   BOW .....  TFIDF .....  W2V .....  HYBRID .....\n",
      "Train: 920 Test: 2053:   BOW .....  TFIDF .....  W2V .....  HYBRID .....\n",
      "Train: 960 Test: 2013:   BOW .....  TFIDF .....  W2V .....  HYBRID .....\n",
      "Train: 1000 Test: 1973:   BOW .....  TFIDF .....  W2V .....  HYBRID .....\n",
      "Train: 1040 Test: 1933:   BOW .....  TFIDF .....  W2V .....  HYBRID .....\n",
      "Train: 1080 Test: 1893:   BOW .....  TFIDF .....  W2V .....  HYBRID .....\n",
      "Train: 1120 Test: 1853:   BOW .....  TFIDF .....  W2V .....  HYBRID .....\n",
      "Train: 1160 Test: 1813:   BOW .....  TFIDF .....  W2V .....  HYBRID .....\n",
      "Train: 1200 Test: 1773:   BOW .....  TFIDF .....  W2V .....  HYBRID .....\n",
      "Train: 1240 Test: 1733:   BOW .....  TFIDF .....  W2V .....  HYBRID .....\n",
      "Train: 1280 Test: 1693:   BOW .....  TFIDF .....  W2V .....  HYBRID .....\n",
      "Train: 1320 Test: 1653:   BOW .....  TFIDF .....  W2V .....  HYBRID .....\n",
      "Train: 1360 Test: 1613:   BOW .....  TFIDF .....  W2V .....  HYBRID .....\n",
      "Train: 1400 Test: 1573:   BOW .....  TFIDF .....  W2V .....  HYBRID .....\n",
      "Train: 1440 Test: 1533:   BOW .....  TFIDF .....  W2V .....  HYBRID .....\n",
      "Train: 1480 Test: 1493:   BOW .....  TFIDF .....  W2V .....  HYBRID .....\n",
      "Train: 1520 Test: 1453:   BOW .....  TFIDF .....  W2V .....  HYBRID .....\n",
      "Train: 1560 Test: 1413:   BOW .....  TFIDF .....  W2V .....  HYBRID .....\n",
      "Train: 1600 Test: 1373:   BOW .....  TFIDF .....  W2V .....  HYBRID .....\n",
      "Train: 1640 Test: 1333:   BOW .....  TFIDF .....  W2V .....  HYBRID .....\n",
      "Train: 1680 Test: 1293:   BOW .....  TFIDF .....  W2V .....  HYBRID .....\n",
      "Train: 1720 Test: 1253:   BOW .....  TFIDF .....  W2V .....  HYBRID .....\n",
      "Train: 1760 Test: 1213:   BOW .....  TFIDF .....  W2V .....  HYBRID .....\n",
      "Train: 1800 Test: 1173:   BOW .....  TFIDF .....  W2V .....  HYBRID .....\n",
      "Train: 1840 Test: 1133:   BOW .....  TFIDF .....  W2V .....  HYBRID .....\n",
      "Train: 1880 Test: 1093:   BOW .....  TFIDF .....  W2V .....  HYBRID .....\n",
      "Train: 1920 Test: 1053:   BOW .....  TFIDF .....  W2V .....  HYBRID .....\n",
      "Train: 1960 Test: 1013:   BOW .....  TFIDF .....  W2V .....  HYBRID .....\n",
      "Train: 2000 Test: 973:   BOW .....  TFIDF .....  W2V .....  HYBRID .....\n",
      "Train: 2040 Test: 933:   BOW .....  TFIDF .....  W2V .....  HYBRID .....\n",
      "Train: 2080 Test: 893:   BOW .....  TFIDF .....  W2V .....  HYBRID .....\n",
      "Train: 2120 Test: 853:   BOW .....  TFIDF .....  W2V .....  HYBRID .....\n",
      "Train: 2160 Test: 813:   BOW .....  TFIDF .....  W2V .....  HYBRID .....\n",
      "Train: 2200 Test: 773:   BOW .....  TFIDF .....  W2V .....  HYBRID .....\n",
      "Train: 2240 Test: 733:   BOW .....  TFIDF .....  W2V .....  HYBRID .....\n",
      "Train: 2280 Test: 693:   BOW .....  TFIDF .....  W2V .....  HYBRID .....\n",
      "Train: 2320 Test: 653:   BOW .....  TFIDF .....  W2V .....  HYBRID .....\n",
      "Train: 2360 Test: 613:   BOW .....  TFIDF .....  W2V .....  HYBRID .....\n",
      "Train: 2400 Test: 573:   BOW .....  TFIDF .....  W2V .....  HYBRID .....\n",
      "Train: 2440 Test: 533:   BOW .....  TFIDF .....  W2V .....  HYBRID .....\n",
      "Train: 2480 Test: 493:   BOW .....  TFIDF .....  W2V .....  HYBRID .....\n",
      "Train: 2520 Test: 453:   BOW .....  TFIDF .....  W2V .....  HYBRID .....\n",
      "Train: 2560 Test: 413:   BOW .....  TFIDF .....  W2V .....  HYBRID .....\n",
      "Train: 2600 Test: 373:   BOW .....  TFIDF .....  W2V .....  HYBRID .....\n",
      "Train: 2640 Test: 333:   BOW .....  TFIDF .....  W2V .....  HYBRID .....\n",
      "Train: 2680 Test: 293:   BOW .....  TFIDF .....  W2V .....  HYBRID .....\n",
      "Train: 2720 Test: 253:   BOW .....  TFIDF .....  W2V .....  HYBRID .....\n",
      "Train: 2760 Test: 213:   BOW .....  TFIDF .....  W2V .....  HYBRID .....\n",
      "Wall time: 7min 38s\n"
     ]
    }
   ],
   "source": [
    "%%time\n",
    "from sklearn.model_selection import ShuffleSplit\n",
    "from sklearn.metrics import accuracy_score, f1_score, precision_score, recall_score, confusion_matrix\n",
    "\n",
    "n = 40\n",
    "k = 5\n",
    "size_train = 0\n",
    "table = []\n",
    "\n",
    "while (size_train +n) <= (len(X)-200):\n",
    "    size_train += n\n",
    "    size_test = len(X) - size_train\n",
    "    print ('\\nTrain:', size_train, 'Test:', size_test, end=': ')\n",
    "    \n",
    "    rs = ShuffleSplit(n_splits=k, train_size=size_train, test_size=size_test, random_state=0)\n",
    "    \n",
    "    for classifier_name in classifiers:\n",
    "        print(' ', classifier_name, end=' ')\n",
    "        accuracy = []\n",
    "        precision = []\n",
    "        recall = []\n",
    "        f1 = []\n",
    "        confusion = []\n",
    "        for train_indexs, test_indexs in rs.split(X):\n",
    "            print('.', end='')\n",
    "            x_train = X[train_indexs]\n",
    "            y_train = y[train_indexs]\n",
    "            x_test = X[test_indexs]\n",
    "            y_test = y[test_indexs]\n",
    "            \n",
    "            pipe = Pipeline([(\"vector_model\", classifiers[classifier_name][1]), (\"classifer\", classifiers[classifier_name][0])])\n",
    "            model = pipe.fit(x_train, y_train)\n",
    "            result = model.predict(x_test)\n",
    "            score = {}\n",
    "            accuracy.append(accuracy_score(result, y_test))\n",
    "            precision.append(precision_score(result, y_test, average=\"macro\"))\n",
    "            recall.append(recall_score(result, y_test, average=\"macro\"))\n",
    "            f1.append(f1_score(result, y_test, average=\"macro\"))\n",
    "            confusion.append(confusion_matrix(result, y_test))\n",
    "        \n",
    "        table.append({'Model': classifier_name, \n",
    "                      'accuracy': np.mean(accuracy),\n",
    "                      'precision': np.mean(precision),\n",
    "                      'recall': np.mean(recall),\n",
    "                      'f1': np.mean(f1),\n",
    "                      'confusion': np.mean(confusion, axis=0),\n",
    "                      'train_size': size_train})\n",
    "print('')"
   ]
  },
  {
   "cell_type": "markdown",
   "metadata": {},
   "source": [
    "## Imprimir Resultados"
   ]
  },
  {
   "cell_type": "code",
   "execution_count": 10,
   "metadata": {},
   "outputs": [
    {
     "data": {
      "text/plain": [
       "[Text(0,0.5,'F1-Score')]"
      ]
     },
     "execution_count": 10,
     "metadata": {},
     "output_type": "execute_result"
    },
    {
     "data": {
      "image/png": "[encoded data removed]",
      "text/plain": [
       "<matplotlib.figure.Figure at 0x1958cdc1208>"
      ]
     },
     "metadata": {},
     "output_type": "display_data"
    }
   ],
   "source": [
    "import pandas as pd\n",
    "import seaborn as sns\n",
    "%matplotlib inline\n",
    "import matplotlib.pyplot as plt\n",
    "\n",
    "names = lbs\n",
    "df = pd.DataFrame(table)\n",
    "\n",
    "aux = df[df.Model.map(lambda x: x in names)]\n",
    "\n",
    "sorterIndex = dict(zip(lbs,range(len(lbs))))\n",
    "aux['models_sort'] = aux['Model'].map(sorterIndex)\n",
    "aux.sort_values(['Model'], \\\n",
    "        ascending = [1], inplace = True)\n",
    "aux.drop('models_sort', 1, inplace = True)\n",
    "\n",
    "\n",
    "col_list = [\"black\", \"black\", \"black\", \"black\", \"black\"]\n",
    "col_list_palette = sns.xkcd_palette(col_list)\n",
    "#sns.set_palette(col_list_palette)\n",
    "sns.set_palette(sns.color_palette(\"muted\", 5))\n",
    "\n",
    "\n",
    "#df = df.drop('accuracy', 1).drop('precision', 1).drop('recall', 1).drop('train_size', 1)\n",
    "\n",
    "plt.figure(figsize=(8, 4))\n",
    "\n",
    "fig = sns.pointplot(x='train_size', y='f1', hue='Model', \n",
    "                    data=df[df.Model.map(lambda x: x in names)],\n",
    "                    #markers=['o',7,'p','s','x'],\n",
    "                    markers=['','','','',''],\n",
    "                    lineheight=1\n",
    "                   )\n",
    "\n",
    "for ind, label in enumerate(fig.get_xticklabels()):\n",
    "    if ind == 0 or ind == 12 or ind == 26 or ind == 39 or ind == 52:\n",
    "        label.set_visible(True)\n",
    "    else:\n",
    "        label.set_visible(False)\n",
    "plt.setp(fig.lines,linewidth=1.5)\n",
    "sns.set_context(\"notebook\", font_scale=1.5)\n",
    "fig.set(ylabel=\"f1\")\n",
    "fig.set(xlabel=\"Size of the training sample\")\n",
    "fig.set(ylabel=\"F1-Score\")"
   ]
  },
  {
   "cell_type": "code",
   "execution_count": 64,
   "metadata": {
    "scrolled": true
   },
   "outputs": [
    {
     "name": "stdout",
     "output_type": "stream",
     "text": [
      "\n",
      "\n",
      "BOW:\n",
      "\n",
      "Recall:  0.8727\n",
      "Precision:  0.8719\n",
      "F1:  0.8685\n",
      "Accuracy:  0.8795\n",
      "\n",
      "\n",
      "TFIDF:\n",
      "\n",
      "Recall:  0.8754\n",
      "Precision:  0.8752\n",
      "F1:  0.8724\n",
      "Accuracy:  0.8838\n",
      "\n",
      "\n",
      "W2V:\n",
      "\n",
      "Recall:  0.8487\n",
      "Precision:  0.8472\n",
      "F1:  0.8462\n",
      "Accuracy:  0.8603\n",
      "\n",
      "\n",
      "HYBRID:\n",
      "\n",
      "Recall:  0.8964\n",
      "Precision:  0.892\n",
      "F1:  0.8923\n",
      "Accuracy:  0.9004\n"
     ]
    }
   ],
   "source": [
    "def print_scores(model):\n",
    "    last = {}\n",
    "    for t in table:\n",
    "        if t['Model'] == model:\n",
    "            last['precision'] = t['precision']\n",
    "            last['recall'] = t['recall']\n",
    "            last['f1'] = t['f1']\n",
    "            last['accuracy'] = t['accuracy']\n",
    "    print ('Recall: ', round(last['recall'],4))\n",
    "    print ('Precision: ', round(last['precision'],4))\n",
    "    print ('F1: ', round(last['f1'],4))\n",
    "    print ('Accuracy: ', round(last['accuracy'],4))\n",
    "\n",
    "print ('\\n\\n'+lbs[0]+':\\n')\n",
    "print_scores(lbs[0])\n",
    "print ('\\n\\n'+lbs[1]+':\\n')\n",
    "print_scores(lbs[1])\n",
    "print ('\\n\\n'+lbs[2]+':\\n')\n",
    "print_scores(lbs[2])\n",
    "print ('\\n\\n'+lbs[3]+':\\n')\n",
    "print_scores(lbs[3])\n",
    "#print ('\\n\\n'+lbs[4]+':\\n')\n",
    "#print_scores(lbs[4])\n"
   ]
  },
  {
   "cell_type": "code",
   "execution_count": 56,
   "metadata": {},
   "outputs": [
    {
     "data": {
      "text/plain": [
       "Ttest_indResult(statistic=-2.195862978982542, pvalue=0.030323557512371233)"
      ]
     },
     "execution_count": 56,
     "metadata": {},
     "output_type": "execute_result"
    }
   ],
   "source": [
    "import scipy\n",
    "\n",
    "a = []\n",
    "b = []\n",
    "\n",
    "for t in table:\n",
    "    if t['Model'] == lbs[1]:\n",
    "        a.append(t['f1'])\n",
    "    if t['Model'] == lbs[3]:\n",
    "        b.append(t['f1'])\n",
    "\n",
    "scipy.stats.ttest_ind(a, b)"
   ]
  },
  {
   "cell_type": "code",
   "execution_count": 72,
   "metadata": {},
   "outputs": [],
   "source": [
    "import warnings\n",
    "warnings.filterwarnings('ignore')"
   ]
  },
  {
   "cell_type": "code",
   "execution_count": 11,
   "metadata": {},
   "outputs": [],
   "source": [
    "import itertools\n",
    "\n",
    "\n",
    "def plot_confusion_matrix(cm, classes, normalize=False, title='Confusion matrix', cmap=plt.cm.Blues):\n",
    "    \"\"\"\n",
    "    This function prints and plots the confusion matrix.\n",
    "    Normalization can be applied by setting `normalize=True`.\n",
    "    \"\"\"\n",
    "    \n",
    "    if normalize:\n",
    "        cm = cm.astype('float') / cm.sum(axis=1)[:, np.newaxis]\n",
    "\n",
    "    plt.imshow(cm, interpolation='nearest', cmap=cmap)\n",
    "    plt.title(title)\n",
    "    plt.colorbar()\n",
    "    tick_marks = np.arange(len(classes))\n",
    "    plt.xticks(tick_marks, classes, rotation=45)\n",
    "    plt.yticks(tick_marks, classes)\n",
    "\n",
    "    fmt = '.2f' if normalize else 'd'\n",
    "    thresh = cm.max() / 2.\n",
    "    for i, j in itertools.product(range(cm.shape[0]), range(cm.shape[1])):\n",
    "        plt.text(j, i, format(int(cm[i, j]), fmt),\n",
    "                 horizontalalignment=\"center\",\n",
    "                 color=\"white\" if cm[i, j] > thresh else \"black\")\n",
    "\n",
    "    plt.tight_layout()\n",
    "    plt.ylabel('True label')\n",
    "    plt.xlabel('Predicted label')"
   ]
  },
  {
   "cell_type": "code",
   "execution_count": 20,
   "metadata": {},
   "outputs": [
    {
     "data": {
      "image/png": "[encoded data removed]",
      "text/plain": [
       "<matplotlib.figure.Figure at 0x19604614128>"
      ]
     },
     "metadata": {},
     "output_type": "display_data"
    }
   ],
   "source": [
    "plot_confusion_matrix(table[-1]['confusion'], ['DEFINITION', 'LOCATION', 'MEASURE', 'ORGANIZATION', 'PERSON', 'TIME'])"
   ]
  },
  {
   "cell_type": "code",
   "execution_count": 40,
   "metadata": {},
   "outputs": [
    {
     "data": {
      "text/plain": [
       "{'Model': 'HYBRID',\n",
       " 'accuracy': 0.9051643192488263,\n",
       " 'confusion': array([[37.6,  0.4,  0. ,  1.8,  0.2,  0.2],\n",
       "        [ 0. , 40. ,  0.4,  1.8,  0.4,  0.2],\n",
       "        [ 0. ,  0.6, 37. ,  0.2,  0.2,  0.6],\n",
       "        [ 0.4,  0.6,  0.2, 17.4,  2.2,  0.2],\n",
       "        [ 3.6,  0.4,  0. ,  4.2, 35.8,  0.2],\n",
       "        [ 0.4,  0.6,  0.2,  0. ,  0. , 25. ]]),\n",
       " 'f1': 0.8941127652183762,\n",
       " 'precision': 0.8919979179239099,\n",
       " 'recall': 0.9034566117159656,\n",
       " 'train_size': 2760}"
      ]
     },
     "execution_count": 40,
     "metadata": {},
     "output_type": "execute_result"
    }
   ],
   "source": [
    "table[-1]"
   ]
  },
  {
   "cell_type": "code",
   "execution_count": 17,
   "metadata": {},
   "outputs": [
    {
     "data": {
      "text/plain": [
       "array(['DEFINITION', 'LOCATION', 'MEASURE', 'ORGANIZATION', 'PERSON',\n",
       "       'TIME'], dtype='<U12')"
      ]
     },
     "execution_count": 17,
     "metadata": {},
     "output_type": "execute_result"
    }
   ],
   "source": [
    "svm_ = classifiers['BOW'][0]\n",
    "svm_.classes_"
   ]
  },
  {
   "cell_type": "code",
   "execution_count": 39,
   "metadata": {},
   "outputs": [
    {
     "data": {
      "text/plain": [
       "array([[37.6,  0.4,  0. ,  1.8,  0.2,  0.2],\n",
       "       [ 0. , 40. ,  0.4,  1.8,  0.4,  0.2],\n",
       "       [ 0. ,  0.6, 37. ,  0.2,  0.2,  0.6],\n",
       "       [ 0.4,  0.6,  0.2, 17.4,  2.2,  0.2],\n",
       "       [ 3.6,  0.4,  0. ,  4.2, 35.8,  0.2],\n",
       "       [ 0.4,  0.6,  0.2,  0. ,  0. , 25. ]])"
      ]
     },
     "execution_count": 39,
     "metadata": {},
     "output_type": "execute_result"
    }
   ],
   "source": [
    "table[-1]['confusion']"
   ]
  },
  {
   "cell_type": "code",
   "execution_count": 37,
   "metadata": {},
   "outputs": [
    {
     "data": {
      "text/plain": [
       "{'Model': 'BOW',\n",
       " 'accuracy': 0.9004694835680752,\n",
       " 'confusion': array([[40.8,  0.8,  0.4,  2.2,  1. ,  0.2],\n",
       "        [ 0.2, 39.2,  0.4,  1.4,  0.6,  0.4],\n",
       "        [ 0. ,  0.4, 36. ,  0.4,  0.6,  1. ],\n",
       "        [ 0.4,  1.2,  0.2, 17. ,  2.2,  0.4],\n",
       "        [ 0.6,  0.4,  0.6,  4.4, 34.4,  0. ],\n",
       "        [ 0. ,  0.6,  0.2,  0. ,  0. , 24.4]]),\n",
       " 'f1': 0.8894929653329327,\n",
       " 'precision': 0.8851764000693706,\n",
       " 'recall': 0.8995599255595481,\n",
       " 'train_size': 2760}"
      ]
     },
     "execution_count": 37,
     "metadata": {},
     "output_type": "execute_result"
    }
   ],
   "source": [
    "table[-4]"
   ]
  },
  {
   "cell_type": "code",
   "execution_count": 80,
   "metadata": {},
   "outputs": [],
   "source": [
    "fscores = []\n",
    "for m in range(4):\n",
    "    tb = table[-(m+1)]\n",
    "    classes_ = classifiers[tb['Model']][0].classes_\n",
    "    \n",
    "    cm = tb['confusion']\n",
    "    dic_class = {'Model': tb['Model']}\n",
    "    #dic_class = {}\n",
    "    for i_class, _class in enumerate(classes_):\n",
    "        tp = cm[i_class][i_class]\n",
    "        fn = sum(cm.transpose()[i_class])-tp\n",
    "        fp = sum(cm[i_class])-tp\n",
    "        precision = tp / (tp+fp)\n",
    "        recall = tp / (tp+fn)\n",
    "        fscore = 2 * ((precision * recall) / (precision + recall))\n",
    "        dic_class[_class] = fscore\n",
    "    fscores.append(dic_class)"
   ]
  },
  {
   "cell_type": "code",
   "execution_count": 192,
   "metadata": {},
   "outputs": [
    {
     "name": "stdout",
     "output_type": "stream",
     "text": [
      "HYBRID 0.8972362218468066\n",
      "W2V 0.8666573824445876\n",
      "TFIDF 0.8853858927597184\n",
      "BOW 0.8906612774796034\n"
     ]
    }
   ],
   "source": [
    "fscores\n",
    "for f in fscores:\n",
    "    print(f['Model'], np.mean([f[k] for k in f.keys() if k != 'Model']))"
   ]
  },
  {
   "cell_type": "code",
   "execution_count": 197,
   "metadata": {},
   "outputs": [
    {
     "data": {
      "text/plain": [
       "[Text(0,0,'BOW'), Text(0,0,'TFIDF'), Text(0,0,'W2V'), Text(0,0,'HYBRID')]"
      ]
     },
     "execution_count": 197,
     "metadata": {},
     "output_type": "execute_result"
    },
    {
     "data": {
      "image/png": "[encoded data removed]",
      "text/plain": [
       "<matplotlib.figure.Figure at 0x1960a9ea5c0>"
      ]
     },
     "metadata": {},
     "output_type": "display_data"
    }
   ],
   "source": [
    "classes_ = ['DEFINITION', 'LOCATION', 'MEASURE', 'ORGANIZATION', 'PERSON', 'TIME']\n",
    "classes__ = {}\n",
    "for class_ in classes_:\n",
    "    classes__[class_] = ([x[class_] for x in fscores])\n",
    "\n",
    "N = 4\n",
    "ind = np.arange(N)\n",
    "width = 0.13\n",
    "\n",
    "fig = plt.figure(figsize=(8, 3))\n",
    "ax = fig.add_subplot(111)\n",
    "\n",
    "rects = []\n",
    "\n",
    "colors = ['b', 'g', 'r', 'c', 'm', 'y']\n",
    "\n",
    "for ic, class_ in enumerate(list(classes__.keys())):\n",
    "    values = classes__[class_]\n",
    "    \n",
    "    rect = ax.bar(ind + width*ic, values, width, color=colors[ic])\n",
    "    control = False\n",
    "    rects.append(rect)\n",
    "\n",
    "ax.legend(rects, classes_, bbox_to_anchor=(1, 1))\n",
    "\n",
    "ax.set_ylabel('F1-Scores')\n",
    "ax.set_xticks(ind+width)\n",
    "ax.set_xticklabels(lbs)"
   ]
  },
  {
   "cell_type": "code",
   "execution_count": 151,
   "metadata": {},
   "outputs": [
    {
     "data": {
      "text/plain": [
       "['DEFINITION', 'LOCATION', 'MEASURE', 'ORGANIZATION', 'PERSON', 'TIME']"
      ]
     },
     "execution_count": 151,
     "metadata": {},
     "output_type": "execute_result"
    }
   ],
   "source": [
    "list(classes__.keys())"
   ]
  },
  {
   "cell_type": "code",
   "execution_count": 87,
   "metadata": {},
   "outputs": [
    {
     "ename": "ValueError",
     "evalue": "shape mismatch: objects cannot be broadcast to a single shape",
     "output_type": "error",
     "traceback": [
      "\u001b[1;31m---------------------------------------------------------------------------\u001b[0m",
      "\u001b[1;31mValueError\u001b[0m                                Traceback (most recent call last)",
      "\u001b[1;32m<ipython-input-87-8ceb733be2f8>\u001b[0m in \u001b[0;36m<module>\u001b[1;34m()\u001b[0m\n\u001b[0;32m      1\u001b[0m \u001b[1;33m\u001b[0m\u001b[0m\n\u001b[0;32m      2\u001b[0m \u001b[0myvals\u001b[0m \u001b[1;33m=\u001b[0m \u001b[1;33m[\u001b[0m\u001b[1;36m4\u001b[0m\u001b[1;33m,\u001b[0m \u001b[1;36m9\u001b[0m\u001b[1;33m,\u001b[0m \u001b[1;36m2\u001b[0m\u001b[1;33m]\u001b[0m\u001b[1;33m\u001b[0m\u001b[0m\n\u001b[1;32m----> 3\u001b[1;33m \u001b[0mrects1\u001b[0m \u001b[1;33m=\u001b[0m \u001b[0max\u001b[0m\u001b[1;33m.\u001b[0m\u001b[0mbar\u001b[0m\u001b[1;33m(\u001b[0m\u001b[0mind\u001b[0m\u001b[1;33m,\u001b[0m \u001b[0myvals\u001b[0m\u001b[1;33m,\u001b[0m \u001b[0mwidth\u001b[0m\u001b[1;33m,\u001b[0m \u001b[0mcolor\u001b[0m\u001b[1;33m=\u001b[0m\u001b[1;34m'r'\u001b[0m\u001b[1;33m)\u001b[0m\u001b[1;33m\u001b[0m\u001b[0m\n\u001b[0m\u001b[0;32m      4\u001b[0m \u001b[0mzvals\u001b[0m \u001b[1;33m=\u001b[0m \u001b[1;33m[\u001b[0m\u001b[1;36m1\u001b[0m\u001b[1;33m,\u001b[0m\u001b[1;36m2\u001b[0m\u001b[1;33m,\u001b[0m\u001b[1;36m3\u001b[0m\u001b[1;33m]\u001b[0m\u001b[1;33m\u001b[0m\u001b[0m\n\u001b[0;32m      5\u001b[0m \u001b[0mrects2\u001b[0m \u001b[1;33m=\u001b[0m \u001b[0max\u001b[0m\u001b[1;33m.\u001b[0m\u001b[0mbar\u001b[0m\u001b[1;33m(\u001b[0m\u001b[0mind\u001b[0m\u001b[1;33m+\u001b[0m\u001b[0mwidth\u001b[0m\u001b[1;33m,\u001b[0m \u001b[0mzvals\u001b[0m\u001b[1;33m,\u001b[0m \u001b[0mwidth\u001b[0m\u001b[1;33m,\u001b[0m \u001b[0mcolor\u001b[0m\u001b[1;33m=\u001b[0m\u001b[1;34m'g'\u001b[0m\u001b[1;33m)\u001b[0m\u001b[1;33m\u001b[0m\u001b[0m\n",
      "\u001b[1;32m~\\Anaconda3\\lib\\site-packages\\matplotlib\\__init__.py\u001b[0m in \u001b[0;36minner\u001b[1;34m(ax, *args, **kwargs)\u001b[0m\n\u001b[0;32m   1715\u001b[0m                     warnings.warn(msg % (label_namer, func.__name__),\n\u001b[0;32m   1716\u001b[0m                                   RuntimeWarning, stacklevel=2)\n\u001b[1;32m-> 1717\u001b[1;33m             \u001b[1;32mreturn\u001b[0m \u001b[0mfunc\u001b[0m\u001b[1;33m(\u001b[0m\u001b[0max\u001b[0m\u001b[1;33m,\u001b[0m \u001b[1;33m*\u001b[0m\u001b[0margs\u001b[0m\u001b[1;33m,\u001b[0m \u001b[1;33m**\u001b[0m\u001b[0mkwargs\u001b[0m\u001b[1;33m)\u001b[0m\u001b[1;33m\u001b[0m\u001b[0m\n\u001b[0m\u001b[0;32m   1718\u001b[0m         \u001b[0mpre_doc\u001b[0m \u001b[1;33m=\u001b[0m \u001b[0minner\u001b[0m\u001b[1;33m.\u001b[0m\u001b[0m__doc__\u001b[0m\u001b[1;33m\u001b[0m\u001b[0m\n\u001b[0;32m   1719\u001b[0m         \u001b[1;32mif\u001b[0m \u001b[0mpre_doc\u001b[0m \u001b[1;32mis\u001b[0m \u001b[1;32mNone\u001b[0m\u001b[1;33m:\u001b[0m\u001b[1;33m\u001b[0m\u001b[0m\n",
      "\u001b[1;32m~\\Anaconda3\\lib\\site-packages\\matplotlib\\axes\\_axes.py\u001b[0m in \u001b[0;36mbar\u001b[1;34m(self, *args, **kwargs)\u001b[0m\n\u001b[0;32m   2015\u001b[0m         x, height, width, y, linewidth = np.broadcast_arrays(\n\u001b[0;32m   2016\u001b[0m             \u001b[1;31m# Make args iterable too.\u001b[0m\u001b[1;33m\u001b[0m\u001b[1;33m\u001b[0m\u001b[0m\n\u001b[1;32m-> 2017\u001b[1;33m             np.atleast_1d(x), height, width, y, linewidth)\n\u001b[0m\u001b[0;32m   2018\u001b[0m \u001b[1;33m\u001b[0m\u001b[0m\n\u001b[0;32m   2019\u001b[0m         \u001b[1;32mif\u001b[0m \u001b[0morientation\u001b[0m \u001b[1;33m==\u001b[0m \u001b[1;34m'vertical'\u001b[0m\u001b[1;33m:\u001b[0m\u001b[1;33m\u001b[0m\u001b[0m\n",
      "\u001b[1;32m~\\Anaconda3\\lib\\site-packages\\numpy\\lib\\stride_tricks.py\u001b[0m in \u001b[0;36mbroadcast_arrays\u001b[1;34m(*args, **kwargs)\u001b[0m\n\u001b[0;32m    247\u001b[0m     \u001b[0margs\u001b[0m \u001b[1;33m=\u001b[0m \u001b[1;33m[\u001b[0m\u001b[0mnp\u001b[0m\u001b[1;33m.\u001b[0m\u001b[0marray\u001b[0m\u001b[1;33m(\u001b[0m\u001b[0m_m\u001b[0m\u001b[1;33m,\u001b[0m \u001b[0mcopy\u001b[0m\u001b[1;33m=\u001b[0m\u001b[1;32mFalse\u001b[0m\u001b[1;33m,\u001b[0m \u001b[0msubok\u001b[0m\u001b[1;33m=\u001b[0m\u001b[0msubok\u001b[0m\u001b[1;33m)\u001b[0m \u001b[1;32mfor\u001b[0m \u001b[0m_m\u001b[0m \u001b[1;32min\u001b[0m \u001b[0margs\u001b[0m\u001b[1;33m]\u001b[0m\u001b[1;33m\u001b[0m\u001b[0m\n\u001b[0;32m    248\u001b[0m \u001b[1;33m\u001b[0m\u001b[0m\n\u001b[1;32m--> 249\u001b[1;33m     \u001b[0mshape\u001b[0m \u001b[1;33m=\u001b[0m \u001b[0m_broadcast_shape\u001b[0m\u001b[1;33m(\u001b[0m\u001b[1;33m*\u001b[0m\u001b[0margs\u001b[0m\u001b[1;33m)\u001b[0m\u001b[1;33m\u001b[0m\u001b[0m\n\u001b[0m\u001b[0;32m    250\u001b[0m \u001b[1;33m\u001b[0m\u001b[0m\n\u001b[0;32m    251\u001b[0m     \u001b[1;32mif\u001b[0m \u001b[0mall\u001b[0m\u001b[1;33m(\u001b[0m\u001b[0marray\u001b[0m\u001b[1;33m.\u001b[0m\u001b[0mshape\u001b[0m \u001b[1;33m==\u001b[0m \u001b[0mshape\u001b[0m \u001b[1;32mfor\u001b[0m \u001b[0marray\u001b[0m \u001b[1;32min\u001b[0m \u001b[0margs\u001b[0m\u001b[1;33m)\u001b[0m\u001b[1;33m:\u001b[0m\u001b[1;33m\u001b[0m\u001b[0m\n",
      "\u001b[1;32m~\\Anaconda3\\lib\\site-packages\\numpy\\lib\\stride_tricks.py\u001b[0m in \u001b[0;36m_broadcast_shape\u001b[1;34m(*args)\u001b[0m\n\u001b[0;32m    182\u001b[0m     \u001b[1;31m# use the old-iterator because np.nditer does not handle size 0 arrays\u001b[0m\u001b[1;33m\u001b[0m\u001b[1;33m\u001b[0m\u001b[0m\n\u001b[0;32m    183\u001b[0m     \u001b[1;31m# consistently\u001b[0m\u001b[1;33m\u001b[0m\u001b[1;33m\u001b[0m\u001b[0m\n\u001b[1;32m--> 184\u001b[1;33m     \u001b[0mb\u001b[0m \u001b[1;33m=\u001b[0m \u001b[0mnp\u001b[0m\u001b[1;33m.\u001b[0m\u001b[0mbroadcast\u001b[0m\u001b[1;33m(\u001b[0m\u001b[1;33m*\u001b[0m\u001b[0margs\u001b[0m\u001b[1;33m[\u001b[0m\u001b[1;33m:\u001b[0m\u001b[1;36m32\u001b[0m\u001b[1;33m]\u001b[0m\u001b[1;33m)\u001b[0m\u001b[1;33m\u001b[0m\u001b[0m\n\u001b[0m\u001b[0;32m    185\u001b[0m     \u001b[1;31m# unfortunately, it cannot handle 32 or more arguments directly\u001b[0m\u001b[1;33m\u001b[0m\u001b[1;33m\u001b[0m\u001b[0m\n\u001b[0;32m    186\u001b[0m     \u001b[1;32mfor\u001b[0m \u001b[0mpos\u001b[0m \u001b[1;32min\u001b[0m \u001b[0mrange\u001b[0m\u001b[1;33m(\u001b[0m\u001b[1;36m32\u001b[0m\u001b[1;33m,\u001b[0m \u001b[0mlen\u001b[0m\u001b[1;33m(\u001b[0m\u001b[0margs\u001b[0m\u001b[1;33m)\u001b[0m\u001b[1;33m,\u001b[0m \u001b[1;36m31\u001b[0m\u001b[1;33m)\u001b[0m\u001b[1;33m:\u001b[0m\u001b[1;33m\u001b[0m\u001b[0m\n",
      "\u001b[1;31mValueError\u001b[0m: shape mismatch: objects cannot be broadcast to a single shape"
     ]
    }
   ],
   "source": [
    "\n",
    "yvals = [4, 9, 2]\n",
    "rects1 = ax.bar(ind, yvals, width, color='r')\n",
    "zvals = [1,2,3]\n",
    "rects2 = ax.bar(ind+width, zvals, width, color='g')\n",
    "kvals = [11,12,13]\n",
    "rects3 = ax.bar(ind+width*2, kvals, width, color='b')\n",
    "\n",
    "ax.set_ylabel('Scores')\n",
    "ax.set_xticks(ind+width)\n",
    "ax.set_xticklabels( ('2011-Jan-4', '2011-Jan-5', '2011-Jan-6') )\n",
    "ax.legend( (rects1[0], rects2[0], rects3[0]), ('y', 'z', 'k') )\n",
    "\n",
    "def autolabel(rects):\n",
    "    for rect in rects:\n",
    "        h = rect.get_height()\n",
    "        ax.text(rect.get_x()+rect.get_width()/2., 1.05*h, '%d'%int(h),\n",
    "                ha='center', va='bottom')\n",
    "\n",
    "autolabel(rects1)\n",
    "autolabel(rects2)\n",
    "autolabel(rects3)\n",
    "\n",
    "plt.show()"
   ]
  },
  {
   "cell_type": "markdown",
   "metadata": {},
   "source": [
    "### Hybrid Approach"
   ]
  },
  {
   "cell_type": "code",
   "execution_count": null,
   "metadata": {},
   "outputs": [],
   "source": [
    "from sklearn.feature_extraction.text import TfidfVectorizer\n",
    "from gensim.models import KeyedVectors\n",
    "import numpy as np\n",
    "\n",
    "\n",
    "word2vec = KeyedVectors.load_word2vec_format('cbow_s300.txt')\n",
    "\n",
    "\n",
    "def tfidf_vectorizer(MIN_GRAM=1, MAX_GRAM=1, LOWER=True):\n",
    "    return TfidfVectorizer(analyzer=lambda x: x, strip_accents=None, \n",
    "                           ngram_range=(MIN_GRAM, MAX_GRAM), \n",
    "                           token_pattern=u'(?u)\\\\b\\\\w+\\\\b', \n",
    "                           lowercase=LOWER)\n",
    "\n",
    "\n",
    "class HybridVectorizer(object):\n",
    "    \n",
    "    def __init__(self, word2vec):\n",
    "        self.word2vec = word2vec\n",
    "        self.dim = len(word2vec)\n",
    "        self.tfidf = tfidf_vectorizer()\n",
    "        \n",
    "    def fit(self, X, y):\n",
    "        self.tfidf.fit(X)\n",
    "        return self\n",
    "\n",
    "    def transform(self, X):\n",
    "        ret = []\n",
    "        for sentence in X:\n",
    "            w2v = np.mean([self.word2vec[w] \n",
    "                           for w in sentence if w in self.word2vec] \n",
    "                    or [np.zeros(self.dim)], axis=0)\n",
    "            tfidf = self.tfidf.transform([sentence]).toarray()\n",
    "            ret.append(np.concatenate([w2v, tfidf[0]]))\n",
    "        ret = np.array(ret)\n",
    "        return ret"
   ]
  }
 ],
 "metadata": {
  "kernelspec": {
   "display_name": "Python 3",
   "language": "python",
   "name": "python3"
  },
  "language_info": {
   "codemirror_mode": {
    "name": "ipython",
    "version": 3
   },
   "file_extension": ".py",
   "mimetype": "text/x-python",
   "name": "python",
   "nbconvert_exporter": "python",
   "pygments_lexer": "ipython3",
   "version": "3.6.4"
  }
 },
 "nbformat": 4,
 "nbformat_minor": 2
}
