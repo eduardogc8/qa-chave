{
 "cells": [
  {
   "cell_type": "markdown",
   "metadata": {},
   "source": [
    "### Buscar questões do dataset Chave"
   ]
  },
  {
   "cell_type": "code",
   "execution_count": 8,
   "metadata": {
    "collapsed": false
   },
   "outputs": [],
   "source": [
    "import manager_dataset as _md\n",
    "\n",
    "questions = _md.pairs()"
   ]
  },
  {
   "cell_type": "markdown",
   "metadata": {},
   "source": [
    "### Pré-processamento no texto das questões"
   ]
  },
  {
   "cell_type": "code",
   "execution_count": 9,
   "metadata": {
    "collapsed": false
   },
   "outputs": [
    {
     "name": "stdout",
     "output_type": "stream",
     "text": [
      "X: 2973  y: 2973\n"
     ]
    }
   ],
   "source": [
    "import numpy as np\n",
    "import random\n",
    "import nltk\n",
    "\n",
    "X = []\n",
    "y = []\n",
    "for question in questions:\n",
    "    \n",
    "    clss = question.correct_classification\n",
    "    \n",
    "    if clss == None:\n",
    "        continue\n",
    "    if clss == 'X':\n",
    "        continue\n",
    "    if clss == 'MANNER':\n",
    "        continue\n",
    "    if clss == 'OBJECT':\n",
    "        continue\n",
    "    if clss == 'OTHER':\n",
    "        continue\n",
    "    \n",
    "    text = question.question\n",
    "    text = text.replace('\\n', '').replace('\\r', '')\n",
    "    text = text.replace('?', ' ? ').replace('.', ' . ').replace(',', ' , ')\n",
    "    text = text.replace(':', ' : ').replace(';', ' ; ')\n",
    "    text = text.replace('\\'', ' \\\" ').replace('\\\"', ' \\\" ')\n",
    "    text = text.replace(u'«', ' \\\" ').replace(u'»', ' \\\" ')\n",
    "    text = text.lower()\n",
    "    question.question = text\n",
    "    \n",
    "    text = nltk.word_tokenize(text)\n",
    "    X.append(text)\n",
    "    y.append(clss)\n",
    "\n",
    "                \n",
    "print 'X:',len(X),' y:',len(y)\n",
    "random.seed(1)\n",
    "a = zip(X, y)\n",
    "random.shuffle(a)\n",
    "X, y = zip(*a)\n",
    "X, y = np.array(X), np.array(y)\n"
   ]
  },
  {
   "cell_type": "markdown",
   "metadata": {},
   "source": [
    "### Modelo Word2Vec"
   ]
  },
  {
   "cell_type": "code",
   "execution_count": 1,
   "metadata": {
    "collapsed": false
   },
   "outputs": [
    {
     "name": "stdout",
     "output_type": "stream",
     "text": [
      "Wed Oct  4 11:04:03 2017\n",
      ".\n",
      "--- 1142.875736 seconds ---\n"
     ]
    }
   ],
   "source": [
    "import numpy as np\n",
    "from gensim.models import KeyedVectors\n",
    "import time\n",
    "\n",
    "start_time = time.time()\n",
    "print time.asctime()\n",
    "cbow_w2v_300 = 'data/word_embedding/cbow_s300.txt'\n",
    "\n",
    "mw2v_300 = KeyedVectors.load_word2vec_format(cbow_w2v_300, unicode_errors=\"ignore\")\n",
    "print '.'\n",
    "w2v_300 = {w: vec for w, vec in zip(mw2v_300.index2word, mw2v_300.syn0)}\n",
    "\n",
    "print(\"--- %s min ---\" % (time.time() - start_time)/float(60))"
   ]
  },
  {
   "cell_type": "markdown",
   "metadata": {},
   "source": [
    "### Modelos de representação em vetor"
   ]
  },
  {
   "cell_type": "code",
   "execution_count": 69,
   "metadata": {
    "collapsed": false
   },
   "outputs": [],
   "source": [
    "import numpy as np\n",
    "from collections import Counter, defaultdict\n",
    "from sklearn.feature_extraction.text import CountVectorizer\n",
    "from sklearn.feature_extraction.text import TfidfVectorizer\n",
    "\n",
    "\n",
    "def count_vectorizer(MIN_GRAM=1, MAX_GRAM=1, LOWER=True):\n",
    "    return CountVectorizer(analyzer=lambda x: x, strip_accents=None, ngram_range=(MIN_GRAM, MAX_GRAM), \n",
    "                           token_pattern=u'(?u)\\\\b\\\\w+\\\\b', lowercase=LOWER)\n",
    "\n",
    "\n",
    "def tfidf_vectorizer(MIN_GRAM=1, MAX_GRAM=1, LOWER=True):\n",
    "    return TfidfVectorizer(analyzer=lambda x: x, strip_accents=None, ngram_range=(MIN_GRAM, MAX_GRAM), \n",
    "                           token_pattern=u'(?u)\\\\b\\\\w+\\\\b', lowercase=LOWER)\n",
    "\n",
    "\n",
    "class MeanEmbeddingVectorizer(object):\n",
    "    def __init__(self, word2vec):\n",
    "        self.word2vec = word2vec\n",
    "        self.dim = len(word2vec.itervalues().next())\n",
    "    \n",
    "    def fit(self, X, y):\n",
    "        return self\n",
    "\n",
    "    def transform(self, X):\n",
    "        ret = np.array([\n",
    "            np.mean([self.word2vec[w] for w in words if w in self.word2vec] \n",
    "                    or [np.zeros(self.dim)], axis=0)\n",
    "            for words in X\n",
    "        ])\n",
    "        return ret\n",
    "\n",
    "class HybridVectorizer(object):\n",
    "    def __init__(self, word2vec):\n",
    "        self.word2vec = word2vec\n",
    "        self.dim = len(word2vec.itervalues().next())\n",
    "        self.bow = count_vectorizer()\n",
    "        \n",
    "    \n",
    "    def fit(self, X, y):\n",
    "        self.bow.fit(X)\n",
    "        return self\n",
    "\n",
    "    def transform(self, X):\n",
    "        ret = []\n",
    "        for sentence in X:\n",
    "            w2v = np.mean([self.word2vec[w] for w in sentence if w in self.word2vec] \n",
    "                    or [np.zeros(self.dim)], axis=0)\n",
    "            bow = self.bow.transform([sentence]).toarray()\n",
    "            ret.append(np.concatenate([w2v, bow[0]]))\n",
    "        ret = np.array(ret)\n",
    "        return ret\n",
    "\n",
    "class TfidfHybridVectorizer(object):\n",
    "    def __init__(self, word2vec):\n",
    "        self.word2vec = word2vec\n",
    "        self.dim = len(word2vec.itervalues().next())\n",
    "        self.tf = tfidf_vectorizer()\n",
    "        \n",
    "    \n",
    "    def fit(self, X, y):\n",
    "        self.tf.fit(X)\n",
    "        return self\n",
    "\n",
    "    def transform(self, X):\n",
    "        ret = []\n",
    "        for sentence in X:\n",
    "            w2v = np.mean([self.word2vec[w] for w in sentence if w in self.word2vec] \n",
    "                    or [np.zeros(self.dim)], axis=0)\n",
    "            tf = self.tf.transform([sentence]).toarray()\n",
    "            ret.append(np.concatenate([w2v, tf[0]]))\n",
    "        ret = np.array(ret)\n",
    "        return ret"
   ]
  },
  {
   "cell_type": "markdown",
   "metadata": {},
   "source": [
    "## Definir classificadores"
   ]
  },
  {
   "cell_type": "code",
   "execution_count": 70,
   "metadata": {
    "collapsed": false
   },
   "outputs": [],
   "source": [
    "from sklearn.pipeline import Pipeline\n",
    "from sklearn.svm import LinearSVC\n",
    "from sklearn.naive_bayes import BernoulliNB, MultinomialNB\n",
    "from sklearn.ensemble import ExtraTreesClassifier\n",
    "\n",
    "\n",
    "classifiers = {}  # {'classifier': (VectorizeModel, Classifier)}"
   ]
  },
  {
   "cell_type": "markdown",
   "metadata": {},
   "source": [
    "#### SVM Linear"
   ]
  },
  {
   "cell_type": "code",
   "execution_count": 71,
   "metadata": {
    "collapsed": false
   },
   "outputs": [],
   "source": [
    "classifiers[\"BoW\"] = (LinearSVC(), count_vectorizer())"
   ]
  },
  {
   "cell_type": "code",
   "execution_count": 72,
   "metadata": {
    "collapsed": true
   },
   "outputs": [],
   "source": [
    "classifiers[\"BoW tfidf\"] = (LinearSVC(), tfidf_vectorizer())"
   ]
  },
  {
   "cell_type": "code",
   "execution_count": 73,
   "metadata": {
    "collapsed": true
   },
   "outputs": [],
   "source": [
    "classifiers[\"W2V\"] = (LinearSVC(), MeanEmbeddingVectorizer(w2v_300))"
   ]
  },
  {
   "cell_type": "code",
   "execution_count": 74,
   "metadata": {
    "collapsed": false
   },
   "outputs": [],
   "source": [
    "classifiers[\"Hybrid\"] = (LinearSVC(), HybridVectorizer(w2v_300))"
   ]
  },
  {
   "cell_type": "code",
   "execution_count": 75,
   "metadata": {
    "collapsed": false
   },
   "outputs": [],
   "source": [
    "classifiers[\"Hybrid tfidf\"] = (LinearSVC(), TfidfHybridVectorizer(w2v_300))"
   ]
  },
  {
   "cell_type": "markdown",
   "metadata": {},
   "source": [
    "#### Naive Bayes"
   ]
  },
  {
   "cell_type": "code",
   "execution_count": 17,
   "metadata": {
    "collapsed": true
   },
   "outputs": [],
   "source": [
    "classifiers[\"NB mult\"] = (MultinomialNB(), count_vectorizer())"
   ]
  },
  {
   "cell_type": "code",
   "execution_count": 19,
   "metadata": {
    "collapsed": true
   },
   "outputs": [],
   "source": [
    "classifiers[\"NB mult tfidf\"] = (MultinomialNB(), tfidf_vectorizer())"
   ]
  },
  {
   "cell_type": "code",
   "execution_count": 18,
   "metadata": {
    "collapsed": true
   },
   "outputs": [],
   "source": [
    "classifiers[\"NB bernoulli\"] = (BernoulliNB(), count_vectorizer())"
   ]
  },
  {
   "cell_type": "code",
   "execution_count": 20,
   "metadata": {
    "collapsed": true
   },
   "outputs": [],
   "source": [
    "classifiers[\"NB bern tfidf\"] = (BernoulliNB(), tfidf_vectorizer())"
   ]
  },
  {
   "cell_type": "markdown",
   "metadata": {},
   "source": [
    "#### ExtraTrees"
   ]
  },
  {
   "cell_type": "code",
   "execution_count": 21,
   "metadata": {
    "collapsed": true
   },
   "outputs": [],
   "source": [
    "classifiers[\"ETree\"] = (ExtraTreesClassifier(n_estimators=200), count_vectorizer())"
   ]
  },
  {
   "cell_type": "code",
   "execution_count": 22,
   "metadata": {
    "collapsed": true
   },
   "outputs": [],
   "source": [
    "classifiers[\"ETree tfidf\"] = (ExtraTreesClassifier(n_estimators=200), tfidf_vectorizer())"
   ]
  },
  {
   "cell_type": "code",
   "execution_count": 23,
   "metadata": {
    "collapsed": true
   },
   "outputs": [],
   "source": [
    "classifiers[\"ETree W2V\"] = (ExtraTreesClassifier(n_estimators=200), MeanEmbeddingVectorizer(w2v_300))"
   ]
  },
  {
   "cell_type": "markdown",
   "metadata": {},
   "source": [
    "## Testes"
   ]
  },
  {
   "cell_type": "code",
   "execution_count": 84,
   "metadata": {
    "collapsed": false
   },
   "outputs": [
    {
     "name": "stdout",
     "output_type": "stream",
     "text": [
      "BoW tfidf - 20 180 400 1080 2420 .\n",
      "W2V - 20 180 400 1080 2420 .\n",
      "Hybrid tfidf - 20 180 400 1080 2420 .\n",
      "Hybrid - 20 180 400 1080 2420 .\n",
      "BoW - 20 180 400 1080 2420 .\n"
     ]
    }
   ],
   "source": [
    "from sklearn.cross_validation import StratifiedShuffleSplit\n",
    "from sklearn.metrics import accuracy_score, f1_score, precision_score, recall_score, confusion_matrix\n",
    "\n",
    "def benchmark(model, X, y, n):\n",
    "    test_size = 1 - (n / float(len(y)))\n",
    "    scores = {}\n",
    "    for train, test in StratifiedShuffleSplit(y, n_iter=5, test_size=test_size, random_state=0):\n",
    "        X_train, X_test = X[train], X[test]\n",
    "        y_train, y_test = y[train], y[test]\n",
    "        result = model.fit(X_train, y_train).predict(X_test)\n",
    "        scores['accuracy'] = accuracy_score(result, y_test)\n",
    "        scores['precision'] = precision_score(result, y_test, average=\"macro\")\n",
    "        scores['recall'] = recall_score(result, y_test, average=\"macro\")\n",
    "        scores['f1'] = f1_score(result, y_test, average=\"macro\")\n",
    "        scores['confusion'] = confusion_matrix(result, y_test)\n",
    "    return scores\n",
    "\n",
    "train_sizes = [20, 180, 400, 1080, 2420]\n",
    "table = []\n",
    "for name in classifiers:\n",
    "    print name,\n",
    "    model = Pipeline([(\"vector_model\", classifiers[name][1]), (\"classifer\", classifiers[name][0])])\n",
    "    print '-',\n",
    "    for n in train_sizes:\n",
    "        result = benchmark(model, X, y, n)\n",
    "        table.append({'model': name, \n",
    "                      'accuracy': np.mean(result['accuracy']),\n",
    "                      'precision': np.mean(result['precision']),\n",
    "                      'recall': np.mean(result['recall']),\n",
    "                      'f1': np.mean(result['f1']),\n",
    "                      #'confusion': np.mean(result['confusion'], axis=0),\n",
    "                      'train_size': n})\n",
    "        print n,\n",
    "    print '.'\n"
   ]
  },
  {
   "cell_type": "code",
   "execution_count": 85,
   "metadata": {
    "collapsed": false
   },
   "outputs": [
    {
     "data": {
      "text/plain": [
       "[<matplotlib.text.Text at 0x7fb377711c50>]"
      ]
     },
     "execution_count": 85,
     "metadata": {},
     "output_type": "execute_result"
    },
    {
     "data": {
      "image/png": "[encoded data removed]",
      "text/plain": [
       "<matplotlib.figure.Figure at 0x7fb3778f0710>"
      ]
     },
     "metadata": {},
     "output_type": "display_data"
    }
   ],
   "source": [
    "import pandas as pd\n",
    "import seaborn as sns\n",
    "%matplotlib inline\n",
    "import matplotlib.pyplot as plt\n",
    "\n",
    "sns.set_palette(sns.color_palette(\"Set1\", 5))\n",
    "\n",
    "df = pd.DataFrame(table)\n",
    "plt.figure(figsize=(12, 12))\n",
    "names = ['BoW', 'BoW tfidf', 'W2V', 'Hybrid', 'Hybrid tfidf']\n",
    "fig = sns.pointplot(x='train_size', y='accuracy', hue='model', \n",
    "                    data=df[df.model.map(lambda x: x in names)])\n",
    "sns.set_context(\"notebook\", font_scale=1.5)\n",
    "fig.set(ylabel=\"accuracy\")\n",
    "fig.set(xlabel=\"labeled training examples\")\n",
    "fig.set(title=\"Chave Benchmark\")\n",
    "fig.set(ylabel=\"accuracy\")"
   ]
  },
  {
   "cell_type": "code",
   "execution_count": 99,
   "metadata": {
    "collapsed": false
   },
   "outputs": [
    {
     "name": "stdout",
     "output_type": "stream",
     "text": [
      "\n",
      "\n",
      "BoW:\n",
      "\n",
      "Train Size:  2420\n",
      "Precision:  0.8795\n",
      "Recall:  0.8933\n",
      "F1:  0.883\n",
      "Accuracy:  0.8933\n",
      "\n",
      "\n",
      "BoW tfidf:\n",
      "\n",
      "Train Size:  2420\n",
      "Precision:  0.8788\n",
      "Recall:  0.8992\n",
      "F1:  0.8838\n",
      "Accuracy:  0.8933\n",
      "\n",
      "\n",
      "Word2Vec:\n",
      "\n",
      "Train Size:  2420\n",
      "Precision:  0.8391\n",
      "Recall:  0.8454\n",
      "F1:  0.8397\n",
      "Accuracy:  0.8535\n",
      "\n",
      "\n",
      "Hybrid:\n",
      "\n",
      "Train Size:  2420\n",
      "Precision:  0.8941\n",
      "Recall:  0.9075\n",
      "F1:  0.8978\n",
      "Accuracy:  0.9078\n",
      "\n",
      "\n",
      "Hybrid tfidf:\n",
      "\n",
      "Train Size:  2420\n",
      "Precision:  0.8734\n",
      "Recall:  0.8909\n",
      "F1:  0.8766\n",
      "Accuracy:  0.8843\n"
     ]
    }
   ],
   "source": [
    "def print_scores(model):\n",
    "    last = {}\n",
    "    for t in table:\n",
    "        if t['model'] == model:\n",
    "            last['train_size'] = t['train_size']\n",
    "            last['precision'] = t['precision']\n",
    "            last['recall'] = t['recall']\n",
    "            last['f1'] = t['f1']\n",
    "            last['accuracy'] = t['accuracy']\n",
    "    print 'Train Size: ', last['train_size']\n",
    "    print 'Precision: ', round(last['precision'],4)\n",
    "    print 'Recall: ', round(last['recall'],4)\n",
    "    print 'F1: ', round(last['f1'],4)\n",
    "    print 'Accuracy: ', round(last['accuracy'],4)\n",
    "\n",
    "print '\\n\\nBoW:\\n'\n",
    "print_scores('BoW')\n",
    "print '\\n\\nBoW tfidf:\\n'\n",
    "print_scores('BoW tfidf')\n",
    "print '\\n\\nWord2Vec:\\n'\n",
    "print_scores('W2V')\n",
    "print '\\n\\nHybrid:\\n'\n",
    "print_scores('Hybrid')\n",
    "print '\\n\\nHybrid tfidf:\\n'\n",
    "print_scores('Hybrid tfidf')\n"
   ]
  }
 ],
 "metadata": {
  "kernelspec": {
   "display_name": "Python 2",
   "language": "python",
   "name": "python2"
  },
  "language_info": {
   "codemirror_mode": {
    "name": "ipython",
    "version": 2
   },
   "file_extension": ".py",
   "mimetype": "text/x-python",
   "name": "python",
   "nbconvert_exporter": "python",
   "pygments_lexer": "ipython2",
   "version": "2.7.13"
  }
 },
 "nbformat": 4,
 "nbformat_minor": 2
}
