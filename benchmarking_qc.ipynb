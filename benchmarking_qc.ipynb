{
 "cells": [
  {
   "cell_type": "markdown",
   "metadata": {},
   "source": [
    "Parâmetros"
   ]
  },
  {
   "cell_type": "code",
   "execution_count": 1,
   "metadata": {
    "collapsed": true
   },
   "outputs": [],
   "source": [
    "LOWER_CASE = False\n",
    "MIN_GRAMS = 1\n",
    "MAX_GRAMS = 1"
   ]
  },
  {
   "cell_type": "markdown",
   "metadata": {},
   "source": [
    "Define a classe correta com base nos parâmetros tipo e categoria presentes em cada questão do dataset Chave"
   ]
  },
  {
   "cell_type": "code",
   "execution_count": 2,
   "metadata": {
    "collapsed": true
   },
   "outputs": [],
   "source": [
    "def correct_class(t, c):\n",
    "    if c == 'COUNT':\n",
    "        return 'MEASURE'\n",
    "    if c == 'D' or c == 'DEFINITION':\n",
    "        return 'DEFINITION'\n",
    "    if c == 'F' or c == 'FACTOID':\n",
    "        if t == 'COUNT':\n",
    "            return 'MEASURE'\n",
    "        else:\n",
    "            return t\n",
    "    if c == 'L' or c == 'LIST':\n",
    "        if t == 'COUNT':\n",
    "            return 'MEASURE'\n",
    "        else:\n",
    "            return t\n",
    "    if c == 'LOCATION':\n",
    "        return 'LOCATION'\n",
    "    if c == 'MEASURE':\n",
    "        return 'MEASURE'\n",
    "    if c == 'OBJECT':\n",
    "        return 'DEFINITION'\n",
    "    if c == 'ORGANIZATION':\n",
    "        return 'ORGANIZATION'\n",
    "    if c == 'OTHER' and (t == 'FACTOID' or t == 'LIST'):\n",
    "        return 'OTHER'\n",
    "    if c == 'OTHER' and not (t == 'FACTOID' or t == 'LIST'):\n",
    "        return t\n",
    "    if c == 'PERSON' and t == 'DEFINITION':\n",
    "        return 'DEFINITION'\n",
    "    if c == 'PERSON' and not t == 'DEFINITION':\n",
    "        return 'PERSON'\n",
    "    if c == 'TIME':\n",
    "        return 'TIME'\n",
    "    return c"
   ]
  },
  {
   "cell_type": "markdown",
   "metadata": {},
   "source": [
    "Realiza o pré-processamento no texto da questão"
   ]
  },
  {
   "cell_type": "code",
   "execution_count": 3,
   "metadata": {
    "collapsed": true
   },
   "outputs": [],
   "source": [
    "def pre_processing(text):\n",
    "    if text is None:\n",
    "        return None\n",
    "    ret = text.replace('\\n', '').replace('\\t', '').replace('\\r', '')\n",
    "    ret = ret.replace('?', '')\n",
    "    #ret = ret.replace('«', '\\\"').replace('»', '\\\"')\n",
    "    return ret"
   ]
  },
  {
   "cell_type": "markdown",
   "metadata": {},
   "source": [
    "Buscar dados do dataset Chave"
   ]
  },
  {
   "cell_type": "code",
   "execution_count": 4,
   "metadata": {
    "scrolled": true
   },
   "outputs": [
    {
     "name": "stdout",
     "output_type": "stream",
     "text": [
      "X: 3464  y: 3464\n"
     ]
    }
   ],
   "source": [
    "import xml.etree.ElementTree as et\n",
    "import qa_system\n",
    "import re\n",
    "\n",
    "\n",
    "path_questions = \"data/questions.xml\"\n",
    "\n",
    "X, y = [], []\n",
    "tree = et.parse(open(path_questions, 'r'))\n",
    "for question in tree.getroot():\n",
    "    \n",
    "    t = question.attrib['tipo']\n",
    "    c = question.attrib['categoria']\n",
    "    clss = correct_class(t, c)\n",
    "    \n",
    "    if clss == None:\n",
    "        continue\n",
    "    if clss == 'X':\n",
    "        continue\n",
    "    if clss == 'MANNER':\n",
    "        continue\n",
    "    if clss == 'OBJECT':\n",
    "        continue\n",
    "    \n",
    "    for t in question:\n",
    "        if t.tag == 'texto':\n",
    "            text = pre_processing(t.text)\n",
    "            if text is not None:\n",
    "                text = text.split()\n",
    "                if type(text) == type(''): text = text.decode('utf-8')\n",
    "                X.append(text)\n",
    "                y.append(clss)\n",
    "                break\n",
    "        \n",
    "print 'X:',len(X),' y:',len(y)"
   ]
  },
  {
   "cell_type": "markdown",
   "metadata": {},
   "source": [
    "Modelos de EmbeddingVectorizer"
   ]
  },
  {
   "cell_type": "code",
   "execution_count": 139,
   "metadata": {
    "collapsed": true
   },
   "outputs": [],
   "source": [
    "import numpy as np\n",
    "from collections import Counter, defaultdict\n",
    "\n",
    "\n",
    "class MeanEmbeddingVectorizer(object):\n",
    "    def __init__(self, word2vec):\n",
    "        self.word2vec = word2vec\n",
    "        self.dim = len(word2vec.itervalues().next())\n",
    "    \n",
    "    def fit(self, X, y):\n",
    "        return self\n",
    "\n",
    "    def transform(self, X):\n",
    "        return np.array([\n",
    "            np.mean([self.word2vec[w] for w in words if w in self.word2vec] \n",
    "                    or [np.zeros(self.dim)], axis=0)\n",
    "            for words in X\n",
    "        ])\n",
    "\n",
    "class TfidfEmbeddingVectorizer(object):\n",
    "    def __init__(self, word2vec, LOWER=False):\n",
    "        self.word2vec = word2vec\n",
    "        self.word2weight = None\n",
    "        self.lower = LOWER\n",
    "        self.dim = len(word2vec.itervalues().next())\n",
    "        \n",
    "    def fit(self, X, y):\n",
    "        tfidf = TfidfVectorizer(analyzer=lambda x: x, strip_accents=None, ngram_range=(MIN_GRAMS, MAX_GRAMS), token_pattern=u'(?u)\\\\b\\\\w+\\\\b', lowercase=self.lower)\n",
    "        tfidf.fit(X)\n",
    "        max_idf = max(tfidf.idf_)\n",
    "        self.word2weight = defaultdict(\n",
    "            lambda: max_idf, \n",
    "            [(w, tfidf.idf_[i]) for w, i in tfidf.vocabulary_.items()])\n",
    "        return self\n",
    "    \n",
    "    def transform(self, X):\n",
    "        return np.array([\n",
    "                np.mean([self.word2vec[w] * self.word2weight[w]\n",
    "                         for w in words if w in self.word2vec] or\n",
    "                        [np.zeros(self.dim)], axis=0)\n",
    "                for words in X\n",
    "            ])\n",
    "\n",
    "def count_vectorizer(MIN_GRAM=1, MAX_GRAM=1, LOWER=False):\n",
    "    return CountVectorizer(analyzer=lambda x: x, strip_accents=None, ngram_range=(MIN_GRAM, MAX_GRAM), token_pattern=u'(?u)\\\\b\\\\w+\\\\b', lowercase=LOWER)\n",
    "\n",
    "def tfidf_vectorizer(MIN_GRAM=1, MAX_GRAM=1, LOWER=False):\n",
    "    return TfidfVectorizer(analyzer=lambda x: x, strip_accents=None, ngram_range=(MIN_GRAM, MAX_GRAM), token_pattern=u'(?u)\\\\b\\\\w+\\\\b', lowercase=LOWER)"
   ]
  },
  {
   "cell_type": "markdown",
   "metadata": {},
   "source": [
    "Carregar Modelos"
   ]
  },
  {
   "cell_type": "code",
   "execution_count": 37,
   "metadata": {
    "collapsed": true
   },
   "outputs": [],
   "source": [
    "import numpy as np\n",
    "from gensim.models import KeyedVectors, Word2Vec\n",
    "\n",
    "path_w2v_model = \"data/word_embedding/pt.bin\"\n",
    "\n",
    "cbow_w2v_50 = 'data/word_embedding/cbow_s50_w2v.txt'\n",
    "cbow_w2v_100 = 'data/word_embedding/cbow_s100_w2v.txt'\n",
    "cbow_w2v_300 = 'data/word_embedding/cbow_s300_w2v.txt'\n",
    "cbow_w2v_600 = 'data/word_embedding/cbow_s600_w2v.txt'\n",
    "\n",
    "cbow_wng2v_50 = 'data/word_embedding/cbow_s50_wng2v.txt'\n",
    "cbow_wng2v_100 = 'data/word_embedding/cbow_s100_wng2v.txt'\n",
    "cbow_wng2v_300 = 'data/word_embedding/cbow_s300_wng2v.txt'"
   ]
  },
  {
   "cell_type": "markdown",
   "metadata": {},
   "source": [
    "Carregar modelos Word2Vec em Português "
   ]
  },
  {
   "cell_type": "code",
   "execution_count": 17,
   "metadata": {},
   "outputs": [],
   "source": [
    "word2vec = Word2Vec.load(path_w2v_model)\n",
    "word2vec.init_sims(replace=True)\n",
    "w2v = {w: vec for w, vec in zip(word2vec.wv.index2word, word2vec.wv.syn0)}"
   ]
  },
  {
   "cell_type": "code",
   "execution_count": 11,
   "metadata": {
    "collapsed": true
   },
   "outputs": [],
   "source": [
    "w2v_50 = KeyedVectors.load_word2vec_format(cbow_w2v_50, unicode_errors=\"ignore\")\n",
    "w2v_50 = {w: vec for w, vec in zip(w2v_50.index2word, w2v_50.syn0)}"
   ]
  },
  {
   "cell_type": "code",
   "execution_count": 12,
   "metadata": {
    "collapsed": true
   },
   "outputs": [],
   "source": [
    "w2v_100 = KeyedVectors.load_word2vec_format(cbow_w2v_100, unicode_errors=\"ignore\")\n",
    "w2v_100 = {w: vec for w, vec in zip(w2v_100.index2word, w2v_100.syn0)}"
   ]
  },
  {
   "cell_type": "code",
   "execution_count": 45,
   "metadata": {
    "collapsed": true
   },
   "outputs": [],
   "source": [
    "w2v_300 = KeyedVectors.load_word2vec_format(cbow_w2v_300, unicode_errors=\"ignore\")\n",
    "w2v_300 = {w: vec for w, vec in zip(w2v_300.index2word, w2v_300.syn0)}"
   ]
  },
  {
   "cell_type": "code",
   "execution_count": 46,
   "metadata": {
    "collapsed": true
   },
   "outputs": [],
   "source": [
    "w2v_600 = KeyedVectors.load_word2vec_format(cbow_w2v_600, unicode_errors=\"ignore\")\n",
    "w2v_600 = {w: vec for w, vec in zip(w2v_600.index2word, w2v_600.syn0)}"
   ]
  },
  {
   "cell_type": "code",
   "execution_count": 13,
   "metadata": {
    "collapsed": true
   },
   "outputs": [],
   "source": [
    "wng2v_50 = KeyedVectors.load_word2vec_format(cbow_wng2v_50, unicode_errors=\"ignore\")\n",
    "wng2v_50 = {w: vec for w, vec in zip(wng2v_50.index2word, wng2v_50.syn0)}"
   ]
  },
  {
   "cell_type": "code",
   "execution_count": 14,
   "metadata": {},
   "outputs": [],
   "source": [
    "wng2v_100 = KeyedVectors.load_word2vec_format(cbow_wng2v_100, unicode_errors=\"ignore\")\n",
    "wng2v_100 = {w: vec for w, vec in zip(wng2v_100.index2word, wng2v_100.syn0)}"
   ]
  },
  {
   "cell_type": "code",
   "execution_count": 52,
   "metadata": {
    "collapsed": true
   },
   "outputs": [],
   "source": [
    "wng2v_300 = KeyedVectors.load_word2vec_format(cbow_wng2v_300, unicode_errors=\"ignore\")\n",
    "wng2v_300 = {w: vec for w, vec in zip(wng2v_300.index2word, wng2v_300.syn0)}"
   ]
  },
  {
   "cell_type": "markdown",
   "metadata": {},
   "source": [
    "Definindo os modelos de teste"
   ]
  },
  {
   "cell_type": "code",
   "execution_count": 90,
   "metadata": {
    "collapsed": true,
    "scrolled": true
   },
   "outputs": [],
   "source": [
    "from sklearn.feature_extraction.text import CountVectorizer\n",
    "from sklearn.feature_extraction.text import TfidfVectorizer\n",
    "from sklearn.ensemble import ExtraTreesClassifier\n",
    "from sklearn.pipeline import Pipeline\n",
    "from sklearn.svm import SVC\n",
    "from sklearn.naive_bayes import BernoulliNB, MultinomialNB\n",
    "from sklearn.cross_validation import cross_val_score"
   ]
  },
  {
   "cell_type": "code",
   "execution_count": null,
   "metadata": {
    "collapsed": true
   },
   "outputs": [],
   "source": [
    "all_results = []\n",
    "all_models = []"
   ]
  },
  {
   "cell_type": "code",
   "execution_count": 91,
   "metadata": {
    "collapsed": true
   },
   "outputs": [],
   "source": [
    "def test_model(vector_model, classifer, cv=3):\n",
    "    model = Pipeline([(\"vector_model\", vector_model), (\"classifer\", classifer)])\n",
    "    return cross_val_score(model, X, y, cv=cv).mean()"
   ]
  },
  {
   "cell_type": "markdown",
   "metadata": {},
   "source": [
    "Naive Bayes"
   ]
  },
  {
   "cell_type": "code",
   "execution_count": 92,
   "metadata": {},
   "outputs": [],
   "source": [
    "all_results.append((\"NB mult\", test_model(count_vectorizer(), MultinomialNB())))\n",
    "all_results.append((\"NB multt\", test_model(tfidf_vectorizer(), MultinomialNB())))"
   ]
  },
  {
   "cell_type": "code",
   "execution_count": 93,
   "metadata": {
    "collapsed": true
   },
   "outputs": [],
   "source": [
    "all_results.append((\"NB bern\", test_model(count_vectorizer(), BernoulliNB())))\n",
    "all_results.append((\"NB bernt\", test_model(tfidf_vectorizer(), BernoulliNB())))"
   ]
  },
  {
   "cell_type": "markdown",
   "metadata": {},
   "source": [
    "SVM"
   ]
  },
  {
   "cell_type": "code",
   "execution_count": 137,
   "metadata": {},
   "outputs": [],
   "source": [
    "all_results.append((\"SVC\", test_model(count_vectorizer(), SVC(kernel=\"linear\"))))\n",
    "all_results.append((\"SVCt\", test_model(tfidf_vectorizer(), SVC(kernel=\"linear\"))))"
   ]
  },
  {
   "cell_type": "code",
   "execution_count": 133,
   "metadata": {
    "collapsed": true
   },
   "outputs": [],
   "source": [
    "all_results.append((\"SVC rbf\", test_model(count_vectorizer(), SVC(kernel=\"rbf\", gamma=0.7))))\n",
    "all_results.append((\"SVC rbft\", test_model(tfidf_vectorizer(), SVC(kernel=\"rbf\", gamma=0.7))))"
   ]
  },
  {
   "cell_type": "code",
   "execution_count": 125,
   "metadata": {
    "collapsed": true
   },
   "outputs": [],
   "source": [
    "all_results.append((\"SVC sigmoid\", test_model(count_vectorizer(), SVC(kernel=\"sigmoid\"))))\n",
    "all_results.append((\"SVC sigmoidt\", test_model(tfidf_vectorizer(), SVC(kernel=\"sigmoid\"))))"
   ]
  },
  {
   "cell_type": "code",
   "execution_count": 132,
   "metadata": {
    "collapsed": true
   },
   "outputs": [],
   "source": [
    "all_results.append((\"SVC poly\", test_model(count_vectorizer(), SVC(kernel=\"poly\", gamma=0.7))))\n",
    "all_results.append((\"SVC polyt\", test_model(tfidf_vectorizer(), SVC(kernel=\"poly\", gamma=0.7))))"
   ]
  },
  {
   "cell_type": "code",
   "execution_count": 95,
   "metadata": {
    "collapsed": true
   },
   "outputs": [],
   "source": [
    "all_results.append((\"SVC w2v\", test_model(MeanEmbeddingVectorizer(w2v), SVC(kernel=\"linear\"))))\n",
    "all_results.append((\"SVC w2vt\", test_model(TfidfEmbeddingVectorizer(w2v), SVC(kernel=\"linear\"))))"
   ]
  },
  {
   "cell_type": "code",
   "execution_count": 97,
   "metadata": {},
   "outputs": [],
   "source": [
    "all_results.append((\"SVC w2v50\", test_model(MeanEmbeddingVectorizer(w2v_50), SVC(kernel=\"linear\"))))\n",
    "all_results.append((\"SVC w2v50t\", test_model(TfidfEmbeddingVectorizer(w2v_50), SVC(kernel=\"linear\"))))"
   ]
  },
  {
   "cell_type": "code",
   "execution_count": 140,
   "metadata": {
    "collapsed": true
   },
   "outputs": [],
   "source": [
    "all_results.append((\"SVC w2v100\", test_model(MeanEmbeddingVectorizer(w2v_100), SVC(kernel=\"linear\"))))\n",
    "all_results.append((\"SVC w2v100t\", test_model(TfidfEmbeddingVectorizer(w2v_100), SVC(kernel=\"linear\"))))"
   ]
  },
  {
   "cell_type": "code",
   "execution_count": 99,
   "metadata": {
    "collapsed": true
   },
   "outputs": [],
   "source": [
    "all_results.append((\"SVC w2v300\", test_model(MeanEmbeddingVectorizer(w2v_300), SVC(kernel=\"linear\"))))\n",
    "all_results.append((\"SVC w2v300t\", test_model(TfidfEmbeddingVectorizer(w2v_300), SVC(kernel=\"linear\"))))"
   ]
  },
  {
   "cell_type": "code",
   "execution_count": 101,
   "metadata": {
    "collapsed": true
   },
   "outputs": [],
   "source": [
    "all_results.append((\"SVC w2v600\", test_model(MeanEmbeddingVectorizer(w2v_600), SVC(kernel=\"linear\"))))\n",
    "all_results.append((\"SVC w2v600t\", test_model(TfidfEmbeddingVectorizer(w2v_600), SVC(kernel=\"linear\"))))"
   ]
  },
  {
   "cell_type": "code",
   "execution_count": 102,
   "metadata": {
    "collapsed": true
   },
   "outputs": [],
   "source": [
    "all_results.append((\"SVC wn2v50\", test_model(MeanEmbeddingVectorizer(wng2v_50), SVC(kernel=\"linear\"))))\n",
    "all_results.append((\"SVC wn2v50t\", test_model(TfidfEmbeddingVectorizer(wng2v_50), SVC(kernel=\"linear\"))))"
   ]
  },
  {
   "cell_type": "code",
   "execution_count": 103,
   "metadata": {
    "collapsed": true
   },
   "outputs": [],
   "source": [
    "all_results.append((\"SVC wn2v100\", test_model(MeanEmbeddingVectorizer(wng2v_100), SVC(kernel=\"linear\"))))\n",
    "all_results.append((\"SVC wn2v100t\", test_model(TfidfEmbeddingVectorizer(wng2v_100), SVC(kernel=\"linear\"))))"
   ]
  },
  {
   "cell_type": "code",
   "execution_count": 104,
   "metadata": {
    "collapsed": true
   },
   "outputs": [],
   "source": [
    "all_results.append((\"SVC wn2v300\", test_model(MeanEmbeddingVectorizer(wng2v_300), SVC(kernel=\"linear\"))))\n",
    "all_results.append((\"SVC wn2v300t\", test_model(TfidfEmbeddingVectorizer(wng2v_300), SVC(kernel=\"linear\"))))"
   ]
  },
  {
   "cell_type": "markdown",
   "metadata": {},
   "source": [
    "ExtraTrees"
   ]
  },
  {
   "cell_type": "code",
   "execution_count": 106,
   "metadata": {
    "collapsed": true
   },
   "outputs": [],
   "source": [
    "all_results.append((\"et\", test_model(count_vectorizer(), ExtraTreesClassifier(n_estimators=200))))\n",
    "all_results.append((\"ett\", test_model(tfidf_vectorizer(), ExtraTreesClassifier(n_estimators=200))))"
   ]
  },
  {
   "cell_type": "code",
   "execution_count": 107,
   "metadata": {
    "collapsed": true
   },
   "outputs": [],
   "source": [
    "all_results.append((\"et w2v\", test_model(MeanEmbeddingVectorizer(w2v), ExtraTreesClassifier(n_estimators=200))))\n",
    "all_results.append((\"et w2vt\", test_model(TfidfEmbeddingVectorizer(w2v), ExtraTreesClassifier(n_estimators=200))))"
   ]
  },
  {
   "cell_type": "code",
   "execution_count": 109,
   "metadata": {},
   "outputs": [],
   "source": [
    "all_results.append((\"et w2v100\", test_model(MeanEmbeddingVectorizer(w2v_100), ExtraTreesClassifier(n_estimators=200))))\n",
    "all_results.append((\"et w2v100t\", test_model(TfidfEmbeddingVectorizer(w2v_100), ExtraTreesClassifier(n_estimators=200))))"
   ]
  },
  {
   "cell_type": "code",
   "execution_count": 110,
   "metadata": {
    "collapsed": true
   },
   "outputs": [],
   "source": [
    "all_results.append((\"et w2v300\", test_mall_resultsodel(MeanEmbeddingVectorizer(w2v_300), ExtraTreesClassifier(n_estimators=200))))\n",
    "all_results.append((\"et w2v300t\", test_model(TfidfEmbeddingVectorizer(w2v_300), ExtraTreesClassifier(n_estimators=200))))"
   ]
  },
  {
   "cell_type": "code",
   "execution_count": 117,
   "metadata": {},
   "outputs": [],
   "source": [
    "all_results.append((\"et wn2v100\", test_model(MeanEmbeddingVectorizer(wng2v_100), ExtraTreesClassifier(n_estimators=200))))\n",
    "all_results.append((\"et wn2v100t\", test_model(TfidfEmbeddingVectorizer(wng2v_100), ExtraTreesClassifier(n_estimators=200))))"
   ]
  },
  {
   "cell_type": "code",
   "execution_count": 118,
   "metadata": {
    "collapsed": true
   },
   "outputs": [],
   "source": [
    "all_results.append((\"et wn2v300\", test_model(MeanEmbeddingVectorizer(wng2v_300), ExtraTreesClassifier(n_estimators=200))))\n",
    "all_results.append((\"et wn2v300t\", test_model(TfidfEmbeddingVectorizer(wng2v_300), ExtraTreesClassifier(n_estimators=200))))"
   ]
  },
  {
   "cell_type": "markdown",
   "metadata": {},
   "source": [
    "Obter resultados"
   ]
  },
  {
   "cell_type": "code",
   "execution_count": 141,
   "metadata": {
    "scrolled": false
   },
   "outputs": [
    {
     "name": "stdout",
     "output_type": "stream",
     "text": [
      "model                score\n",
      "-----------------  -------\n",
      "SVC                 0.8204\n",
      "SVC lower           0.8204\n",
      "SVCt                0.8172\n",
      "SVCt lower          0.8172\n",
      "et                  0.8086\n",
      "ett                 0.7982\n",
      "SVC rbft            0.7935\n",
      "NB mult             0.7629\n",
      "NB multt            0.7424\n",
      "SVC w2v600          0.7297\n",
      "SVC w2v300          0.7254\n",
      "SVC wn2v300         0.7251\n",
      "SVC wn2v100         0.7075\n",
      "SVC w2vt            0.7006\n",
      "SVC w2v100          0.6939\n",
      "SVC w2v             0.6823\n",
      "SVC wn2v50          0.6809\n",
      "et w2v300           0.6775\n",
      "SVC w2v600t         0.6760\n",
      "et w2v              0.6746\n",
      "et w2v100           0.6714\n",
      "et w2vt             0.6708\n",
      "et wn2v300          0.6702\n",
      "et wn2v100          0.6700\n",
      "SVC wn2v300t        0.6677\n",
      "SVC wn2v50t         0.6601\n",
      "et wn2v100t         0.6587\n",
      "SVC wn2v100t        0.6576\n",
      "et w2v100t          0.6546\n",
      "SVC w2v100t         0.6527\n",
      "SVC w2v100t lower   0.6527\n",
      "SVC w2v300t         0.6521\n",
      "et wn2v300t         0.6506\n",
      "et w2v300t          0.6477\n",
      "SVC w2v50           0.6411\n",
      "SVC w2v50t          0.6278\n",
      "NB bern             0.6125\n",
      "NB bernt            0.6125\n",
      "SVC rbf             0.5707\n",
      "SVC poly            0.1801\n",
      "SVC polyt           0.1801\n",
      "SVC sigmoid         0.1801\n",
      "SVC sigmoidt        0.1801\n"
     ]
    },
    {
     "data": {
      "text/plain": [
       "<matplotlib.axes._subplots.AxesSubplot at 0x7f1f35f3c910>"
      ]
     },
     "execution_count": 141,
     "metadata": {},
     "output_type": "execute_result"
    },
    {
     "data": {
      "image/png": "[encoded data removed]",
      "text/plain": [
       "<matplotlib.figure.Figure at 0x7f1f2b575950>"
      ]
     },
     "metadata": {},
     "output_type": "display_data"
    }
   ],
   "source": [
    "from tabulate import tabulate\n",
    "%matplotlib inline\n",
    "import matplotlib.pyplot as plt\n",
    "import seaborn as sns\n",
    "\n",
    "scores = sorted([(name, result) \n",
    "                 for name, result in all_results], \n",
    "                key=lambda (_, x): -x)\n",
    "\n",
    "print tabulate(scores, floatfmt=\".4f\", headers=(\"model\", 'score'))\n",
    "plt.figure(figsize=(15, 6))\n",
    "sns.barplot(x=[name for name, _ in scores], y=[score for _, score in scores])"
   ]
  },
  {
   "cell_type": "markdown",
   "metadata": {},
   "source": [
    "Realizar testes variando o tamanho do conjunto de treinamento"
   ]
  },
  {
   "cell_type": "code",
   "execution_count": null,
   "metadata": {},
   "outputs": [],
   "source": [
    "from sklearn.cross_validation import StratifiedShuffleSplit\n",
    "\n",
    "def benchmark(model, X, y, n):\n",
    "    test_size = 1 - (n / float(len(y)))\n",
    "    scores = []\n",
    "    for train, test in StratifiedShuffleSplit(y, n_iter=5, test_size=test_size):\n",
    "        for t in train: print type(t)\n",
    "        print X[train]\n",
    "        X_train, X_test = X[train], X[test]\n",
    "        y_train, y_test = y[train], y[test]\n",
    "        scores.append(accuracy_score(model.fit(X_train, y_train).predict(X_test), y_test))\n",
    "    return np.mean(scores)"
   ]
  },
  {
   "cell_type": "code",
   "execution_count": null,
   "metadata": {
    "collapsed": true
   },
   "outputs": [],
   "source": [
    "train_sizes = [10, 40, 160, 640, 3200]\n",
    "table = []\n",
    "for name, model in all_models:\n",
    "    for n in train_sizes:\n",
    "        table.append({'model': name, \n",
    "                      'accuracy': benchmark(model, X, y, n), \n",
    "                      'train_size': n})\n",
    "df = pd.DataFrame(table)\n"
   ]
  },
  {
   "cell_type": "markdown",
   "metadata": {},
   "source": [
    "Plotar gráfico"
   ]
  },
  {
   "cell_type": "code",
   "execution_count": null,
   "metadata": {
    "collapsed": true
   },
   "outputs": [],
   "source": [
    "plt.figure(figsize=(15, 6))\n",
    "fig = sns.pointplot(x='train_size', y='accuracy', hue='model', \n",
    "                    data=df[df.model.map(lambda x: x in [\"mult_nb\", \"svc_tfidf\", \"w2v_tfidf\", \n",
    "                                                         \"glove_small_tfidf\", \"glove_big_tfidf\", \n",
    "                                                        ])])\n",
    "sns.set_context(\"notebook\", font_scale=1.5)\n",
    "fig.set(ylabel=\"accuracy\")\n",
    "fig.set(xlabel=\"labeled training examples\")\n",
    "fig.set(title=\"R8 benchmark\")\n",
    "fig.set(ylabel=\"accuracy\")"
   ]
  }
 ],
 "metadata": {
  "kernelspec": {
   "display_name": "Python 2",
   "language": "python",
   "name": "python2"
  },
  "language_info": {
   "codemirror_mode": {
    "name": "ipython",
    "version": 2
   },
   "file_extension": ".py",
   "mimetype": "text/x-python",
   "name": "python",
   "nbconvert_exporter": "python",
   "pygments_lexer": "ipython2",
   "version": "2.7.12"
  }
 },
 "nbformat": 4,
 "nbformat_minor": 2
}
