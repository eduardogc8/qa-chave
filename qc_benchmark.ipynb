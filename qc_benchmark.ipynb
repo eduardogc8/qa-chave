﻿{
 "cells": [
  {
   "cell_type": "markdown",
   "metadata": {},
   "source": [
    "### Buscar questões do dataset Chave"
   ]
  },
  {
   "cell_type": "code",
   "execution_count": 1,
   "metadata": {},
   "outputs": [
    {
     "name": "stderr",
     "output_type": "stream",
     "text": [
      "C:\\ProgramData\\Anaconda2\\lib\\site-packages\\gensim-3.0.1-py2.7-win-amd64.egg\\gensim\\utils.py:862: UserWarning: detected Windows; aliasing chunkize to chunkize_serial\n",
      "  warnings.warn(\"detected Windows; aliasing chunkize to chunkize_serial\")\n"
     ]
    },
    {
     "name": "stdout",
     "output_type": "stream",
     "text": [
      "Total: 4380\n",
      "valid: 641 invalid: 3735\n"
     ]
    }
   ],
   "source": [
    "import manager_dataset as _md\n",
    "\n",
    "questions = _md.pairs()"
   ]
  },
  {
   "cell_type": "markdown",
   "metadata": {},
   "source": [
    "### Pré-processamento no texto das questões"
   ]
  },
  {
   "cell_type": "code",
   "execution_count": 4,
   "metadata": {},
   "outputs": [
    {
     "name": "stdout",
     "output_type": "stream",
     "text": [
      "X: 2973  y: 2973\n",
      "{'DEFINITION': 624, 'TIME': 364, 'PERSON': 582, 'LOCATION': 545, 'MEASURE': 502, 'ORGANIZATION': 356}\n",
      "['TIME' 'LOCATION' 'TIME' ..., 'PERSON' 'PERSON' 'LOCATION']\n"
     ]
    }
   ],
   "source": [
    "import numpy as np\n",
    "import random\n",
    "import nltk\n",
    "\n",
    "X = []\n",
    "y = []\n",
    "\n",
    "cls = {}\n",
    "\n",
    "for question in questions:\n",
    "    \n",
    "    clss = question.correct_classification\n",
    "    \n",
    "    if clss == None:\n",
    "        continue\n",
    "    if clss == 'X':\n",
    "        continue\n",
    "    if clss == 'MANNER':\n",
    "        continue\n",
    "    if clss == 'OBJECT':\n",
    "        continue\n",
    "    if clss == 'OTHER':\n",
    "        continue\n",
    "    \n",
    "    if clss not in cls:\n",
    "        cls[clss] = 0\n",
    "    cls[clss] += 1\n",
    "    \n",
    "    text = question.question\n",
    "    text = text.replace('\\n', '').replace('\\r', '')\n",
    "    text = text.replace('?', ' ? ').replace('.', ' . ').replace(',', ' , ')\n",
    "    text = text.replace(':', ' : ').replace(';', ' ; ')\n",
    "    text = text.replace('\\'', ' \\\" ').replace('\\\"', ' \\\" ')\n",
    "    text = text.replace(u'«', ' \\\" ').replace(u'»', ' \\\" ')\n",
    "    text = text.lower()\n",
    "    question.question = text\n",
    "    \n",
    "    text = nltk.word_tokenize(text)\n",
    "    X.append(text)\n",
    "    y.append(clss)\n",
    "\n",
    "                \n",
    "print 'X:',len(X),' y:',len(y)\n",
    "random.seed(1)\n",
    "a = zip(X, y)\n",
    "random.shuffle(a)\n",
    "X, y = zip(*a)\n",
    "X, y = np.array(X), np.array(y)\n",
    "print cls"
   ]
  },
  {
   "cell_type": "markdown",
   "metadata": {},
   "source": [
    "### Modelo Word2Vec"
   ]
  },
  {
   "cell_type": "code",
   "execution_count": null,
   "metadata": {
    "collapsed": true
   },
   "outputs": [],
   "source": [
    "import numpy as np\n",
    "from gensim.models import KeyedVectors\n",
    "import time\n",
    "\n",
    "start_time = time.time()\n",
    "print time.asctime()\n",
    "cbow_w2v_300 = 'data/word_embedding/cbow_s300.txt'\n",
    "\n",
    "mw2v_300 = KeyedVectors.load_word2vec_format(cbow_w2v_300, unicode_errors=\"ignore\")\n",
    "print '.'\n",
    "w2v_300 = {w: vec for w, vec in zip(mw2v_300.index2word, mw2v_300.syn0)}\n",
    "\n",
    "print(\"--- %s min ---\" % (time.time() - start_time))"
   ]
  },
  {
   "cell_type": "markdown",
   "metadata": {},
   "source": [
    "### Modelos de representação em vetor"
   ]
  },
  {
   "cell_type": "code",
   "execution_count": null,
   "metadata": {
    "collapsed": true
   },
   "outputs": [],
   "source": [
    "import numpy as np\n",
    "from collections import Counter, defaultdict\n",
    "from sklearn.feature_extraction.text import CountVectorizer\n",
    "from sklearn.feature_extraction.text import TfidfVectorizer\n",
    "\n",
    "\n",
    "def count_vectorizer(MIN_GRAM=1, MAX_GRAM=1, LOWER=True):\n",
    "    return CountVectorizer(analyzer=lambda x: x, strip_accents=None, ngram_range=(MIN_GRAM, MAX_GRAM), \n",
    "                           token_pattern=u'(?u)\\\\b\\\\w+\\\\b', lowercase=LOWER)\n",
    "\n",
    "\n",
    "def tfidf_vectorizer(MIN_GRAM=1, MAX_GRAM=1, LOWER=True):\n",
    "    return TfidfVectorizer(analyzer=lambda x: x, strip_accents=None, ngram_range=(MIN_GRAM, MAX_GRAM), \n",
    "                           token_pattern=u'(?u)\\\\b\\\\w+\\\\b', lowercase=LOWER)\n",
    "\n",
    "\n",
    "class MeanEmbeddingVectorizer(object):\n",
    "    def __init__(self, word2vec):\n",
    "        self.word2vec = word2vec\n",
    "        self.dim = len(word2vec.itervalues().next())\n",
    "    \n",
    "    def fit(self, X, y):\n",
    "        return self\n",
    "\n",
    "    def transform(self, X):\n",
    "        ret = np.array([\n",
    "            np.mean([self.word2vec[w] for w in words if w in self.word2vec] \n",
    "                    or [np.zeros(self.dim)], axis=0)\n",
    "            for words in X\n",
    "        ])\n",
    "        return ret\n",
    "\n",
    "class HybridVectorizer(object):\n",
    "    def __init__(self, word2vec):\n",
    "        self.word2vec = word2vec\n",
    "        self.dim = len(word2vec.itervalues().next())\n",
    "        self.bow = count_vectorizer()\n",
    "        \n",
    "    \n",
    "    def fit(self, X, y):\n",
    "        self.bow.fit(X)\n",
    "        return self\n",
    "\n",
    "    def transform(self, X):\n",
    "        ret = []\n",
    "        for sentence in X:\n",
    "            w2v = np.mean([self.word2vec[w] for w in sentence if w in self.word2vec] \n",
    "                    or [np.zeros(self.dim)], axis=0)\n",
    "            bow = self.bow.transform([sentence]).toarray()\n",
    "            ret.append(np.concatenate([w2v, bow[0]]))\n",
    "        ret = np.array(ret)\n",
    "        return ret\n",
    "\n",
    "class TfidfHybridVectorizer(object):\n",
    "    def __init__(self, word2vec):\n",
    "        self.word2vec = word2vec\n",
    "        self.dim = len(word2vec.itervalues().next())\n",
    "        self.tf = tfidf_vectorizer()\n",
    "        \n",
    "    \n",
    "    def fit(self, X, y):\n",
    "        self.tf.fit(X)\n",
    "        return self\n",
    "\n",
    "    def transform(self, X):\n",
    "        ret = []\n",
    "        for sentence in X:\n",
    "            w2v = np.mean([self.word2vec[w] for w in sentence if w in self.word2vec] \n",
    "                    or [np.zeros(self.dim)], axis=0)\n",
    "            tf = self.tf.transform([sentence]).toarray()\n",
    "            ret.append(np.concatenate([w2v, tf[0]]))\n",
    "        ret = np.array(ret)\n",
    "        return ret\n",
    "\n",
    "class SequenceHybridVectorizer(object):\n",
    "    def __init__(self, word2vec, tfidf=False):\n",
    "        self.word2vec = word2vec\n",
    "        self.dim = len(word2vec.itervalues().next())\n",
    "        self.word2weight = None\n",
    "        self.tfidf = tfidf\n",
    "        self.bow = count_vectorizer()\n",
    "        \n",
    "    \n",
    "    def fit(self, X, y):\n",
    "        self.bow.fit(X)\n",
    "        tfidf = tfidf_vectorizer()\n",
    "        tfidf.fit(X)\n",
    "        max_idf = max(tfidf.idf_)\n",
    "        self.word2weight = defaultdict(\n",
    "            lambda: max_idf, \n",
    "            [(w, tfidf.idf_[i]) for w, i in tfidf.vocabulary_.items()])\n",
    "        return self\n",
    "\n",
    "    def transform(self, X):\n",
    "        ret = []\n",
    "        for sentence in X:\n",
    "            vector = np.array([])\n",
    "            maxWords = 32\n",
    "            count = 0\n",
    "            for word in sentence:\n",
    "                if count < maxWords:\n",
    "                    if word in self.word2vec:\n",
    "                        count += 1\n",
    "                        if self.tfidf:\n",
    "                            vector = np.concatenate([vector, self.word2vec[word] * self.word2weight[word]])\n",
    "                        else:\n",
    "                            vector = np.concatenate([vector, self.word2vec[word]])\n",
    "            for i in range(maxWords-count):\n",
    "                vector = np.concatenate([vector, np.zeros(self.dim)])\n",
    "            bow = self.bow.transform([sentence]).toarray()\n",
    "            vector = np.concatenate([vector, bow[0]])\n",
    "            ret.append(vector)\n",
    "        \n",
    "        ret = np.array(ret)\n",
    "        return ret"
   ]
  },
  {
   "cell_type": "markdown",
   "metadata": {},
   "source": [
    "## Definir classificadores"
   ]
  },
  {
   "cell_type": "code",
   "execution_count": 116,
   "metadata": {
    "collapsed": true
   },
   "outputs": [],
   "source": [
    "from sklearn.pipeline import Pipeline\n",
    "from sklearn.svm import LinearSVC\n",
    "from sklearn.svm import SVC\n",
    "from sklearn.naive_bayes import BernoulliNB, MultinomialNB\n",
    "from sklearn.ensemble import ExtraTreesClassifier\n",
    "\n",
    "\n",
    "classifiers = {}  # {'classifier': (VectorizeModel, Classifier)}"
   ]
  },
  {
   "cell_type": "code",
   "execution_count": 117,
   "metadata": {
    "collapsed": true
   },
   "outputs": [],
   "source": [
    "lbs = [\"BoW_WF\", \n",
    "       \"BoW_TFIDF\", \n",
    "       \"W2V\",\n",
    "       \"BoW_WF_W2V\",\n",
    "       \"BoW_TFIDF_W2V\"\n",
    "        ]"
   ]
  },
  {
   "cell_type": "markdown",
   "metadata": {},
   "source": [
    "#### SVM Linear"
   ]
  },
  {
   "cell_type": "code",
   "execution_count": 118,
   "metadata": {
    "collapsed": true
   },
   "outputs": [],
   "source": [
    "classifiers[lbs[0]] = (LinearSVC(), count_vectorizer())"
   ]
  },
  {
   "cell_type": "code",
   "execution_count": 119,
   "metadata": {
    "collapsed": true
   },
   "outputs": [],
   "source": [
    "classifiers[lbs[1]] = (LinearSVC(), tfidf_vectorizer())"
   ]
  },
  {
   "cell_type": "code",
   "execution_count": 120,
   "metadata": {
    "collapsed": true
   },
   "outputs": [],
   "source": [
    "classifiers[lbs[2]] = (LinearSVC(), MeanEmbeddingVectorizer(w2v_300))"
   ]
  },
  {
   "cell_type": "code",
   "execution_count": 121,
   "metadata": {
    "collapsed": true
   },
   "outputs": [],
   "source": [
    "classifiers[lbs[3]] = (LinearSVC(), HybridVectorizer(w2v_300))"
   ]
  },
  {
   "cell_type": "code",
   "execution_count": 122,
   "metadata": {
    "collapsed": true
   },
   "outputs": [],
   "source": [
    "classifiers[lbs[4]] = (LinearSVC(), TfidfHybridVectorizer(w2v_300))"
   ]
  },
  {
   "cell_type": "code",
   "execution_count": null,
   "metadata": {
    "collapsed": true
   },
   "outputs": [],
   "source": [
    "classifiers[\"Hybrid sequence\"] = (LinearSVC(), SequenceHybridVectorizer(w2v_300))"
   ]
  },
  {
   "cell_type": "code",
   "execution_count": null,
   "metadata": {
    "collapsed": true
   },
   "outputs": [],
   "source": [
    "classifiers[\"Linear\"] = (LinearSVC(), count_vectorizer())"
   ]
  },
  {
   "cell_type": "code",
   "execution_count": null,
   "metadata": {
    "collapsed": true
   },
   "outputs": [],
   "source": [
    "classifiers[\"Polynomial\"] = (SVC(kernel=\"poly\", degree=3, gamma=0.4), count_vectorizer())"
   ]
  },
  {
   "cell_type": "code",
   "execution_count": null,
   "metadata": {
    "collapsed": true
   },
   "outputs": [],
   "source": [
    "classifiers[\"RBF\"] = (SVC(kernel=\"rbf\", gamma=0.1), count_vectorizer())"
   ]
  },
  {
   "cell_type": "code",
   "execution_count": null,
   "metadata": {
    "collapsed": true
   },
   "outputs": [],
   "source": [
    "classifiers[\"Sigmoid\"] = (SVC(kernel=\"sigmoid\"), count_vectorizer())"
   ]
  },
  {
   "cell_type": "markdown",
   "metadata": {},
   "source": [
    "#### Naive Bayes"
   ]
  },
  {
   "cell_type": "code",
   "execution_count": null,
   "metadata": {
    "collapsed": true
   },
   "outputs": [],
   "source": [
    "classifiers[\"NB mult\"] = (MultinomialNB(), count_vectorizer())"
   ]
  },
  {
   "cell_type": "code",
   "execution_count": null,
   "metadata": {
    "collapsed": true
   },
   "outputs": [],
   "source": [
    "classifiers[\"NB mult tfidf\"] = (MultinomialNB(), tfidf_vectorizer())"
   ]
  },
  {
   "cell_type": "code",
   "execution_count": null,
   "metadata": {
    "collapsed": true
   },
   "outputs": [],
   "source": [
    "classifiers[\"NB bernoulli\"] = (BernoulliNB(), count_vectorizer())"
   ]
  },
  {
   "cell_type": "code",
   "execution_count": null,
   "metadata": {
    "collapsed": true
   },
   "outputs": [],
   "source": [
    "classifiers[\"NB bern tfidf\"] = (BernoulliNB(), tfidf_vectorizer())"
   ]
  },
  {
   "cell_type": "markdown",
   "metadata": {},
   "source": [
    "#### ExtraTrees"
   ]
  },
  {
   "cell_type": "code",
   "execution_count": null,
   "metadata": {
    "collapsed": true
   },
   "outputs": [],
   "source": [
    "classifiers[\"ETree\"] = (ExtraTreesClassifier(n_estimators=200), count_vectorizer())"
   ]
  },
  {
   "cell_type": "code",
   "execution_count": null,
   "metadata": {
    "collapsed": true
   },
   "outputs": [],
   "source": [
    "classifiers[\"ETree tfidf\"] = (ExtraTreesClassifier(n_estimators=200), tfidf_vectorizer())"
   ]
  },
  {
   "cell_type": "code",
   "execution_count": null,
   "metadata": {
    "collapsed": true
   },
   "outputs": [],
   "source": [
    "classifiers[\"ETree W2V\"] = (ExtraTreesClassifier(n_estimators=200), MeanEmbeddingVectorizer(w2v_300))"
   ]
  },
  {
   "cell_type": "markdown",
   "metadata": {},
   "source": [
    "## Testes"
   ]
  },
  {
   "cell_type": "code",
   "execution_count": 123,
   "metadata": {
    "collapsed": true
   },
   "outputs": [],
   "source": [
    "from sklearn.cross_validation import StratifiedShuffleSplit\n",
    "from sklearn.metrics import accuracy_score, f1_score, precision_score, recall_score, confusion_matrix\n",
    "\n",
    "def benchmark(model, X, y, n):\n",
    "    test_size = 1 - (n / float(len(y)))\n",
    "    scores = {}\n",
    "    for train, test in StratifiedShuffleSplit(y, n_iter=5, test_size=test_size, random_state=0):\n",
    "        X_train, X_test = X[train], X[test]\n",
    "        y_train, y_test = y[train], y[test]\n",
    "        result = model.fit(X_train, y_train).predict(X_test)\n",
    "        scores['accuracy'] = accuracy_score(result, y_test)\n",
    "        scores['precision'] = precision_score(result, y_test, average=\"macro\")\n",
    "        scores['recall'] = recall_score(result, y_test, average=\"macro\")\n",
    "        scores['f1'] = f1_score(result, y_test, average=\"macro\")\n",
    "        scores['confusion'] = confusion_matrix(result, y_test)\n",
    "    return scores\n",
    "\n",
    "train_sizes = [80, 160, 240, 320, 400, 480, 560, 640, 720, 800, 880, 960, 1040, 1120, 1200, 1280, 1360, \n",
    "               1440, 1520, 1600, 1680, 1760, 1840, 1920, 2000, 2080, 2160, 2240, 2320, 2400, 2480]\n",
    "\n",
    "table = []\n",
    "\n",
    "def test_model(model, name):\n",
    "    for n in train_sizes:\n",
    "        result = benchmark(model, X, y, n)\n",
    "        table.append({'Model': name, \n",
    "                      'accuracy': np.mean(result['accuracy']),\n",
    "                      'precision': np.mean(result['precision']),\n",
    "                      'recall': np.mean(result['recall']),\n",
    "                      'f1': np.mean(result['f1']),\n",
    "                      #'confusion': np.mean(result['confusion'], axis=0),\n",
    "                      'train_size': n})\n",
    "        print name,'-',n\n"
   ]
  },
  {
   "cell_type": "code",
   "execution_count": 74,
   "metadata": {},
   "outputs": [
    {
     "name": "stdout",
     "output_type": "stream",
     "text": [
      "(LinearSVC(C=1.0, class_weight=None, dual=True, fit_intercept=True,\n",
      "     intercept_scaling=1, loss='squared_hinge', max_iter=1000,\n",
      "     multi_class='ovr', penalty='l2', random_state=None, tol=0.0001,\n",
      "     verbose=0), CountVectorizer(analyzer=<function <lambda> at 0x000000004D631588>,\n",
      "        binary=False, decode_error=u'strict', dtype=<type 'numpy.int64'>,\n",
      "        encoding=u'utf-8', input=u'content', lowercase=True, max_df=1.0,\n",
      "        max_features=None, min_df=1, ngram_range=(1, 1), preprocessor=None,\n",
      "        stop_words=None, strip_accents=None,\n",
      "        token_pattern=u'(?u)\\\\b\\\\w+\\\\b', tokenizer=None, vocabulary=None))\n"
     ]
    }
   ],
   "source": [
    "print classifiers[lbs[0]]"
   ]
  },
  {
   "cell_type": "code",
   "execution_count": 108,
   "metadata": {},
   "outputs": [
    {
     "ename": "ValueError",
     "evalue": "The train_size = 5 should be greater or equal to the number of classes = 6",
     "output_type": "error",
     "traceback": [
      "\u001b[1;31m---------------------------------------------------------------------------\u001b[0m",
      "\u001b[1;31mValueError\u001b[0m                                Traceback (most recent call last)",
      "\u001b[1;32m<ipython-input-108-8d04f9b0f301>\u001b[0m in \u001b[0;36m<module>\u001b[1;34m()\u001b[0m\n\u001b[0;32m      1\u001b[0m \u001b[1;32mfor\u001b[0m \u001b[0mname\u001b[0m \u001b[1;32min\u001b[0m \u001b[0mlbs\u001b[0m\u001b[1;33m:\u001b[0m\u001b[1;33m\u001b[0m\u001b[0m\n\u001b[0;32m      2\u001b[0m     \u001b[0mmodel\u001b[0m \u001b[1;33m=\u001b[0m \u001b[0mPipeline\u001b[0m\u001b[1;33m(\u001b[0m\u001b[1;33m[\u001b[0m\u001b[1;33m(\u001b[0m\u001b[1;34m\"vector_model\"\u001b[0m\u001b[1;33m,\u001b[0m \u001b[0mclassifiers\u001b[0m\u001b[1;33m[\u001b[0m\u001b[0mname\u001b[0m\u001b[1;33m]\u001b[0m\u001b[1;33m[\u001b[0m\u001b[1;36m1\u001b[0m\u001b[1;33m]\u001b[0m\u001b[1;33m)\u001b[0m\u001b[1;33m,\u001b[0m \u001b[1;33m(\u001b[0m\u001b[1;34m\"classifer\"\u001b[0m\u001b[1;33m,\u001b[0m \u001b[0mclassifiers\u001b[0m\u001b[1;33m[\u001b[0m\u001b[0mname\u001b[0m\u001b[1;33m]\u001b[0m\u001b[1;33m[\u001b[0m\u001b[1;36m0\u001b[0m\u001b[1;33m]\u001b[0m\u001b[1;33m)\u001b[0m\u001b[1;33m]\u001b[0m\u001b[1;33m)\u001b[0m\u001b[1;33m\u001b[0m\u001b[0m\n\u001b[1;32m----> 3\u001b[1;33m     \u001b[0mtest_model\u001b[0m\u001b[1;33m(\u001b[0m\u001b[0mmodel\u001b[0m\u001b[1;33m,\u001b[0m \u001b[0mname\u001b[0m\u001b[1;33m)\u001b[0m\u001b[1;33m\u001b[0m\u001b[0m\n\u001b[0m",
      "\u001b[1;32m<ipython-input-106-e9ce0a519f9d>\u001b[0m in \u001b[0;36mtest_model\u001b[1;34m(model, name)\u001b[0m\n\u001b[0;32m     23\u001b[0m \u001b[1;32mdef\u001b[0m \u001b[0mtest_model\u001b[0m\u001b[1;33m(\u001b[0m\u001b[0mmodel\u001b[0m\u001b[1;33m,\u001b[0m \u001b[0mname\u001b[0m\u001b[1;33m)\u001b[0m\u001b[1;33m:\u001b[0m\u001b[1;33m\u001b[0m\u001b[0m\n\u001b[0;32m     24\u001b[0m     \u001b[1;32mfor\u001b[0m \u001b[0mn\u001b[0m \u001b[1;32min\u001b[0m \u001b[0mtrain_sizes\u001b[0m\u001b[1;33m:\u001b[0m\u001b[1;33m\u001b[0m\u001b[0m\n\u001b[1;32m---> 25\u001b[1;33m         \u001b[0mresult\u001b[0m \u001b[1;33m=\u001b[0m \u001b[0mbenchmark\u001b[0m\u001b[1;33m(\u001b[0m\u001b[0mmodel\u001b[0m\u001b[1;33m,\u001b[0m \u001b[0mX\u001b[0m\u001b[1;33m,\u001b[0m \u001b[0my\u001b[0m\u001b[1;33m,\u001b[0m \u001b[0mn\u001b[0m\u001b[1;33m)\u001b[0m\u001b[1;33m\u001b[0m\u001b[0m\n\u001b[0m\u001b[0;32m     26\u001b[0m         table.append({'Model': name, \n\u001b[0;32m     27\u001b[0m                       \u001b[1;34m'accuracy'\u001b[0m\u001b[1;33m:\u001b[0m \u001b[0mnp\u001b[0m\u001b[1;33m.\u001b[0m\u001b[0mmean\u001b[0m\u001b[1;33m(\u001b[0m\u001b[0mresult\u001b[0m\u001b[1;33m[\u001b[0m\u001b[1;34m'accuracy'\u001b[0m\u001b[1;33m]\u001b[0m\u001b[1;33m)\u001b[0m\u001b[1;33m,\u001b[0m\u001b[1;33m\u001b[0m\u001b[0m\n",
      "\u001b[1;32m<ipython-input-106-e9ce0a519f9d>\u001b[0m in \u001b[0;36mbenchmark\u001b[1;34m(model, X, y, n)\u001b[0m\n\u001b[0;32m      5\u001b[0m     \u001b[0mtest_size\u001b[0m \u001b[1;33m=\u001b[0m \u001b[1;36m1\u001b[0m \u001b[1;33m-\u001b[0m \u001b[1;33m(\u001b[0m\u001b[0mn\u001b[0m \u001b[1;33m/\u001b[0m \u001b[0mfloat\u001b[0m\u001b[1;33m(\u001b[0m\u001b[0mlen\u001b[0m\u001b[1;33m(\u001b[0m\u001b[0my\u001b[0m\u001b[1;33m)\u001b[0m\u001b[1;33m)\u001b[0m\u001b[1;33m)\u001b[0m\u001b[1;33m\u001b[0m\u001b[0m\n\u001b[0;32m      6\u001b[0m     \u001b[0mscores\u001b[0m \u001b[1;33m=\u001b[0m \u001b[1;33m{\u001b[0m\u001b[1;33m}\u001b[0m\u001b[1;33m\u001b[0m\u001b[0m\n\u001b[1;32m----> 7\u001b[1;33m     \u001b[1;32mfor\u001b[0m \u001b[0mtrain\u001b[0m\u001b[1;33m,\u001b[0m \u001b[0mtest\u001b[0m \u001b[1;32min\u001b[0m \u001b[0mStratifiedShuffleSplit\u001b[0m\u001b[1;33m(\u001b[0m\u001b[0my\u001b[0m\u001b[1;33m,\u001b[0m \u001b[0mn_iter\u001b[0m\u001b[1;33m=\u001b[0m\u001b[1;36m5\u001b[0m\u001b[1;33m,\u001b[0m \u001b[0mtest_size\u001b[0m\u001b[1;33m=\u001b[0m\u001b[0mtest_size\u001b[0m\u001b[1;33m,\u001b[0m \u001b[0mrandom_state\u001b[0m\u001b[1;33m=\u001b[0m\u001b[1;36m0\u001b[0m\u001b[1;33m)\u001b[0m\u001b[1;33m:\u001b[0m\u001b[1;33m\u001b[0m\u001b[0m\n\u001b[0m\u001b[0;32m      8\u001b[0m         \u001b[0mX_train\u001b[0m\u001b[1;33m,\u001b[0m \u001b[0mX_test\u001b[0m \u001b[1;33m=\u001b[0m \u001b[0mX\u001b[0m\u001b[1;33m[\u001b[0m\u001b[0mtrain\u001b[0m\u001b[1;33m]\u001b[0m\u001b[1;33m,\u001b[0m \u001b[0mX\u001b[0m\u001b[1;33m[\u001b[0m\u001b[0mtest\u001b[0m\u001b[1;33m]\u001b[0m\u001b[1;33m\u001b[0m\u001b[0m\n\u001b[0;32m      9\u001b[0m         \u001b[0my_train\u001b[0m\u001b[1;33m,\u001b[0m \u001b[0my_test\u001b[0m \u001b[1;33m=\u001b[0m \u001b[0my\u001b[0m\u001b[1;33m[\u001b[0m\u001b[0mtrain\u001b[0m\u001b[1;33m]\u001b[0m\u001b[1;33m,\u001b[0m \u001b[0my\u001b[0m\u001b[1;33m[\u001b[0m\u001b[0mtest\u001b[0m\u001b[1;33m]\u001b[0m\u001b[1;33m\u001b[0m\u001b[0m\n",
      "\u001b[1;32mC:\\ProgramData\\Anaconda2\\lib\\site-packages\\sklearn\\cross_validation.py\u001b[0m in \u001b[0;36m__init__\u001b[1;34m(self, y, n_iter, test_size, train_size, random_state)\u001b[0m\n\u001b[0;32m   1080\u001b[0m             raise ValueError('The train_size = %d should be greater or '\n\u001b[0;32m   1081\u001b[0m                              \u001b[1;34m'equal to the number of classes = %d'\u001b[0m \u001b[1;33m%\u001b[0m\u001b[1;33m\u001b[0m\u001b[0m\n\u001b[1;32m-> 1082\u001b[1;33m                              (self.n_train, n_cls))\n\u001b[0m\u001b[0;32m   1083\u001b[0m         \u001b[1;32mif\u001b[0m \u001b[0mself\u001b[0m\u001b[1;33m.\u001b[0m\u001b[0mn_test\u001b[0m \u001b[1;33m<\u001b[0m \u001b[0mn_cls\u001b[0m\u001b[1;33m:\u001b[0m\u001b[1;33m\u001b[0m\u001b[0m\n\u001b[0;32m   1084\u001b[0m             raise ValueError('The test_size = %d should be greater or '\n",
      "\u001b[1;31mValueError\u001b[0m: The train_size = 5 should be greater or equal to the number of classes = 6"
     ]
    }
   ],
   "source": [
    "for name in lbs:\n",
    "    model = Pipeline([(\"vector_model\", classifiers[name][1]), (\"classifer\", classifiers[name][0])])\n",
    "    test_model(model, name)"
   ]
  },
  {
   "cell_type": "code",
   "execution_count": 124,
   "metadata": {},
   "outputs": [
    {
     "name": "stdout",
     "output_type": "stream",
     "text": [
      "BoW_WF - 80\n",
      "BoW_TFIDF - 80\n",
      "BoW_WF - 160\n",
      "BoW_TFIDF - 160\n",
      "BoW_WF - 240\n",
      "BoW_TFIDF - 240\n",
      "BoW_WF - 320\n",
      "BoW_TFIDF - 320\n",
      "BoW_WF - 400\n",
      "BoW_TFIDF - 400\n",
      "BoW_WF - 480\n",
      "BoW_TFIDF - 480\n",
      "BoW_WF - 560\n",
      "BoW_TFIDF - 560\n",
      "BoW_WF - 640\n",
      "BoW_TFIDF - 640\n",
      "BoW_WF - 720\n",
      "BoW_TFIDF - 720\n",
      "W2V - 80\n",
      "BoW_WF - 800\n",
      "BoW_TFIDF - 800\n",
      "BoW_WF - 880\n",
      "BoW_TFIDF - 880\n",
      "BoW_WF - 960\n",
      "BoW_TFIDF - 960\n",
      "BoW_TFIDF - 1040\n",
      "BoW_WF - 1040\n",
      "BoW_TFIDF - 1120\n",
      "BoW_WF - 1120\n",
      "BoW_TFIDF - 1200\n",
      "BoW_WF - 1200\n",
      "BoW_TFIDF - 1280\n",
      "BoW_WF - 1280\n",
      "BoW_TFIDF - 1360\n",
      "BoW_WF - 1360\n",
      "BoW_TFIDF - 1440\n",
      "W2V - 160\n",
      "BoW_WF - 1440\n",
      "BoW_TFIDF - 1520\n",
      "BoW_WF - 1520\n",
      "BoW_TFIDF - 1600\n",
      "BoW_WF - 1600\n",
      "BoW_TFIDF - 1680\n",
      "BoW_WF - 1680\n",
      "BoW_TFIDF - 1760\n",
      "BoW_WF - 1760\n",
      "BoW_TFIDF - 1840\n",
      "BoW_WF - 1840\n",
      "BoW_WF_W2V - 80\n",
      "BoW_TFIDF - 1920\n",
      "BoW_WF - 1920\n",
      "BoW_TFIDF - 2000\n",
      "BoW_WF - 2000\n",
      "BoW_TFIDF - 2080\n",
      "W2V - 240\n",
      "BoW_WF - 2080\n",
      "BoW_TFIDF - 2160\n",
      "BoW_TFIDF - 2240\n",
      "BoW_WF - 2160\n",
      "BoW_TFIDF - 2320\n",
      "BoW_WF - 2240\n",
      "BoW_TFIDF - 2400\n",
      "BoW_WF - 2320\n",
      "BoW_TFIDF - 2480\n",
      "BoW_WF - 2400\n",
      "BoW_WF - 2480\n",
      "W2V - 320\n",
      "BoW_TFIDF_W2V - 80\n",
      "W2V - 400\n",
      "BoW_WF_W2V - 160\n",
      "W2V - 480\n",
      "W2V - 560\n",
      "BoW_WF_W2V - 240\n",
      "W2V - 640\n",
      "BoW_TFIDF_W2V - 160\n",
      "W2V - 720\n",
      "W2V - 800\n",
      "BoW_WF_W2V - 320\n",
      "W2V - 880\n",
      "W2V - 960\n",
      "W2V - 1040\n",
      "BoW_TFIDF_W2V - 240\n",
      "BoW_WF_W2V - 400\n",
      "W2V - 1120\n",
      "W2V - 1200\n",
      "BoW_WF_W2V - 480\n",
      "W2V - 1280\n",
      "W2V - 1360\n",
      "BoW_TFIDF_W2V - 320\n",
      "W2V - 1440\n",
      "BoW_WF_W2V - 560\n",
      "W2V - 1520\n",
      "W2V - 1600\n",
      "BoW_WF_W2V - 640\n",
      "W2V - 1680\n",
      "BoW_TFIDF_W2V - 400\n",
      "W2V - 1760\n",
      "W2V - 1840\n",
      "BoW_WF_W2V - 720\n",
      "W2V - 1920\n",
      "W2V - 2000\n",
      "BoW_TFIDF_W2V - 480\n",
      "BoW_WF_W2V - 800\n",
      "W2V - 2080\n",
      "W2V - 2160\n",
      "BoW_WF_W2V - 880\n",
      "W2V - 2240\n",
      "BoW_TFIDF_W2V - 560\n",
      "W2V - 2320\n",
      "W2V - 2400\n",
      "BoW_WF_W2V - 960\n",
      "W2V - 2480\n",
      "BoW_TFIDF_W2V - 640\n",
      "BoW_WF_W2V - 1040\n",
      "BoW_WF_W2V - 1120\n",
      "BoW_TFIDF_W2V - 720\n",
      "BoW_WF_W2V - 1200\n",
      "BoW_TFIDF_W2V - 800\n",
      "BoW_WF_W2V - 1280\n",
      "BoW_TFIDF_W2V - 880\n",
      "BoW_WF_W2V - 1360\n",
      "BoW_WF_W2V - 1440\n",
      "BoW_TFIDF_W2V - 960\n",
      "BoW_WF_W2V - 1520\n",
      "BoW_TFIDF_W2V - 1040\n",
      "BoW_WF_W2V - 1600\n",
      "BoW_TFIDF_W2V - 1120\n",
      "BoW_WF_W2V - 1680\n",
      "BoW_TFIDF_W2V - 1200\n",
      "BoW_WF_W2V - 1760\n",
      "BoW_WF_W2V - 1840\n",
      "BoW_TFIDF_W2V - 1280\n",
      "BoW_WF_W2V - 1920\n",
      "BoW_TFIDF_W2V - 1360\n",
      "BoW_WF_W2V - 2000\n",
      "BoW_TFIDF_W2V - 1440\n",
      "BoW_WF_W2V - 2080\n",
      "BoW_TFIDF_W2V - 1520\n",
      "BoW_WF_W2V - 2160\n",
      "BoW_TFIDF_W2V - 1600\n",
      "BoW_WF_W2V - 2240\n",
      "BoW_TFIDF_W2V - 1680\n",
      "BoW_WF_W2V - 2320\n",
      "BoW_WF_W2V - 2400\n",
      "BoW_TFIDF_W2V - 1760\n",
      "BoW_WF_W2V - 2480\n",
      "BoW_TFIDF_W2V - 1840\n",
      "BoW_TFIDF_W2V - 1920\n",
      "BoW_TFIDF_W2V - 2000\n",
      "BoW_TFIDF_W2V - 2080\n",
      "BoW_TFIDF_W2V - 2160\n",
      "BoW_TFIDF_W2V - 2240\n",
      "BoW_TFIDF_W2V - 2320\n",
      "BoW_TFIDF_W2V - 2400\n",
      "BoW_TFIDF_W2V - 2480\n"
     ]
    }
   ],
   "source": [
    "import thread\n",
    "        \n",
    "for name in classifiers:\n",
    "    model = Pipeline([(\"vector_model\", classifiers[name][1]), (\"classifer\", classifiers[name][0])])\n",
    "    thread.start_new_thread(test_model, (model, name, ))"
   ]
  },
  {
   "cell_type": "code",
   "execution_count": 125,
   "metadata": {},
   "outputs": [
    {
     "data": {
      "text/plain": [
       "[<matplotlib.text.Text at 0x514a9518>]"
      ]
     },
     "execution_count": 125,
     "metadata": {},
     "output_type": "execute_result"
    },
    {
     "data": {
      "image/png": "[encoded data removed]",
      "text/plain": [
       "<matplotlib.figure.Figure at 0x629c3fd0>"
      ]
     },
     "metadata": {},
     "output_type": "display_data"
    }
   ],
   "source": [
    "import pandas as pd\n",
    "import seaborn as sns\n",
    "%matplotlib inline\n",
    "import matplotlib.pyplot as plt\n",
    "\n",
    "names = lbs\n",
    "df = pd.DataFrame(table)\n",
    "\n",
    "aux = df[df.Model.map(lambda x: x in names)]\n",
    "\n",
    "sorterIndex = dict(zip(lbs,range(len(lbs))))\n",
    "aux['models_sort'] = aux['Model'].map(sorterIndex)\n",
    "aux.sort_values(['Model'], \\\n",
    "        ascending = [1], inplace = True)\n",
    "aux.drop('models_sort', 1, inplace = True)\n",
    "\n",
    "\n",
    "col_list = [\"black\", \"black\", \"black\", \"black\", \"black\"]\n",
    "col_list_palette = sns.xkcd_palette(col_list)\n",
    "#sns.set_palette(col_list_palette)\n",
    "sns.set_palette(sns.color_palette(\"muted\", 5))\n",
    "\n",
    "\n",
    "#df = df.drop('accuracy', 1).drop('precision', 1).drop('recall', 1).drop('train_size', 1)\n",
    "\n",
    "plt.figure(figsize=(12, 6))\n",
    "\n",
    "fig = sns.pointplot(x='train_size', y='f1', hue='Model', \n",
    "                    data=df[df.Model.map(lambda x: x in names)],\n",
    "                    markers=['o',7,'p','s','x'],lineheight=1)\n",
    "\n",
    "for ind, label in enumerate(fig.get_xticklabels()):\n",
    "    if ind == 0 or ind == 7 or ind == 15 or ind == 23 or ind == 30:\n",
    "        label.set_visible(True)\n",
    "    else:\n",
    "        label.set_visible(False)\n",
    "plt.setp(fig.lines,linewidth=1.5)\n",
    "sns.set_context(\"notebook\", font_scale=1.5)\n",
    "fig.set(ylabel=\"f1\")\n",
    "fig.set(xlabel=\"Size of the training sample\")\n",
    "fig.set(ylabel=\"F1-Score\")"
   ]
  },
  {
   "cell_type": "code",
   "execution_count": 126,
   "metadata": {},
   "outputs": [
    {
     "name": "stdout",
     "output_type": "stream",
     "text": [
      "\n",
      "\n",
      "BoW_WF:\n",
      "\n",
      "Recall:  0.8945\n",
      "F1:  0.8945\n",
      "Accuracy:  0.8988\n",
      "\n",
      "\n",
      "BoW_TFIDF:\n",
      "\n",
      "Recall:  0.9008\n",
      "F1:  0.8978\n",
      "Accuracy:  0.9008\n",
      "\n",
      "\n",
      "W2V:\n",
      "\n",
      "Recall:  0.8442\n",
      "F1:  0.8442\n",
      "Accuracy:  0.8522\n",
      "\n",
      "\n",
      "BoW_WF_W2V:\n",
      "\n",
      "Recall:  0.9081\n",
      "F1:  0.9097\n",
      "Accuracy:  0.915\n",
      "\n",
      "\n",
      "BoW_TFIDF_W2V:\n",
      "\n",
      "Recall:  0.9035\n",
      "F1:  0.8975\n",
      "Accuracy:  0.8968\n"
     ]
    }
   ],
   "source": [
    "def print_scores(model):\n",
    "    last = {}\n",
    "    for t in table:\n",
    "        if t['Model'] == model:\n",
    "            last['precision'] = t['precision']\n",
    "            last['recall'] = t['recall']\n",
    "            last['f1'] = t['f1']\n",
    "            last['accuracy'] = t['accuracy']\n",
    "    #print 'Precision: ', round(last['precision'],4)\n",
    "    print 'Recall: ', round(last['recall'],4)\n",
    "    print 'F1: ', round(last['f1'],4)\n",
    "    print 'Accuracy: ', round(last['accuracy'],4)\n",
    "\n",
    "print '\\n\\n'+lbs[0]+':\\n'\n",
    "print_scores(lbs[0])\n",
    "print '\\n\\n'+lbs[1]+':\\n'\n",
    "print_scores(lbs[1])\n",
    "print '\\n\\n'+lbs[2]+':\\n'\n",
    "print_scores(lbs[2])\n",
    "print '\\n\\n'+lbs[3]+':\\n'\n",
    "print_scores(lbs[3])\n",
    "print '\\n\\n'+lbs[4]+':\\n'\n",
    "print_scores(lbs[4])\n"
   ]
  },
  {
   "cell_type": "code",
   "execution_count": 128,
   "metadata": {},
   "outputs": [
    {
     "data": {
      "text/plain": [
       "Ttest_indResult(statistic=-2.4260529765651637, pvalue=0.018287314014113029)"
      ]
     },
     "execution_count": 128,
     "metadata": {},
     "output_type": "execute_result"
    }
   ],
   "source": [
    "import scipy\n",
    "\n",
    "a = []\n",
    "b = []\n",
    "\n",
    "for t in table:\n",
    "    if t['Model'] == lbs[1]:\n",
    "        a.append(t['f1'])\n",
    "    if t['Model'] == lbs[3]:\n",
    "        b.append(t['f1'])\n",
    "\n",
    "scipy.stats.ttest_ind(a, b)"
   ]
  }
 ],
 "metadata": {
  "kernelspec": {
   "display_name": "Python 2",
   "language": "python",
   "name": "python2"
  },
  "language_info": {
   "codemirror_mode": {
    "name": "ipython",
    "version": 2
   },
   "file_extension": ".py",
   "mimetype": "text/x-python",
   "name": "python",
   "nbconvert_exporter": "python",
   "pygments_lexer": "ipython2",
   "version": "2.7.13"
  }
 },
 "nbformat": 4,
 "nbformat_minor": 2
}
