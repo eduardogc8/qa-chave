{
 "cells": [
  {
   "cell_type": "markdown",
   "metadata": {},
   "source": [
    "### Obeter question do dataset"
   ]
  },
  {
   "cell_type": "code",
   "execution_count": 136,
   "metadata": {},
   "outputs": [
    {
     "name": "stdout",
     "output_type": "stream",
     "text": [
      "4376\n"
     ]
    }
   ],
   "source": [
    "import manager_dataset as MD\n",
    "\n",
    "\n",
    "questions = MD.questions(treated=True)\n",
    "print(len(questions))"
   ]
  },
  {
   "cell_type": "markdown",
   "metadata": {},
   "source": [
    "### Configurar classificadores de pergunta"
   ]
  },
  {
   "cell_type": "code",
   "execution_count": 137,
   "metadata": {},
   "outputs": [
    {
     "name": "stdout",
     "output_type": "stream",
     "text": [
      "2349\n",
      "Train: 1705 Test: 644\n"
     ]
    }
   ],
   "source": [
    "import question_processing as QP\n",
    "\n",
    "\n",
    "incosiderate_classes = ['X', 'MANNER', 'OBJECT', 'OTHER', 'DEFINITION']\n",
    "questions = QP.remove_incosiderate_classes(questions, incosiderate_classes)  # Question with incosiderate class is removed\n",
    "print(len(questions))\n",
    "train_questions, test_questions = MD.split_questions(questions)\n",
    "print('Train:', len(train_questions), 'Test:',len(test_questions))"
   ]
  },
  {
   "cell_type": "markdown",
   "metadata": {},
   "source": [
    "#### Carregar modelo W2V"
   ]
  },
  {
   "cell_type": "code",
   "execution_count": 131,
   "metadata": {},
   "outputs": [
    {
     "name": "stdout",
     "output_type": "stream",
     "text": [
      "Wall time: 4min 16s\n"
     ]
    }
   ],
   "source": [
    "%%time\n",
    "from gensim.models import KeyedVectors\n",
    "\n",
    "w2v_patch = 'data/word_embedding/cbow_s300.txt'\n",
    "#w2v_patch = 'data/word_embedding/cbow_s50.txt'  # Fast test\n",
    "w2v = KeyedVectors.load_word2vec_format(w2v_patch, unicode_errors=\"ignore\")\n",
    "model_w2v = {w: vec for w, vec in zip(w2v.index2word, w2v.syn0)}"
   ]
  },
  {
   "cell_type": "markdown",
   "metadata": {},
   "source": [
    "#### Definir classificadores"
   ]
  },
  {
   "cell_type": "code",
   "execution_count": 138,
   "metadata": {},
   "outputs": [],
   "source": [
    "from sklearn.svm import LinearSVC\n",
    "\n",
    "\n",
    "labels = [\"BoW_WF\", \n",
    "          \"BoW_TFIDF\", \n",
    "          \"W2V\",\n",
    "          \"HYBRID_WF\",\n",
    "          \"HYBRID_TFIDF\"]\n",
    "\n",
    "#labels = [\"BoW_WF\", \"HYBRID_WF\"]\n",
    "\n",
    "classifiers = {}  # {'classifier': (VectorizeModel, Classifier)}\n",
    "\n",
    "\n",
    "classifiers[labels[0]] = (LinearSVC(), QP.count_vectorizer())\n",
    "classifiers[labels[1]] = (LinearSVC(), QP.tfidf_vectorizer())\n",
    "classifiers[labels[2]] = (LinearSVC(), QP.MeanEmbeddingVectorizer(model_w2v))\n",
    "classifiers[labels[3]] = (LinearSVC(), QP.HybridVectorizer(model_w2v))\n",
    "classifiers[labels[4]] = (LinearSVC(), QP.TfidfHybridVectorizer(model_w2v))\n",
    "\n",
    "\n",
    "#classifiers[labels[0]] = (LinearSVC(), QP.count_vectorizer())\n",
    "#classifiers[labels[1]] = (LinearSVC(), QP.HybridVectorizer(model_w2v))"
   ]
  },
  {
   "cell_type": "markdown",
   "metadata": {},
   "source": [
    "### Carregar modelo de NER"
   ]
  },
  {
   "cell_type": "code",
   "execution_count": 25,
   "metadata": {
    "collapsed": true
   },
   "outputs": [],
   "source": [
    "import named_entity_recognition as NER\n",
    "import dill\n",
    "ner_model = dill.load(open(NER.file_ner, 'rb'))"
   ]
  },
  {
   "cell_type": "markdown",
   "metadata": {},
   "source": [
    "### Carregar modelo de IR"
   ]
  },
  {
   "cell_type": "code",
   "execution_count": 139,
   "metadata": {},
   "outputs": [
    {
     "name": "stdout",
     "output_type": "stream",
     "text": [
      "[ . . . . . . . . . . ]\n",
      "[ . . . . . . . . . . ]\n",
      "Wall time: 2min 36s\n"
     ]
    }
   ],
   "source": [
    "%%time\n",
    "import information_retrieval as IR\n",
    "ir = IR.InformationRetrieval()\n",
    "ir.start(reset=False)\n",
    "QP.queryFormulation(test_questions)\n",
    "ir.retrievalDocuments(test_questions)\n",
    "IR.retrievalPassagesQuestions(test_questions, model_ner, ir, answer_type=False)"
   ]
  },
  {
   "cell_type": "markdown",
   "metadata": {},
   "source": [
    "### Realizar Testes"
   ]
  },
  {
   "cell_type": "code",
   "execution_count": 140,
   "metadata": {
    "collapsed": true
   },
   "outputs": [],
   "source": [
    "import numpy as np\n",
    "\n",
    "X, y = QP.separete_questions(train_questions)\n",
    "X = np.array(X)\n",
    "y = np.array(y)"
   ]
  },
  {
   "cell_type": "code",
   "execution_count": 141,
   "metadata": {
    "scrolled": true
   },
   "outputs": [
    {
     "name": "stdout",
     "output_type": "stream",
     "text": [
      "BoW_WF\n",
      "80 1624\n"
     ]
    },
    {
     "name": "stderr",
     "output_type": "stream",
     "text": [
      "C:\\ProgramData\\Anaconda3\\lib\\site-packages\\sklearn\\model_selection\\_split.py:1639: FutureWarning: From version 0.21, test_size will always complement train_size unless both are specified.\n",
      "  FutureWarning)\n"
     ]
    },
    {
     "name": "stdout",
     "output_type": "stream",
     "text": [
      "[ . . . . . . . . . . ]\n",
      "[ . . . . . . . . . . ]\n",
      "160 1544\n"
     ]
    },
    {
     "name": "stderr",
     "output_type": "stream",
     "text": [
      "C:\\ProgramData\\Anaconda3\\lib\\site-packages\\sklearn\\model_selection\\_split.py:1639: FutureWarning: From version 0.21, test_size will always complement train_size unless both are specified.\n",
      "  FutureWarning)\n"
     ]
    },
    {
     "name": "stdout",
     "output_type": "stream",
     "text": [
      "[ . . . . . . . . . . ]\n",
      "[ . . . . . . . . . . ]\n",
      "240 1464\n"
     ]
    },
    {
     "name": "stderr",
     "output_type": "stream",
     "text": [
      "C:\\ProgramData\\Anaconda3\\lib\\site-packages\\sklearn\\model_selection\\_split.py:1639: FutureWarning: From version 0.21, test_size will always complement train_size unless both are specified.\n",
      "  FutureWarning)\n"
     ]
    },
    {
     "name": "stdout",
     "output_type": "stream",
     "text": [
      "[ . . . . . . . . . . ]\n",
      "[ . . . . . . . . . . ]\n",
      "320 1384\n"
     ]
    },
    {
     "name": "stderr",
     "output_type": "stream",
     "text": [
      "C:\\ProgramData\\Anaconda3\\lib\\site-packages\\sklearn\\model_selection\\_split.py:1639: FutureWarning: From version 0.21, test_size will always complement train_size unless both are specified.\n",
      "  FutureWarning)\n"
     ]
    },
    {
     "name": "stdout",
     "output_type": "stream",
     "text": [
      "[ . . . . . . . . . . ]\n",
      "[ . . . . . . . . . . ]\n",
      "400 1304\n"
     ]
    },
    {
     "name": "stderr",
     "output_type": "stream",
     "text": [
      "C:\\ProgramData\\Anaconda3\\lib\\site-packages\\sklearn\\model_selection\\_split.py:1639: FutureWarning: From version 0.21, test_size will always complement train_size unless both are specified.\n",
      "  FutureWarning)\n"
     ]
    },
    {
     "name": "stdout",
     "output_type": "stream",
     "text": [
      "[ . . . . . . . . . . ]\n",
      "[ . . . . . . . . . . ]\n",
      "480 1224\n"
     ]
    },
    {
     "name": "stderr",
     "output_type": "stream",
     "text": [
      "C:\\ProgramData\\Anaconda3\\lib\\site-packages\\sklearn\\model_selection\\_split.py:1639: FutureWarning: From version 0.21, test_size will always complement train_size unless both are specified.\n",
      "  FutureWarning)\n"
     ]
    },
    {
     "name": "stdout",
     "output_type": "stream",
     "text": [
      "[ . . . . . . . . . . ]\n",
      "[ . . . . . . . . . . ]\n",
      "640 1064\n"
     ]
    },
    {
     "name": "stderr",
     "output_type": "stream",
     "text": [
      "C:\\ProgramData\\Anaconda3\\lib\\site-packages\\sklearn\\model_selection\\_split.py:1639: FutureWarning: From version 0.21, test_size will always complement train_size unless both are specified.\n",
      "  FutureWarning)\n"
     ]
    },
    {
     "name": "stdout",
     "output_type": "stream",
     "text": [
      "[ . . . . . . . . . . ]\n",
      "[ . . . . . . . . . . ]\n",
      "880 824\n"
     ]
    },
    {
     "name": "stderr",
     "output_type": "stream",
     "text": [
      "C:\\ProgramData\\Anaconda3\\lib\\site-packages\\sklearn\\model_selection\\_split.py:1639: FutureWarning: From version 0.21, test_size will always complement train_size unless both are specified.\n",
      "  FutureWarning)\n"
     ]
    },
    {
     "name": "stdout",
     "output_type": "stream",
     "text": [
      "[ . . . . . . . . . . ]\n",
      "[ . . . . . . . . . . ]\n",
      "1000 704\n"
     ]
    },
    {
     "name": "stderr",
     "output_type": "stream",
     "text": [
      "C:\\ProgramData\\Anaconda3\\lib\\site-packages\\sklearn\\model_selection\\_split.py:1639: FutureWarning: From version 0.21, test_size will always complement train_size unless both are specified.\n",
      "  FutureWarning)\n"
     ]
    },
    {
     "name": "stdout",
     "output_type": "stream",
     "text": [
      "[ . . . . . . . . . . ]\n",
      "[ . . . . . . . . . . ]\n",
      "1280 424\n"
     ]
    },
    {
     "name": "stderr",
     "output_type": "stream",
     "text": [
      "C:\\ProgramData\\Anaconda3\\lib\\site-packages\\sklearn\\model_selection\\_split.py:1639: FutureWarning: From version 0.21, test_size will always complement train_size unless both are specified.\n",
      "  FutureWarning)\n"
     ]
    },
    {
     "name": "stdout",
     "output_type": "stream",
     "text": [
      "[ . . . . . . . . . . ]\n",
      "[ . . . . . . . . . . ]\n",
      "1500 204\n"
     ]
    },
    {
     "name": "stderr",
     "output_type": "stream",
     "text": [
      "C:\\ProgramData\\Anaconda3\\lib\\site-packages\\sklearn\\model_selection\\_split.py:1639: FutureWarning: From version 0.21, test_size will always complement train_size unless both are specified.\n",
      "  FutureWarning)\n"
     ]
    },
    {
     "name": "stdout",
     "output_type": "stream",
     "text": [
      "[ . . . . . . . . . . ]\n",
      "[ . . . . . . . . . . ]\n",
      "BoW_TFIDF\n",
      "80 1624\n"
     ]
    },
    {
     "name": "stderr",
     "output_type": "stream",
     "text": [
      "C:\\ProgramData\\Anaconda3\\lib\\site-packages\\sklearn\\model_selection\\_split.py:1639: FutureWarning: From version 0.21, test_size will always complement train_size unless both are specified.\n",
      "  FutureWarning)\n"
     ]
    },
    {
     "name": "stdout",
     "output_type": "stream",
     "text": [
      "[ . . . . . . . . . . ]\n",
      "[ . . . . . . . . . . ]\n",
      "160 1544\n"
     ]
    },
    {
     "name": "stderr",
     "output_type": "stream",
     "text": [
      "C:\\ProgramData\\Anaconda3\\lib\\site-packages\\sklearn\\model_selection\\_split.py:1639: FutureWarning: From version 0.21, test_size will always complement train_size unless both are specified.\n",
      "  FutureWarning)\n"
     ]
    },
    {
     "name": "stdout",
     "output_type": "stream",
     "text": [
      "[ . . . . . . . . . . ]\n",
      "[ . . . . . . . . . . ]\n",
      "240 1464\n"
     ]
    },
    {
     "name": "stderr",
     "output_type": "stream",
     "text": [
      "C:\\ProgramData\\Anaconda3\\lib\\site-packages\\sklearn\\model_selection\\_split.py:1639: FutureWarning: From version 0.21, test_size will always complement train_size unless both are specified.\n",
      "  FutureWarning)\n"
     ]
    },
    {
     "name": "stdout",
     "output_type": "stream",
     "text": [
      "[ . . . . . . . . . . ]\n",
      "[ . . . . . . . . . . ]\n",
      "320 1384\n"
     ]
    },
    {
     "name": "stderr",
     "output_type": "stream",
     "text": [
      "C:\\ProgramData\\Anaconda3\\lib\\site-packages\\sklearn\\model_selection\\_split.py:1639: FutureWarning: From version 0.21, test_size will always complement train_size unless both are specified.\n",
      "  FutureWarning)\n"
     ]
    },
    {
     "name": "stdout",
     "output_type": "stream",
     "text": [
      "[ . . . . . . . . . . ]\n",
      "[ . . . . . . . . . . ]\n",
      "400 1304\n"
     ]
    },
    {
     "name": "stderr",
     "output_type": "stream",
     "text": [
      "C:\\ProgramData\\Anaconda3\\lib\\site-packages\\sklearn\\model_selection\\_split.py:1639: FutureWarning: From version 0.21, test_size will always complement train_size unless both are specified.\n",
      "  FutureWarning)\n"
     ]
    },
    {
     "name": "stdout",
     "output_type": "stream",
     "text": [
      "[ . . . . . . . . . . ]\n",
      "[ . . . . . . . . . . ]\n",
      "480 1224\n"
     ]
    },
    {
     "name": "stderr",
     "output_type": "stream",
     "text": [
      "C:\\ProgramData\\Anaconda3\\lib\\site-packages\\sklearn\\model_selection\\_split.py:1639: FutureWarning: From version 0.21, test_size will always complement train_size unless both are specified.\n",
      "  FutureWarning)\n"
     ]
    },
    {
     "name": "stdout",
     "output_type": "stream",
     "text": [
      "[ . . . . . . . . . . ]\n",
      "[ . . . . . . . . . . ]\n",
      "640 1064\n"
     ]
    },
    {
     "name": "stderr",
     "output_type": "stream",
     "text": [
      "C:\\ProgramData\\Anaconda3\\lib\\site-packages\\sklearn\\model_selection\\_split.py:1639: FutureWarning: From version 0.21, test_size will always complement train_size unless both are specified.\n",
      "  FutureWarning)\n"
     ]
    },
    {
     "name": "stdout",
     "output_type": "stream",
     "text": [
      "[ . . . . . . . . . . ]\n",
      "[ . . . . . . . . . . ]\n",
      "880 824\n"
     ]
    },
    {
     "name": "stderr",
     "output_type": "stream",
     "text": [
      "C:\\ProgramData\\Anaconda3\\lib\\site-packages\\sklearn\\model_selection\\_split.py:1639: FutureWarning: From version 0.21, test_size will always complement train_size unless both are specified.\n",
      "  FutureWarning)\n"
     ]
    },
    {
     "name": "stdout",
     "output_type": "stream",
     "text": [
      "[ . . . . . . . . . . ]\n",
      "[ . . . . . . . . . . ]\n",
      "1000 704\n"
     ]
    },
    {
     "name": "stderr",
     "output_type": "stream",
     "text": [
      "C:\\ProgramData\\Anaconda3\\lib\\site-packages\\sklearn\\model_selection\\_split.py:1639: FutureWarning: From version 0.21, test_size will always complement train_size unless both are specified.\n",
      "  FutureWarning)\n"
     ]
    },
    {
     "name": "stdout",
     "output_type": "stream",
     "text": [
      "[ . . . . . . . . . . ]\n",
      "[ . . . . . . . . . . ]\n",
      "1280 424\n"
     ]
    },
    {
     "name": "stderr",
     "output_type": "stream",
     "text": [
      "C:\\ProgramData\\Anaconda3\\lib\\site-packages\\sklearn\\model_selection\\_split.py:1639: FutureWarning: From version 0.21, test_size will always complement train_size unless both are specified.\n",
      "  FutureWarning)\n"
     ]
    },
    {
     "name": "stdout",
     "output_type": "stream",
     "text": [
      "[ . . . . . . . . . . ]\n",
      "[ . . . . . . . . . . ]\n",
      "1500 204\n"
     ]
    },
    {
     "name": "stderr",
     "output_type": "stream",
     "text": [
      "C:\\ProgramData\\Anaconda3\\lib\\site-packages\\sklearn\\model_selection\\_split.py:1639: FutureWarning: From version 0.21, test_size will always complement train_size unless both are specified.\n",
      "  FutureWarning)\n"
     ]
    },
    {
     "name": "stdout",
     "output_type": "stream",
     "text": [
      "[ . . . . . . . . . . ]\n",
      "[ . . . . . . . . . . ]\n",
      "W2V\n",
      "80 1624\n"
     ]
    },
    {
     "name": "stderr",
     "output_type": "stream",
     "text": [
      "C:\\ProgramData\\Anaconda3\\lib\\site-packages\\sklearn\\model_selection\\_split.py:1639: FutureWarning: From version 0.21, test_size will always complement train_size unless both are specified.\n",
      "  FutureWarning)\n"
     ]
    },
    {
     "name": "stdout",
     "output_type": "stream",
     "text": [
      "[ . . . . . . . . . . ]\n",
      "[ . . . . . . . . . . ]\n",
      "160 1544\n"
     ]
    },
    {
     "name": "stderr",
     "output_type": "stream",
     "text": [
      "C:\\ProgramData\\Anaconda3\\lib\\site-packages\\sklearn\\model_selection\\_split.py:1639: FutureWarning: From version 0.21, test_size will always complement train_size unless both are specified.\n",
      "  FutureWarning)\n"
     ]
    },
    {
     "name": "stdout",
     "output_type": "stream",
     "text": [
      "[ . . . . . . . . . . ]\n",
      "[ . . . . . . . . . . ]\n",
      "240 1464\n"
     ]
    },
    {
     "name": "stderr",
     "output_type": "stream",
     "text": [
      "C:\\ProgramData\\Anaconda3\\lib\\site-packages\\sklearn\\model_selection\\_split.py:1639: FutureWarning: From version 0.21, test_size will always complement train_size unless both are specified.\n",
      "  FutureWarning)\n"
     ]
    },
    {
     "name": "stdout",
     "output_type": "stream",
     "text": [
      "[ . . . . . . . . . . ]\n",
      "[ . . . . . . . . . . ]\n",
      "320 1384\n"
     ]
    },
    {
     "name": "stderr",
     "output_type": "stream",
     "text": [
      "C:\\ProgramData\\Anaconda3\\lib\\site-packages\\sklearn\\model_selection\\_split.py:1639: FutureWarning: From version 0.21, test_size will always complement train_size unless both are specified.\n",
      "  FutureWarning)\n"
     ]
    },
    {
     "name": "stdout",
     "output_type": "stream",
     "text": [
      "[ . . . . . . . . . . ]\n",
      "[ . . . . . . . . . . ]\n",
      "400 1304\n"
     ]
    },
    {
     "name": "stderr",
     "output_type": "stream",
     "text": [
      "C:\\ProgramData\\Anaconda3\\lib\\site-packages\\sklearn\\model_selection\\_split.py:1639: FutureWarning: From version 0.21, test_size will always complement train_size unless both are specified.\n",
      "  FutureWarning)\n"
     ]
    },
    {
     "name": "stdout",
     "output_type": "stream",
     "text": [
      "[ . . . . . . . . . . ]\n",
      "[ . . . . . . . . . . ]\n",
      "480 1224\n"
     ]
    },
    {
     "name": "stderr",
     "output_type": "stream",
     "text": [
      "C:\\ProgramData\\Anaconda3\\lib\\site-packages\\sklearn\\model_selection\\_split.py:1639: FutureWarning: From version 0.21, test_size will always complement train_size unless both are specified.\n",
      "  FutureWarning)\n"
     ]
    },
    {
     "name": "stdout",
     "output_type": "stream",
     "text": [
      "[ . . . . . . . . . . ]\n",
      "[ . . . . . . . . . . ]\n",
      "640 1064\n"
     ]
    },
    {
     "name": "stderr",
     "output_type": "stream",
     "text": [
      "C:\\ProgramData\\Anaconda3\\lib\\site-packages\\sklearn\\model_selection\\_split.py:1639: FutureWarning: From version 0.21, test_size will always complement train_size unless both are specified.\n",
      "  FutureWarning)\n"
     ]
    },
    {
     "name": "stdout",
     "output_type": "stream",
     "text": [
      "[ . . . . . . . . . . ]\n",
      "[ . . . . . . . . . . ]\n",
      "880 824\n"
     ]
    },
    {
     "name": "stderr",
     "output_type": "stream",
     "text": [
      "C:\\ProgramData\\Anaconda3\\lib\\site-packages\\sklearn\\model_selection\\_split.py:1639: FutureWarning: From version 0.21, test_size will always complement train_size unless both are specified.\n",
      "  FutureWarning)\n"
     ]
    },
    {
     "name": "stdout",
     "output_type": "stream",
     "text": [
      "[ . . . . . . . . . . ]\n",
      "[ . . . . . . . . . . ]\n",
      "1000 704\n"
     ]
    },
    {
     "name": "stderr",
     "output_type": "stream",
     "text": [
      "C:\\ProgramData\\Anaconda3\\lib\\site-packages\\sklearn\\model_selection\\_split.py:1639: FutureWarning: From version 0.21, test_size will always complement train_size unless both are specified.\n",
      "  FutureWarning)\n"
     ]
    },
    {
     "name": "stdout",
     "output_type": "stream",
     "text": [
      "[ . . . . . . . . . . ]\n",
      "[ . . . . . . . . . . ]\n",
      "1280 424\n"
     ]
    },
    {
     "name": "stderr",
     "output_type": "stream",
     "text": [
      "C:\\ProgramData\\Anaconda3\\lib\\site-packages\\sklearn\\model_selection\\_split.py:1639: FutureWarning: From version 0.21, test_size will always complement train_size unless both are specified.\n",
      "  FutureWarning)\n"
     ]
    },
    {
     "name": "stdout",
     "output_type": "stream",
     "text": [
      "[ . . . . . . . . . . ]\n",
      "[ . . . . . . . . . . ]\n",
      "1500 204\n"
     ]
    },
    {
     "name": "stderr",
     "output_type": "stream",
     "text": [
      "C:\\ProgramData\\Anaconda3\\lib\\site-packages\\sklearn\\model_selection\\_split.py:1639: FutureWarning: From version 0.21, test_size will always complement train_size unless both are specified.\n",
      "  FutureWarning)\n"
     ]
    },
    {
     "name": "stdout",
     "output_type": "stream",
     "text": [
      "[ . . . . . . . . . . ]\n",
      "[ . . . . . . . . . . ]\n",
      "HYBRID_WF\n",
      "80 1624\n"
     ]
    },
    {
     "name": "stderr",
     "output_type": "stream",
     "text": [
      "C:\\ProgramData\\Anaconda3\\lib\\site-packages\\sklearn\\model_selection\\_split.py:1639: FutureWarning: From version 0.21, test_size will always complement train_size unless both are specified.\n",
      "  FutureWarning)\n"
     ]
    },
    {
     "name": "stdout",
     "output_type": "stream",
     "text": [
      "[ . . . . . . . . . . ]\n",
      "[ . . . . . . . . . . ]\n",
      "160 1544\n"
     ]
    },
    {
     "name": "stderr",
     "output_type": "stream",
     "text": [
      "C:\\ProgramData\\Anaconda3\\lib\\site-packages\\sklearn\\model_selection\\_split.py:1639: FutureWarning: From version 0.21, test_size will always complement train_size unless both are specified.\n",
      "  FutureWarning)\n"
     ]
    },
    {
     "name": "stdout",
     "output_type": "stream",
     "text": [
      "[ . . . . . . . . . . ]\n",
      "[ . . . . . . . . . . ]\n",
      "240 1464\n"
     ]
    },
    {
     "name": "stderr",
     "output_type": "stream",
     "text": [
      "C:\\ProgramData\\Anaconda3\\lib\\site-packages\\sklearn\\model_selection\\_split.py:1639: FutureWarning: From version 0.21, test_size will always complement train_size unless both are specified.\n",
      "  FutureWarning)\n"
     ]
    },
    {
     "name": "stdout",
     "output_type": "stream",
     "text": [
      "[ . . . . . . . . . . ]\n",
      "[ . . . . . . . . . . ]\n",
      "320 1384\n"
     ]
    },
    {
     "name": "stderr",
     "output_type": "stream",
     "text": [
      "C:\\ProgramData\\Anaconda3\\lib\\site-packages\\sklearn\\model_selection\\_split.py:1639: FutureWarning: From version 0.21, test_size will always complement train_size unless both are specified.\n",
      "  FutureWarning)\n"
     ]
    },
    {
     "name": "stdout",
     "output_type": "stream",
     "text": [
      "[ . . . . . . . . . . ]\n",
      "[ . . . . . . . . . . ]\n",
      "400 1304\n"
     ]
    },
    {
     "name": "stderr",
     "output_type": "stream",
     "text": [
      "C:\\ProgramData\\Anaconda3\\lib\\site-packages\\sklearn\\model_selection\\_split.py:1639: FutureWarning: From version 0.21, test_size will always complement train_size unless both are specified.\n",
      "  FutureWarning)\n"
     ]
    },
    {
     "name": "stdout",
     "output_type": "stream",
     "text": [
      "[ . . . . . . . . . . ]\n",
      "[ . . . . . . . . . . ]\n",
      "480 1224\n"
     ]
    },
    {
     "name": "stderr",
     "output_type": "stream",
     "text": [
      "C:\\ProgramData\\Anaconda3\\lib\\site-packages\\sklearn\\model_selection\\_split.py:1639: FutureWarning: From version 0.21, test_size will always complement train_size unless both are specified.\n",
      "  FutureWarning)\n"
     ]
    },
    {
     "name": "stdout",
     "output_type": "stream",
     "text": [
      "[ . . . . . . . . . . ]\n",
      "[ . . . . . . . . . . ]\n",
      "640 1064\n"
     ]
    },
    {
     "name": "stderr",
     "output_type": "stream",
     "text": [
      "C:\\ProgramData\\Anaconda3\\lib\\site-packages\\sklearn\\model_selection\\_split.py:1639: FutureWarning: From version 0.21, test_size will always complement train_size unless both are specified.\n",
      "  FutureWarning)\n"
     ]
    },
    {
     "name": "stdout",
     "output_type": "stream",
     "text": [
      "[ . . . . . . . . . . ]\n",
      "[ . . . . . . . . . . ]\n",
      "880 824\n"
     ]
    },
    {
     "name": "stderr",
     "output_type": "stream",
     "text": [
      "C:\\ProgramData\\Anaconda3\\lib\\site-packages\\sklearn\\model_selection\\_split.py:1639: FutureWarning: From version 0.21, test_size will always complement train_size unless both are specified.\n",
      "  FutureWarning)\n"
     ]
    },
    {
     "name": "stdout",
     "output_type": "stream",
     "text": [
      "[ . . . . . . . . . . ]\n",
      "[ . . . . . . . . . . ]\n",
      "1000 704\n"
     ]
    },
    {
     "name": "stderr",
     "output_type": "stream",
     "text": [
      "C:\\ProgramData\\Anaconda3\\lib\\site-packages\\sklearn\\model_selection\\_split.py:1639: FutureWarning: From version 0.21, test_size will always complement train_size unless both are specified.\n",
      "  FutureWarning)\n"
     ]
    },
    {
     "name": "stdout",
     "output_type": "stream",
     "text": [
      "[ . . . . . . . . . . ]\n",
      "[ . . . . . . . . . . ]\n",
      "1280 424\n"
     ]
    },
    {
     "name": "stderr",
     "output_type": "stream",
     "text": [
      "C:\\ProgramData\\Anaconda3\\lib\\site-packages\\sklearn\\model_selection\\_split.py:1639: FutureWarning: From version 0.21, test_size will always complement train_size unless both are specified.\n",
      "  FutureWarning)\n"
     ]
    },
    {
     "name": "stdout",
     "output_type": "stream",
     "text": [
      "[ . . . . . . . . . . ]\n",
      "[ . . . . . . . . . . ]\n",
      "1500 204\n"
     ]
    },
    {
     "name": "stderr",
     "output_type": "stream",
     "text": [
      "C:\\ProgramData\\Anaconda3\\lib\\site-packages\\sklearn\\model_selection\\_split.py:1639: FutureWarning: From version 0.21, test_size will always complement train_size unless both are specified.\n",
      "  FutureWarning)\n"
     ]
    },
    {
     "name": "stdout",
     "output_type": "stream",
     "text": [
      "[ . . . . . . . . . . ]\n",
      "[ . . . . . . . . . . ]\n",
      "HYBRID_TFIDF\n",
      "80 1624\n"
     ]
    },
    {
     "name": "stderr",
     "output_type": "stream",
     "text": [
      "C:\\ProgramData\\Anaconda3\\lib\\site-packages\\sklearn\\model_selection\\_split.py:1639: FutureWarning: From version 0.21, test_size will always complement train_size unless both are specified.\n",
      "  FutureWarning)\n"
     ]
    },
    {
     "name": "stdout",
     "output_type": "stream",
     "text": [
      "[ . . . . . . . . . . ]\n",
      "[ . . . . . . . . . . ]\n",
      "160 1544\n"
     ]
    },
    {
     "name": "stderr",
     "output_type": "stream",
     "text": [
      "C:\\ProgramData\\Anaconda3\\lib\\site-packages\\sklearn\\model_selection\\_split.py:1639: FutureWarning: From version 0.21, test_size will always complement train_size unless both are specified.\n",
      "  FutureWarning)\n"
     ]
    },
    {
     "name": "stdout",
     "output_type": "stream",
     "text": [
      "[ . . . . . . . . . . ]\n",
      "[ . . . . . . . . . . ]\n",
      "240 1464\n"
     ]
    },
    {
     "name": "stderr",
     "output_type": "stream",
     "text": [
      "C:\\ProgramData\\Anaconda3\\lib\\site-packages\\sklearn\\model_selection\\_split.py:1639: FutureWarning: From version 0.21, test_size will always complement train_size unless both are specified.\n",
      "  FutureWarning)\n"
     ]
    },
    {
     "name": "stdout",
     "output_type": "stream",
     "text": [
      "[ . . . . . . . . . . ]\n",
      "[ . . . . . . . . . . ]\n",
      "320 1384\n"
     ]
    },
    {
     "name": "stderr",
     "output_type": "stream",
     "text": [
      "C:\\ProgramData\\Anaconda3\\lib\\site-packages\\sklearn\\model_selection\\_split.py:1639: FutureWarning: From version 0.21, test_size will always complement train_size unless both are specified.\n",
      "  FutureWarning)\n"
     ]
    },
    {
     "name": "stdout",
     "output_type": "stream",
     "text": [
      "[ . . . . . . . . . . ]\n",
      "[ . . . . . . . . . . ]\n",
      "400 1304\n"
     ]
    },
    {
     "name": "stderr",
     "output_type": "stream",
     "text": [
      "C:\\ProgramData\\Anaconda3\\lib\\site-packages\\sklearn\\model_selection\\_split.py:1639: FutureWarning: From version 0.21, test_size will always complement train_size unless both are specified.\n",
      "  FutureWarning)\n"
     ]
    },
    {
     "name": "stdout",
     "output_type": "stream",
     "text": [
      "[ . . . . . . . . . . ]\n",
      "[ . . . . . . . . . . ]\n",
      "480 1224\n"
     ]
    },
    {
     "name": "stderr",
     "output_type": "stream",
     "text": [
      "C:\\ProgramData\\Anaconda3\\lib\\site-packages\\sklearn\\model_selection\\_split.py:1639: FutureWarning: From version 0.21, test_size will always complement train_size unless both are specified.\n",
      "  FutureWarning)\n"
     ]
    },
    {
     "name": "stdout",
     "output_type": "stream",
     "text": [
      "[ . . . . . . . . . . ]\n",
      "[ . . . . . . . . . . ]\n",
      "640 1064\n"
     ]
    },
    {
     "name": "stderr",
     "output_type": "stream",
     "text": [
      "C:\\ProgramData\\Anaconda3\\lib\\site-packages\\sklearn\\model_selection\\_split.py:1639: FutureWarning: From version 0.21, test_size will always complement train_size unless both are specified.\n",
      "  FutureWarning)\n"
     ]
    },
    {
     "name": "stdout",
     "output_type": "stream",
     "text": [
      "[ . . . . . . . . . . ]\n",
      "[ . . . . . . . . . . ]\n",
      "880 824\n"
     ]
    },
    {
     "name": "stderr",
     "output_type": "stream",
     "text": [
      "C:\\ProgramData\\Anaconda3\\lib\\site-packages\\sklearn\\model_selection\\_split.py:1639: FutureWarning: From version 0.21, test_size will always complement train_size unless both are specified.\n",
      "  FutureWarning)\n"
     ]
    },
    {
     "name": "stdout",
     "output_type": "stream",
     "text": [
      "[ . . . . . . . . . . ]\n",
      "[ . . . . . . . . . . ]\n",
      "1000 704\n"
     ]
    },
    {
     "name": "stderr",
     "output_type": "stream",
     "text": [
      "C:\\ProgramData\\Anaconda3\\lib\\site-packages\\sklearn\\model_selection\\_split.py:1639: FutureWarning: From version 0.21, test_size will always complement train_size unless both are specified.\n",
      "  FutureWarning)\n"
     ]
    },
    {
     "name": "stdout",
     "output_type": "stream",
     "text": [
      "[ . . . . . . . . . . ]\n",
      "[ . . . . . . . . . . ]\n",
      "1280 424\n"
     ]
    },
    {
     "name": "stderr",
     "output_type": "stream",
     "text": [
      "C:\\ProgramData\\Anaconda3\\lib\\site-packages\\sklearn\\model_selection\\_split.py:1639: FutureWarning: From version 0.21, test_size will always complement train_size unless both are specified.\n",
      "  FutureWarning)\n"
     ]
    },
    {
     "name": "stdout",
     "output_type": "stream",
     "text": [
      "[ . . . . . . . . . . ]\n",
      "[ . . . . . . . . . . ]\n",
      "1500 204\n"
     ]
    },
    {
     "name": "stderr",
     "output_type": "stream",
     "text": [
      "C:\\ProgramData\\Anaconda3\\lib\\site-packages\\sklearn\\model_selection\\_split.py:1639: FutureWarning: From version 0.21, test_size will always complement train_size unless both are specified.\n",
      "  FutureWarning)\n"
     ]
    },
    {
     "name": "stdout",
     "output_type": "stream",
     "text": [
      "[ . . . . . . . . . . ]\n",
      "[ . . . . . . . . . . ]\n"
     ]
    }
   ],
   "source": [
    "import question_answering as QA\n",
    "from sklearn.model_selection import StratifiedShuffleSplit\n",
    "from sklearn.pipeline import Pipeline\n",
    "\n",
    "\n",
    "train_sizes = [80, 160, 240, 320, 400, 480, 640, 880, 1000, 1280, 1500]\n",
    "\n",
    "results = []\n",
    "\n",
    "for classifier_name in classifiers:\n",
    "    print(classifier_name)\n",
    "    for train_size in train_sizes:\n",
    "        ts = train_size\n",
    "        n_splits = 1\n",
    "        test_size = len(X) - train_size -1\n",
    "        if test_size < len(train_sizes):\n",
    "            test_size = len(train_sizes)\n",
    "        \n",
    "        print(ts,test_size)\n",
    "        \n",
    "        sss = StratifiedShuffleSplit(n_splits=n_splits, train_size=ts, )\n",
    "        rates = []\n",
    "        for train_index, _ in sss.split(X, y):\n",
    "            model = Pipeline([(\"vector_model\", classifiers[classifier_name][1]), (\"classifer\", classifiers[classifier_name][0])])\n",
    "            qc_model = model.fit(X[train_index], y[train_index])\n",
    "            QA.run(test_questions, qc_model, ir, ner_model, show_status=False)\n",
    "            rates.append(QA.correct_answer_rate(test_questions))\n",
    "        results.append({'Model':classifier_name, 'rate': sum(rates)/len(rates), 'train_size': ts})\n"
   ]
  },
  {
   "cell_type": "code",
   "execution_count": 116,
   "metadata": {},
   "outputs": [
    {
     "data": {
      "text/plain": [
       "'LOCATION'"
      ]
     },
     "execution_count": 116,
     "metadata": {},
     "output_type": "execute_result"
    }
   ],
   "source": [
    "test_questions[1]['predict_class']"
   ]
  },
  {
   "cell_type": "code",
   "execution_count": 142,
   "metadata": {},
   "outputs": [
    {
     "data": {
      "text/plain": [
       "[Text(0,0.5,'Correct Answers Rate')]"
      ]
     },
     "execution_count": 142,
     "metadata": {},
     "output_type": "execute_result"
    },
    {
     "data": {
      "image/png": "[encoded data removed]",
      "text/plain": [
       "<matplotlib.figure.Figure at 0x1b1676fe080>"
      ]
     },
     "metadata": {},
     "output_type": "display_data"
    }
   ],
   "source": [
    "import pandas as pd\n",
    "import seaborn as sns\n",
    "%matplotlib inline\n",
    "import matplotlib.pyplot as plt\n",
    "\n",
    "names = labels\n",
    "df = pd.DataFrame(results)\n",
    "\n",
    "aux = df[df.Model.map(lambda x: x in names)]\n",
    "\n",
    "sorterIndex = dict(zip(names,range(len(names))))\n",
    "aux['models_sort'] = aux['Model'].map(sorterIndex)\n",
    "aux.sort_values(['Model'], \\\n",
    "        ascending = [1], inplace = True)\n",
    "aux.drop('models_sort', 1, inplace = True)\n",
    "\n",
    "\n",
    "col_list = [\"black\", \"black\", \"black\", \"black\", \"black\"]\n",
    "col_list_palette = sns.xkcd_palette(col_list)\n",
    "#sns.set_palette(col_list_palette)\n",
    "sns.set_palette(sns.color_palette(\"muted\", 5))\n",
    "\n",
    "\n",
    "#df = df.drop('accuracy', 1).drop('precision', 1).drop('recall', 1).drop('train_size', 1)\n",
    "\n",
    "plt.figure(figsize=(12, 6))\n",
    "\n",
    "fig = sns.pointplot(x='train_size', y='rate', hue='Model', \n",
    "                    data=df[df.Model.map(lambda x: x in names)],\n",
    "                    markers=['o',7,'p','s','x'],lineheight=1)\n",
    "\n",
    "for ind, label in enumerate(fig.get_xticklabels()):\n",
    "    label.set_visible(True)\n",
    "plt.setp(fig.lines,linewidth=1.5)\n",
    "sns.set_context(\"notebook\", font_scale=1.5)\n",
    "fig.set(xlabel=\"Size of the training sample\")\n",
    "fig.set(ylabel=\"Correct Answers Rate\")"
   ]
  },
  {
   "cell_type": "code",
   "execution_count": 125,
   "metadata": {},
   "outputs": [
    {
     "data": {
      "text/plain": [
       "[{'Model': 'BoW_WF', 'rate': 0.16793893129770993, 'train_size': 80},\n",
       " {'Model': 'BoW_WF', 'rate': 0.17251908396946564, 'train_size': 160},\n",
       " {'Model': 'BoW_WF', 'rate': 0.17709923664122137, 'train_size': 320},\n",
       " {'Model': 'BoW_WF', 'rate': 0.1801526717557252, 'train_size': 640},\n",
       " {'Model': 'BoW_WF', 'rate': 0.183206106870229, 'train_size': 1280},\n",
       " {'Model': 'BoW_WF', 'rate': 0.18473282442748093, 'train_size': 1500},\n",
       " {'Model': 'BoW_TFIDF', 'rate': 0.16030534351145037, 'train_size': 80},\n",
       " {'Model': 'BoW_TFIDF', 'rate': 0.17404580152671756, 'train_size': 160},\n",
       " {'Model': 'BoW_TFIDF', 'rate': 0.17557251908396945, 'train_size': 320},\n",
       " {'Model': 'BoW_TFIDF', 'rate': 0.17709923664122137, 'train_size': 640},\n",
       " {'Model': 'BoW_TFIDF', 'rate': 0.17862595419847327, 'train_size': 1280},\n",
       " {'Model': 'BoW_TFIDF', 'rate': 0.1801526717557252, 'train_size': 1500},\n",
       " {'Model': 'W2V', 'rate': 0.12061068702290076, 'train_size': 80},\n",
       " {'Model': 'W2V', 'rate': 0.13740458015267176, 'train_size': 160},\n",
       " {'Model': 'W2V', 'rate': 0.1435114503816794, 'train_size': 320},\n",
       " {'Model': 'W2V', 'rate': 0.15725190839694655, 'train_size': 640},\n",
       " {'Model': 'W2V', 'rate': 0.15725190839694655, 'train_size': 1280},\n",
       " {'Model': 'W2V', 'rate': 0.15725190839694655, 'train_size': 1500},\n",
       " {'Model': 'HYBRID_WF', 'rate': 0.15572519083969466, 'train_size': 80},\n",
       " {'Model': 'HYBRID_WF', 'rate': 0.17251908396946564, 'train_size': 160},\n",
       " {'Model': 'HYBRID_WF', 'rate': 0.17709923664122137, 'train_size': 320},\n",
       " {'Model': 'HYBRID_WF', 'rate': 0.18625954198473282, 'train_size': 640},\n",
       " {'Model': 'HYBRID_WF', 'rate': 0.18625954198473282, 'train_size': 1280},\n",
       " {'Model': 'HYBRID_WF', 'rate': 0.18625954198473282, 'train_size': 1500},\n",
       " {'Model': 'HYBRID_TFIF', 'rate': 0.15877862595419848, 'train_size': 80},\n",
       " {'Model': 'HYBRID_TFIF', 'rate': 0.17404580152671756, 'train_size': 160},\n",
       " {'Model': 'HYBRID_TFIF', 'rate': 0.18167938931297709, 'train_size': 320},\n",
       " {'Model': 'HYBRID_TFIF', 'rate': 0.18167938931297709, 'train_size': 640},\n",
       " {'Model': 'HYBRID_TFIF', 'rate': 0.183206106870229, 'train_size': 1280},\n",
       " {'Model': 'HYBRID_TFIF', 'rate': 0.18167938931297709, 'train_size': 1500}]"
      ]
     },
     "execution_count": 125,
     "metadata": {},
     "output_type": "execute_result"
    }
   ],
   "source": [
    "results"
   ]
  },
  {
   "cell_type": "code",
   "execution_count": 135,
   "metadata": {},
   "outputs": [
    {
     "data": {
      "text/plain": [
       "<module 'manager_dataset' from 'C:\\\\Users\\\\Eduardo\\\\UFRGS\\\\QA\\\\qa-chave\\\\manager_dataset.py'>"
      ]
     },
     "execution_count": 135,
     "metadata": {},
     "output_type": "execute_result"
    }
   ],
   "source": [
    "import importlib\n",
    "importlib.reload(MD)\n",
    "#raise IpyExit"
   ]
  }
 ],
 "metadata": {
  "kernelspec": {
   "display_name": "Python 3",
   "language": "python",
   "name": "python3"
  },
  "language_info": {
   "codemirror_mode": {
    "name": "ipython",
    "version": 3
   },
   "file_extension": ".py",
   "mimetype": "text/x-python",
   "name": "python",
   "nbconvert_exporter": "python",
   "pygments_lexer": "ipython3",
   "version": "3.6.3"
  }
 },
 "nbformat": 4,
 "nbformat_minor": 2
}
