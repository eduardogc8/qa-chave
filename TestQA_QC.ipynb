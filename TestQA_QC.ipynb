{
 "cells": [
  {
   "cell_type": "markdown",
   "metadata": {},
   "source": [
    "### Obeter question do dataset"
   ]
  },
  {
   "cell_type": "code",
   "execution_count": 1,
   "metadata": {},
   "outputs": [
    {
     "name": "stdout",
     "output_type": "stream",
     "text": [
      "4376\n"
     ]
    }
   ],
   "source": [
    "import manager_dataset as MD\n",
    "\n",
    "\n",
    "questions = MD.questions(treated=True)\n",
    "print(len(questions))"
   ]
  },
  {
   "cell_type": "markdown",
   "metadata": {},
   "source": [
    "### Configurar classificadores de pergunta"
   ]
  },
  {
   "cell_type": "code",
   "execution_count": 2,
   "metadata": {},
   "outputs": [
    {
     "name": "stdout",
     "output_type": "stream",
     "text": [
      "2349\n",
      "Train: 1705 Test: 644\n"
     ]
    }
   ],
   "source": [
    "import question_processing as QP\n",
    "\n",
    "\n",
    "incosiderate_classes = ['X', 'MANNER', 'OBJECT', 'OTHER', 'DEFINITION']\n",
    "questions = QP.remove_incosiderate_classes(questions, incosiderate_classes)  # Question with incosiderate class is removed\n",
    "print(len(questions))\n",
    "train_questions, test_questions = MD.split_questions(questions)\n",
    "print('Train:', len(train_questions), 'Test:',len(test_questions))"
   ]
  },
  {
   "cell_type": "code",
   "execution_count": 50,
   "metadata": {},
   "outputs": [],
   "source": [
    "import numpy as np\n",
    "from collections import Counter, defaultdict\n",
    "from sklearn.feature_extraction.text import CountVectorizer\n",
    "from sklearn.feature_extraction.text import TfidfVectorizer\n",
    "\n",
    "\n",
    "def count_vectorizer(MIN_GRAM=1, MAX_GRAM=1, LOWER=True):\n",
    "    return CountVectorizer(analyzer=lambda x: x, strip_accents=None, ngram_range=(MIN_GRAM, MAX_GRAM), \n",
    "                           token_pattern=u'(?u)\\\\b\\\\w+\\\\b', lowercase=LOWER, max_features=1000)\n",
    "\n",
    "\n",
    "def tfidf_vectorizer(MIN_GRAM=1, MAX_GRAM=1, LOWER=True):\n",
    "    return TfidfVectorizer(analyzer=lambda x: x, strip_accents=None, ngram_range=(MIN_GRAM, MAX_GRAM), \n",
    "                           token_pattern=u'(?u)\\\\b\\\\w+\\\\b', lowercase=LOWER, max_features=1000)\n",
    "\n",
    "\n",
    "class MeanEmbeddingVectorizer(object):\n",
    "    def __init__(self, word2vec):\n",
    "        self.word2vec = word2vec\n",
    "        self.dim = len(word2vec)\n",
    "    \n",
    "    def fit(self, X, y):\n",
    "        return self\n",
    "\n",
    "    def transform(self, X):\n",
    "        ret = np.array([\n",
    "            np.mean([self.word2vec[w] for w in words if w in self.word2vec] \n",
    "                    or [np.zeros(self.dim)], axis=0)\n",
    "            for words in X\n",
    "        ])\n",
    "        return ret\n",
    "\n",
    "class HybridVectorizer(object):\n",
    "    def __init__(self, word2vec):\n",
    "        self.word2vec = word2vec\n",
    "        self.dim = len(word2vec)\n",
    "        self.bow = count_vectorizer()\n",
    "        \n",
    "    \n",
    "    def fit(self, X, y):\n",
    "        self.bow.fit(X)\n",
    "        return self\n",
    "\n",
    "    def transform(self, X):\n",
    "        ret = []\n",
    "        for sentence in X:\n",
    "            w2v = np.mean([self.word2vec[w] for w in sentence if w in self.word2vec] \n",
    "                    or [np.zeros(self.dim)], axis=0)\n",
    "            bow = self.bow.transform([sentence]).toarray()\n",
    "            ret.append(np.concatenate([w2v, bow[0]]))\n",
    "        ret = np.array(ret)\n",
    "        return ret\n",
    "\n",
    "class TfidfHybridVectorizer(object):\n",
    "    def __init__(self, word2vec):\n",
    "        self.word2vec = word2vec\n",
    "        self.dim = len(word2vec)\n",
    "        self.tf = tfidf_vectorizer()\n",
    "        \n",
    "    \n",
    "    def fit(self, X, y):\n",
    "        self.tf.fit(X)\n",
    "        return self\n",
    "\n",
    "    def transform(self, X):\n",
    "        ret = []\n",
    "        for sentence in X:\n",
    "            w2v = np.mean([self.word2vec[w] for w in sentence if w in self.word2vec] \n",
    "                    or [np.zeros(self.dim)], axis=0)\n",
    "            tf = self.tf.transform([sentence]).toarray()\n",
    "            ret.append(np.concatenate([w2v, tf[0]]))\n",
    "        ret = np.array(ret)\n",
    "        return ret\n",
    "\n",
    "class SequenceHybridVectorizer(object):\n",
    "    def __init__(self, word2vec, tfidf=False):\n",
    "        self.word2vec = word2vec\n",
    "        self.dim = len(word2vec)\n",
    "        self.word2weight = None\n",
    "        self.tfidf = tfidf\n",
    "        self.bow = count_vectorizer()\n",
    "        \n",
    "    \n",
    "    def fit(self, X, y):\n",
    "        self.bow.fit(X)\n",
    "        tfidf = tfidf_vectorizer()\n",
    "        tfidf.fit(X)\n",
    "        max_idf = max(tfidf.idf_)\n",
    "        self.word2weight = defaultdict(\n",
    "            lambda: max_idf, \n",
    "            [(w, tfidf.idf_[i]) for w, i in tfidf.vocabulary_.items()])\n",
    "        return self\n",
    "\n",
    "    def transform(self, X):\n",
    "        ret = []\n",
    "        for sentence in X:\n",
    "            vector = np.array([])\n",
    "            maxWords = 32\n",
    "            count = 0\n",
    "            for word in sentence:\n",
    "                if count < maxWords:\n",
    "                    if word in self.word2vec:\n",
    "                        count += 1\n",
    "                        if self.tfidf:\n",
    "                            vector = np.concatenate([vector, self.word2vec[word] * self.word2weight[word]])\n",
    "                        else:\n",
    "                            vector = np.concatenate([vector, self.word2vec[word]])\n",
    "            for i in range(maxWords-count):\n",
    "                vector = np.concatenate([vector, np.zeros(self.dim)])\n",
    "            bow = self.bow.transform([sentence]).toarray()\n",
    "            vector = np.concatenate([vector, bow[0]])\n",
    "            ret.append(vector)\n",
    "        \n",
    "        ret = np.array(ret)\n",
    "        return ret"
   ]
  },
  {
   "cell_type": "markdown",
   "metadata": {},
   "source": [
    "#### Carregar modelo W2V"
   ]
  },
  {
   "cell_type": "code",
   "execution_count": 4,
   "metadata": {},
   "outputs": [
    {
     "name": "stderr",
     "output_type": "stream",
     "text": [
      "C:\\Users\\55519\\Anaconda3\\lib\\site-packages\\gensim\\utils.py:1197: UserWarning: detected Windows; aliasing chunkize to chunkize_serial\n",
      "  warnings.warn(\"detected Windows; aliasing chunkize to chunkize_serial\")\n",
      "C:\\Users\\55519\\Anaconda3\\lib\\site-packages\\ipykernel_launcher.py:6: DeprecationWarning: Call to deprecated `syn0` (Attribute will be removed in 4.0.0, use self.wv.vectors instead).\n",
      "  \n"
     ]
    },
    {
     "name": "stdout",
     "output_type": "stream",
     "text": [
      "Wall time: 3min 37s\n"
     ]
    }
   ],
   "source": [
    "%%time\n",
    "from gensim.models import KeyedVectors\n",
    "\n",
    "w2v_patch = 'data/word_embedding/cbow_s300.txt'\n",
    "#w2v_patch = 'data/word_embedding/cbow_s50.txt'  # Fast test\n",
    "w2v = KeyedVectors.load_word2vec_format(w2v_patch, unicode_errors=\"ignore\")\n",
    "model_w2v = {w: vec for w, vec in zip(w2v.index2word, w2v.syn0)}"
   ]
  },
  {
   "cell_type": "markdown",
   "metadata": {},
   "source": [
    "#### Definir classificadores"
   ]
  },
  {
   "cell_type": "code",
   "execution_count": 61,
   "metadata": {},
   "outputs": [],
   "source": [
    "from sklearn.svm import LinearSVC\n",
    "\n",
    "\n",
    "labels = [\"BOW\", \n",
    "          \"TFIDF\", \n",
    "          \"W2V\",\n",
    "          \"HYBRID\"]\n",
    "\n",
    "#labels = [\"BOW\", \"HYBRID\"]\n",
    "\n",
    "classifiers = {}  # {'classifier': (VectorizeModel, Classifier)}\n",
    "\n",
    "\n",
    "classifiers[labels[0]] = (LinearSVC(), count_vectorizer())\n",
    "classifiers[labels[1]] = (LinearSVC(), tfidf_vectorizer())\n",
    "classifiers[labels[2]] = (LinearSVC(), MeanEmbeddingVectorizer(model_w2v))\n",
    "classifiers[labels[3]] = (LinearSVC(), QP.HybridVectorizer(model_w2v))\n",
    "#classifiers[labels[3]] = (LinearSVC(), TfidfHybridVectorizer(model_w2v))\n",
    "\n",
    "\n",
    "#classifiers[labels[0]] = (LinearSVC(), count_vectorizer())\n",
    "#classifiers[labels[1]] = (LinearSVC(), HybridVectorizer(model_w2v))"
   ]
  },
  {
   "cell_type": "markdown",
   "metadata": {},
   "source": [
    "### Carregar modelo de NER"
   ]
  },
  {
   "cell_type": "code",
   "execution_count": 6,
   "metadata": {},
   "outputs": [],
   "source": [
    "import named_entity_recognition as NER\n",
    "import dill\n",
    "ner_model = dill.load(open(NER.file_ner, 'rb'))"
   ]
  },
  {
   "cell_type": "markdown",
   "metadata": {},
   "source": [
    "### Carregar modelo de IR"
   ]
  },
  {
   "cell_type": "code",
   "execution_count": 7,
   "metadata": {
    "scrolled": true
   },
   "outputs": [
    {
     "name": "stdout",
     "output_type": "stream",
     "text": [
      "Retrieval Documents [ . . . . . . . . . . ]\n",
      "Passages Retrieval [ . . . . . . . . . . ]\n",
      "Wall time: 2min 7s\n"
     ]
    }
   ],
   "source": [
    "%%time\n",
    "import information_retrieval as IR\n",
    "ir = IR.InformationRetrieval()\n",
    "ir.start(reset=False)\n",
    "QP.queryFormulation(test_questions)\n",
    "ir.retrievalDocuments(test_questions)\n",
    "IR.retrievalPassagesQuestions(test_questions, ner_model, ir, answer_type=False)"
   ]
  },
  {
   "cell_type": "markdown",
   "metadata": {},
   "source": [
    "### Realizar Testes"
   ]
  },
  {
   "cell_type": "code",
   "execution_count": 62,
   "metadata": {},
   "outputs": [],
   "source": [
    "import numpy as np\n",
    "import random\n",
    "\n",
    "X, y = QP.separete_questions(train_questions)\n",
    "\n",
    "c = list(zip(X, y))\n",
    "random.seed(1)  # 1\n",
    "random.shuffle(c)\n",
    "X, y = zip(*c)\n",
    "\n",
    "\n",
    "X = np.array(X)\n",
    "y = np.array(y)"
   ]
  },
  {
   "cell_type": "code",
   "execution_count": 9,
   "metadata": {},
   "outputs": [],
   "source": [
    "import warnings\n",
    "\n",
    "\n",
    "warnings.filterwarnings('ignore')"
   ]
  },
  {
   "cell_type": "code",
   "execution_count": 63,
   "metadata": {},
   "outputs": [
    {
     "name": "stdout",
     "output_type": "stream",
     "text": [
      "\n",
      "80: BOW TFIDF W2V HYBRID \n",
      "160: BOW TFIDF W2V HYBRID \n",
      "240: BOW TFIDF W2V HYBRID \n",
      "320: BOW TFIDF W2V HYBRID \n",
      "400: BOW TFIDF W2V HYBRID \n",
      "480: BOW TFIDF W2V HYBRID \n",
      "560: BOW TFIDF W2V HYBRID \n",
      "640: BOW TFIDF W2V HYBRID \n",
      "720: BOW TFIDF W2V HYBRID \n",
      "800: BOW TFIDF W2V HYBRID \n",
      "880: BOW TFIDF W2V HYBRID \n",
      "960: BOW TFIDF W2V HYBRID \n",
      "1040: BOW TFIDF W2V HYBRID \n",
      "1120: BOW TFIDF W2V HYBRID \n",
      "1200: BOW TFIDF W2V HYBRID \n",
      "1280: BOW TFIDF W2V HYBRID \n",
      "1360: BOW TFIDF W2V HYBRID \n",
      "1440: BOW TFIDF W2V HYBRID \n",
      "1520: BOW TFIDF W2V HYBRID \n",
      "1600: BOW TFIDF W2V HYBRID \n",
      "1680: BOW TFIDF W2V HYBRID \n",
      "Wall time: 16min 3s\n"
     ]
    }
   ],
   "source": [
    "%%time\n",
    "import question_answering as QA\n",
    "from sklearn.pipeline import Pipeline\n",
    "from sklearn.model_selection import train_test_split\n",
    "from sklearn.metrics import accuracy_score, f1_score\n",
    "\n",
    "\n",
    "def testing(qc_model, X_test, y_test):\n",
    "    result = model.predict(X_test)\n",
    "    return accuracy_score(result, y_test), f1_score(result, y_test, average=\"macro\")\n",
    "\n",
    "X_test, y_test = QP.separete_questions(test_questions)\n",
    "\n",
    "results = []\n",
    "qc_results = []\n",
    "n = 80\n",
    "k = 2\n",
    "size_train = 0\n",
    "\n",
    "while (size_train + n) <= len(X):\n",
    "    size_train += n\n",
    "    print ('\\n'+str(size_train), end=': ')\n",
    "    for classifier_name in classifiers:\n",
    "        print(classifier_name, end=' ')\n",
    "        rates = []\n",
    "        qc_rates = []\n",
    "        \n",
    "        for i in range(k):\n",
    "            xx, _, yy, _ = train_test_split(X, y, train_size=size_train, shuffle=True, random_state=i)\n",
    "            model = Pipeline([(\"vector_model\", classifiers[classifier_name][1]), (\"classifer\", classifiers[classifier_name][0])])\n",
    "            qc_model = model.fit(xx, yy)\n",
    "            QA.run(test_questions, qc_model, ir, ner_model, printing=False)\n",
    "            rates.append(QA.correct_answer_rate(test_questions))\n",
    "            \n",
    "            acc, f1 = testing(qc_model, X_test, y_test)\n",
    "            qc_rates.append(acc)\n",
    "        \n",
    "        results.append({'Model':classifier_name, 'rate': sum(rates)/len(rates), 'train_size': size_train})\n",
    "        qc_results.append({'Model':classifier_name, 'f1': sum(qc_rates)/len(qc_rates), 'train_size': size_train})\n",
    "\n",
    "print('')"
   ]
  },
  {
   "cell_type": "markdown",
   "metadata": {},
   "source": [
    "### Plot"
   ]
  },
  {
   "cell_type": "code",
   "execution_count": 66,
   "metadata": {},
   "outputs": [
    {
     "data": {
      "text/plain": [
       "[Text(0,0.5,'Correct Answers Rate')]"
      ]
     },
     "execution_count": 66,
     "metadata": {},
     "output_type": "execute_result"
    },
    {
     "data": {
      "image/png": "[encoded data removed]",
      "text/plain": [
       "<matplotlib.figure.Figure at 0x20340614390>"
      ]
     },
     "metadata": {},
     "output_type": "display_data"
    }
   ],
   "source": [
    "import pandas as pd\n",
    "import seaborn as sns\n",
    "%matplotlib inline\n",
    "import matplotlib.pyplot as plt\n",
    "\n",
    "names = labels\n",
    "df = pd.DataFrame(results)\n",
    "\n",
    "aux = df[df.Model.map(lambda x: x in names)]\n",
    "\n",
    "sorterIndex = dict(zip(names,range(len(names))))\n",
    "aux['models_sort'] = aux['Model'].map(sorterIndex)\n",
    "aux.sort_values(['Model'], \\\n",
    "        ascending = [1], inplace = True)\n",
    "aux.drop('models_sort', 1, inplace = True)\n",
    "\n",
    "\n",
    "col_list = [\"black\", \"black\", \"black\", \"black\", \"black\"]\n",
    "col_list_palette = sns.xkcd_palette(col_list)\n",
    "#sns.set_palette(col_list_palette)\n",
    "sns.set_palette(sns.color_palette(\"muted\", 5))\n",
    "\n",
    "\n",
    "#df = df.drop('accuracy', 1).drop('precision', 1).drop('recall', 1).drop('train_size', 1)\n",
    "\n",
    "plt.figure(figsize=(8, 4))\n",
    "\n",
    "fig = sns.pointplot(x='train_size', y='rate', hue='Model', \n",
    "                    data=df[df.Model.map(lambda x: x in names)],\n",
    "                    #markers=['o',7,'p','s','x'],\n",
    "                    markers=['','','',''],\n",
    "                    lineheight=1)\n",
    "\n",
    "for ind, label in enumerate(fig.get_xticklabels()):\n",
    "    if ind == 0 or ind == 5 or ind == 10 or ind == 15 or ind == 20:\n",
    "        label.set_visible(True)\n",
    "    else:\n",
    "        label.set_visible(False)\n",
    "plt.setp(fig.lines,linewidth=1.5)\n",
    "sns.set_context(\"notebook\", font_scale=1.5)\n",
    "fig.set(xlabel=\"Size of the training sample\")\n",
    "fig.set(ylabel=\"Correct Answers Rate\")"
   ]
  },
  {
   "cell_type": "code",
   "execution_count": 14,
   "metadata": {},
   "outputs": [
    {
     "data": {
      "text/plain": [
       "[Text(0,0.5,'F-Score')]"
      ]
     },
     "execution_count": 14,
     "metadata": {},
     "output_type": "execute_result"
    },
    {
     "data": {
      "image/png": "[encoded data removed]",
      "text/plain": [
       "<matplotlib.figure.Figure at 0x2033ebd3b00>"
      ]
     },
     "metadata": {},
     "output_type": "display_data"
    }
   ],
   "source": [
    "import pandas as pd\n",
    "import seaborn as sns\n",
    "%matplotlib inline\n",
    "import matplotlib.pyplot as plt\n",
    "\n",
    "names = labels\n",
    "df = pd.DataFrame(qc_results)\n",
    "\n",
    "aux = df[df.Model.map(lambda x: x in names)]\n",
    "\n",
    "sorterIndex = dict(zip(names,range(len(names))))\n",
    "aux['models_sort'] = aux['Model'].map(sorterIndex)\n",
    "aux.sort_values(['Model'], \\\n",
    "        ascending = [1], inplace = True)\n",
    "aux.drop('models_sort', 1, inplace = True)\n",
    "\n",
    "\n",
    "col_list = [\"black\", \"black\", \"black\", \"black\", \"black\"]\n",
    "col_list_palette = sns.xkcd_palette(col_list)\n",
    "#sns.set_palette(col_list_palette)\n",
    "sns.set_palette(sns.color_palette(\"muted\", 5))\n",
    "\n",
    "\n",
    "#df = df.drop('accuracy', 1).drop('precision', 1).drop('recall', 1).drop('train_size', 1)\n",
    "\n",
    "plt.figure(figsize=(12, 6))\n",
    "\n",
    "fig = sns.pointplot(x='train_size', y='f1', hue='Model', \n",
    "                    data=df[df.Model.map(lambda x: x in names)],\n",
    "                    markers=['o',7,'p','s','x'],lineheight=1)\n",
    "\n",
    "for ind, label in enumerate(fig.get_xticklabels()):\n",
    "    if ind == 0 or ind == 5 or ind == 10 or ind == 15 or ind == 20:\n",
    "        label.set_visible(True)\n",
    "    else:\n",
    "        label.set_visible(False)\n",
    "plt.setp(fig.lines,linewidth=1.5)\n",
    "sns.set_context(\"notebook\", font_scale=1.5)\n",
    "fig.set(xlabel=\"Size of the training sample\")\n",
    "fig.set(ylabel=\"F-Score\")"
   ]
  },
  {
   "cell_type": "code",
   "execution_count": 16,
   "metadata": {},
   "outputs": [
    {
     "data": {
      "text/plain": [
       "dict_keys(['id', 'id_org', 'year', 'category', 'type', 'class', 'predict_class', 'ling', 'restriction', 'answers', 'extracts', 'question', 'query', 'retrieval', 'passages', 'correct_answer_type', 'answer_candidates', 'final_answer', 'correct_final_answer'])"
      ]
     },
     "execution_count": 16,
     "metadata": {},
     "output_type": "execute_result"
    }
   ],
   "source": [
    "test_questions[0].keys()"
   ]
  },
  {
   "cell_type": "code",
   "execution_count": 37,
   "metadata": {},
   "outputs": [
    {
     "data": {
      "text/plain": [
       "'G'"
      ]
     },
     "execution_count": 37,
     "metadata": {},
     "output_type": "execute_result"
    }
   ],
   "source": [
    "test_questions[133]['final_answer']"
   ]
  },
  {
   "cell_type": "code",
   "execution_count": 32,
   "metadata": {},
   "outputs": [
    {
     "name": "stdout",
     "output_type": "stream",
     "text": [
      "120\n",
      "133\n",
      "367\n",
      "384\n",
      "388\n",
      "460\n",
      "503\n",
      "7\n"
     ]
    }
   ],
   "source": [
    "c = 0\n",
    "for i, q in enumerate(test_questions):\n",
    "    if q['correct_final_answer'] and not q['correct_answer_type']:\n",
    "        print(i)\n",
    "        #print(q)\n",
    "        c += 1\n",
    "        \n",
    "print(c)"
   ]
  },
  {
   "cell_type": "code",
   "execution_count": null,
   "metadata": {},
   "outputs": [],
   "source": [
    "import scipy\n",
    "\n",
    "a = []\n",
    "b = []\n",
    "\n",
    "for t in results:\n",
    "    if t['Model'] == labels[3]:\n",
    "        a.append(t['rate'])\n",
    "    if t['Model'] == labels[0]:\n",
    "        b.append(t['rate'])\n",
    "\n",
    "scipy.stats.ttest_ind(a, b)"
   ]
  },
  {
   "cell_type": "markdown",
   "metadata": {},
   "source": [
    "### Util"
   ]
  },
  {
   "cell_type": "code",
   "execution_count": 42,
   "metadata": {},
   "outputs": [
    {
     "data": {
      "text/plain": [
       "<module 'question_answering' from 'C:\\\\Users\\\\55519\\\\UFRGS\\\\QA\\\\qa-chave\\\\question_answering.py'>"
      ]
     },
     "execution_count": 42,
     "metadata": {},
     "output_type": "execute_result"
    }
   ],
   "source": [
    "import importlib\n",
    "importlib.reload(QA)\n",
    "#raise IpyExit"
   ]
  },
  {
   "cell_type": "code",
   "execution_count": null,
   "metadata": {},
   "outputs": [],
   "source": [
    "labels = [\"BoW_WF\", \n",
    "          \"BoW_TFIDF\", \n",
    "          \"W2V\",\n",
    "          \"HYBRID_WF\",\n",
    "          \"HYBRID_TFIDF\"]"
   ]
  }
 ],
 "metadata": {
  "kernelspec": {
   "display_name": "Python 3",
   "language": "python",
   "name": "python3"
  },
  "language_info": {
   "codemirror_mode": {
    "name": "ipython",
    "version": 3
   },
   "file_extension": ".py",
   "mimetype": "text/x-python",
   "name": "python",
   "nbconvert_exporter": "python",
   "pygments_lexer": "ipython3",
   "version": "3.6.4"
  }
 },
 "nbformat": 4,
 "nbformat_minor": 2
}
